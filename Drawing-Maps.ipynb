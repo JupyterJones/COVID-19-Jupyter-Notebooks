{
 "cells": [
  {
   "cell_type": "code",
   "execution_count": null,
   "metadata": {},
   "outputs": [],
   "source": [
    "https://anthonylouisdagostino.com/bounding-boxes-for-all-us-states/\n",
    "    https://gist.githubusercontent.com/a8dx/2340f9527af64f8ef8439366de981168/raw/81d876daea10eab5c2675811c39bcd18a79a9212/US_State_Bounding_Boxes.csv"
   ]
  },
  {
   "cell_type": "code",
   "execution_count": null,
   "metadata": {},
   "outputs": [],
   "source": [
    "https://pypi.org/project/pygdaltools/\n",
    "https://hifld-geoplatform.opendata.arcgis.com/    \n",
    "https://eric.clst.org/tech/usgeojson/    "
   ]
  },
  {
   "cell_type": "code",
   "execution_count": null,
   "metadata": {},
   "outputs": [],
   "source": [
    "topics to explore:\n",
    "    https://github.com/unitedstates/python-us\n",
    "    https://pythonhosted.org/Python%20Shapefile%20Library/    \n",
    "    ogr2ogr python"
   ]
  },
  {
   "cell_type": "code",
   "execution_count": 5,
   "metadata": {},
   "outputs": [
    {
     "name": "stdout",
     "output_type": "stream",
     "text": [
      "Sat_04_Apr_2020_11_12_30_PM_GMT.html\n",
      "/home/jack/Desktop/state-data/DATA/US_State_Bounding_Boxes.csv\n",
      "Opening:  /home/jack/Desktop/state-data/DATA/US_State_Bounding_Boxes.csv\n",
      "\"STATEFP\"\n"
     ]
    }
   ],
   "source": [
    "import sqlite3\n",
    "from datetime import datetime\n",
    "from time import gmtime, strftime\n",
    "import glob\n",
    "import time\n",
    "import os\n",
    "import requests\n",
    "if not os.path.exists('/home/jack/Desktop/state-data/DATA'):\n",
    "    os.makedirs('/home/jack/Desktop/state-data/DATA')\n",
    "print (time.strftime('%a_%d_%b_%Y_%I_%M_%S_%p_%Z', time.gmtime())+\".html\")\n",
    "filename = \"/home/jack/Desktop/state-data/DATA/US_State_Bounding_Boxes.csv\"\n",
    "DataIn = open(filename,\"w\")\n",
    "\n",
    "BoundingBoxes = \"\"\n",
    "response = requests.get('https://gist.githubusercontent.com/a8dx/2340f9527af64f8ef8439366de981168/raw/81d876daea10eab5c2675811c39bcd18a79a9212/US_State_Bounding_Boxes.csv')\n",
    "DATA = str(response.content)\n",
    "\n",
    "stringTEXT = stringTEXT+DATA\n",
    "DataIn.write(str(listTEXT))\n",
    "DataIn.close()\n",
    "print(filename)\n",
    "File = \"/home/jack/Desktop/state-data/DATA/US_State_Bounding_Boxes.csv\"\n",
    "print (\"Opening: \",File)\n",
    "DataOut = open(File, \"r\").readlines()\n",
    "cnt= 0\n",
    "for items in DataOut:\n",
    "    if cnt==1:print(items)\n",
    "    cnt=cnt+1\n",
    "    if cnt<5:\n",
    "        items = dataout.split(',')\n",
    "        print(items[1])"
   ]
  },
  {
   "cell_type": "code",
   "execution_count": 1,
   "metadata": {},
   "outputs": [
    {
     "name": "stdout",
     "output_type": "stream",
     "text": [
      "CleanCorona.db\t       CoronaData.db\r\n",
      "CoronaData2-bak.db     Thu_02_Apr_2020_03_49_38_AM_GMT.html\r\n",
      "CoronaData2.db\t       Thu_02_Apr_2020_05_49_38_AM_GMT.html\r\n",
      "CoronaData2.db-april3  Thu_02_Apr_2020_10_54_38_PM_GMTN.html\r\n",
      "CoronaData3.db\r\n"
     ]
    }
   ],
   "source": [
    "!ls DATA"
   ]
  },
  {
   "cell_type": "code",
   "execution_count": 9,
   "metadata": {},
   "outputs": [
    {
     "name": "stdout",
     "output_type": "stream",
     "text": [
      "Opening:  /home/jack/Desktop/state-data/DATA/US_State_Bounding_Boxes.csv\n",
      "['b\\'\"\",\"STATEFP\",\"STUSPS\",\"NAME\",\"xmin\",\"ymin\",\"xmax\",\"ymax\"\\\n",
      "\"1\",\"01\",\"AL\",\"Alabama\",-88.473227,30.223334,-84.88908,35.008028\\\n",
      "\"2\",\"02\",\"AK\",\"Alaska\",-179.148909,51.214183,179.77847,71.365162\\\n",
      "\"3\",\"60\",\"AS\",\"American Samoa\",-171.089874,-14.548699,-168.1433,-11.046934\\\n",
      "\"4\",\"04\",\"AZ\",\"Arizona\",-114.81651,31.332177,-109.045223,37.00426\\\n",
      "\"5\",\"05\",\"AR\",\"Arkansas\",-94.617919,33.004106,-89.644395,36.4996\\\n",
      "\"6\",\"06\",\"CA\",\"California\",-124.409591,32.534156,-114.131211,42.009518\\\n",
      "\"7\",\"08\",\"CO\",\"Colorado\",-109.060253,36.992426,-102.041524,41.003444\\\n",
      "\"8\",\"69\",\"MP\",\"Commonwealth of the Northern Mariana Islands\",144.886331,14.110472,146.064818,20.553802\\\n",
      "\"9\",\"09\",\"CT\",\"Connecticut\",-73.727775,40.980144,-71.786994,42.050587\\\n",
      "\"10\",\"10\",\"DE\",\"Delaware\",-75.788658,38.451013,-75.048939,39.839007\\\n",
      "\"11\",\"11\",\"DC\",\"District of Columbia\",-77.119759,38.791645,-76.909395,38.99511\\\n",
      "\"12\",\"12\",\"FL\",\"Florida\",-87.634938,24.523096,-80.031362,31.000888\\\n",
      "\"13\",\"13\",\"GA\",\"Georgia\",-85.605165,30.357851,-80.839729,35.000659\\\n",
      "\"14\",\"66\",\"GU\",\"Guam\",144.618068,13.234189,144.956712,13.654383\\\n",
      "\"15\",\"15\",\"HI\",\"Hawaii\",-178.334698,18.910361,-154.806773,28.402123\\\n",
      "\"16\",\"16\",\"ID\",\"Idaho\",-117.243027,41.988057,-111.043564,49.001146\\\n",
      "\"17\",\"17\",\"IL\",\"Illinois\",-91.513079,36.970298,-87.494756,42.508481\\\n",
      "\"18\",\"18\",\"IN\",\"Indiana\",-88.09776,37.771742,-84.784579,41.760592\\\n",
      "\"19\",\"19\",\"IA\",\"Iowa\",-96.639704,40.375501,-90.140061,43.501196\\\n",
      "\"20\",\"20\",\"KS\",\"Kansas\",-102.051744,36.993016,-94.588413,40.003162\\\n",
      "\"21\",\"21\",\"KY\",\"Kentucky\",-89.571509,36.497129,-81.964971,39.147458\\\n",
      "\"22\",\"22\",\"LA\",\"Louisiana\",-94.043147,28.928609,-88.817017,33.019457\\\n",
      "\"23\",\"23\",\"ME\",\"Maine\",-71.083924,42.977764,-66.949895,47.459686\\\n",
      "\"24\",\"24\",\"MD\",\"Maryland\",-79.487651,37.911717,-75.048939,39.723043\\\n",
      "\"25\",\"25\",\"MA\",\"Massachusetts\",-73.508142,41.237964,-69.928393,42.886589\\\n",
      "\"26\",\"26\",\"MI\",\"Michigan\",-90.418136,41.696118,-82.413474,48.2388\\\n",
      "\"27\",\"27\",\"MN\",\"Minnesota\",-97.239209,43.499356,-89.491739,49.384358\\\n",
      "\"28\",\"28\",\"MS\",\"Mississippi\",-91.655009,30.173943,-88.097888,34.996052\\\n",
      "\"29\",\"29\",\"MO\",\"Missouri\",-95.774704,35.995683,-89.098843,40.61364\\\n",
      "\"30\",\"30\",\"MT\",\"Montana\",-116.050003,44.358221,-104.039138,49.00139\\\n",
      "\"31\",\"31\",\"NE\",\"Nebraska\",-104.053514,39.999998,-95.30829,43.001708\\\n",
      "\"32\",\"32\",\"NV\",\"Nevada\",-120.005746,35.001857,-114.039648,42.002207\\\n",
      "\"33\",\"33\",\"NH\",\"New Hampshire\",-72.557247,42.69699,-70.610621,45.305476\\\n",
      "\"34\",\"34\",\"NJ\",\"New Jersey\",-75.559614,38.928519,-73.893979,41.357423\\\n",
      "\"35\",\"35\",\"NM\",\"New Mexico\",-109.050173,31.332301,-103.001964,37.000232\\\n",
      "\"36\",\"36\",\"NY\",\"New York\",-79.762152,40.496103,-71.856214,45.01585\\\n",
      "\"37\",\"37\",\"NC\",\"North Carolina\",-84.321869,33.842316,-75.460621,36.588117\\\n",
      "\"38\",\"38\",\"ND\",\"North Dakota\",-104.0489,45.935054,-96.554507,49.000574\\\n",
      "\"39\",\"39\",\"OH\",\"Ohio\",-84.820159,38.403202,-80.518693,41.977523\\\n",
      "\"40\",\"40\",\"OK\",\"Oklahoma\",-103.002565,33.615833,-94.430662,37.002206\\\n",
      "\"41\",\"41\",\"OR\",\"Oregon\",-124.566244,41.991794,-116.463504,46.292035\\\n",
      "\"42\",\"42\",\"PA\",\"Pennsylvania\",-80.519891,39.7198,-74.689516,42.26986\\\n",
      "\"43\",\"72\",\"PR\",\"Puerto Rico\",-67.945404,17.88328,-65.220703,18.515683\\\n",
      "\"44\",\"44\",\"RI\",\"Rhode Island\",-71.862772,41.146339,-71.12057,42.018798\\\n",
      "\"45\",\"45\",\"SC\",\"South Carolina\",-83.35391,32.0346,-78.54203,35.215402\\\n",
      "\"46\",\"46\",\"SD\",\"South Dakota\",-104.057698,42.479635,-96.436589,45.94545\\\n",
      "\"47\",\"47\",\"TN\",\"Tennessee\",-90.310298,34.982972,-81.6469,36.678118\\\n",
      "\"48\",\"48\",\"TX\",\"Texas\",-106.645646,25.837377,-93.508292,36.500704\\\n",
      "\"49\",\"78\",\"VI\",\"United States Virgin Islands\",-65.085452,17.673976,-64.564907,18.412655\\\n",
      "\"50\",\"49\",\"UT\",\"Utah\",-114.052962,36.997968,-109.041058,42.001567\\\n",
      "\"51\",\"50\",\"VT\",\"Vermont\",-73.43774,42.726853,-71.464555,45.016659\\\n",
      "\"52\",\"51\",\"VA\",\"Virginia\",-83.675395,36.540738,-75.242266,39.466012\\\n",
      "\"53\",\"53\",\"WA\",\"Washington\",-124.763068,45.543541,-116.915989,49.002494\\\n",
      "\"54\",\"54\",\"WV\",\"West Virginia\",-82.644739,37.201483,-77.719519,40.638801\\\n",
      "\"55\",\"55\",\"WI\",\"Wisconsin\",-92.888114,42.491983,-86.805415,47.080621\\\n",
      "\"56\",\"56\",\"WY\",\"Wyoming\",-111.056888,40.994746,-104.05216,45.005904\\\n",
      "\\'']\n"
     ]
    }
   ],
   "source": [
    "File = \"/home/jack/Desktop/state-data/DATA/US_State_Bounding_Boxes.csv\"\n",
    "print (\"Opening: \",File)\n",
    "BOXES = []\n",
    "BOXES.append(DATA)\n",
    "DataOut = open(File, \"r\").read()\n",
    "cnt= 0\n",
    "DataOut = DataOut.split(\"\\\\n\")\n",
    "for items in DataOut:\n",
    "    print(items)\n",
    "    BOXES.append(items)"
   ]
  },
  {
   "cell_type": "code",
   "execution_count": 6,
   "metadata": {},
   "outputs": [
    {
     "name": "stdout",
     "output_type": "stream",
     "text": [
      "Opening:  /home/jack/Desktop/state-data/DATA/US_State_Bounding_Boxes.csv\n",
      "\"STATEFP\"\n"
     ]
    }
   ],
   "source": [
    "File = \"/home/jack/Desktop/state-data/DATA/US_State_Bounding_Boxes.csv\"\n",
    "print (\"Opening: \",File)\n",
    "DataOut = open(File, \"r\").readlines()\n",
    "cnt= 0\n",
    "for items in DataOut:\n",
    "    if cnt==1:print(items)\n",
    "    cnt=cnt+1\n",
    "    if cnt<5:\n",
    "        items = dataout.split(',')\n",
    "        print(items[1])"
   ]
  },
  {
   "cell_type": "code",
   "execution_count": null,
   "metadata": {},
   "outputs": [],
   "source": [
    "\n",
    "File = \"/home/jack/Desktop/state-data/DATA/US_State_Bounding_Boxes.csv\"\n",
    "print (\"Opening: \",File)\n",
    "DataOut = open(File, \"r\").read()\n",
    "dataout = DataOut\n",
    "dataout = str(dataout)\n",
    "dataout = dataout.replace(\"March\",\"\\n\\n\\nXXXXXXXXMarch\")\n",
    "dataout = dataout.replace(\"<strong>\",\"\")\n",
    "dataout = dataout.replace(\"</strong>\",\"\")\n",
    "dataout = dataout.replace(\">\",\"\")\n",
    "dataout= dataout.split(\"XXXXXXXX\")\n",
    "data = (dataout[1][0:129])\n",
    "time = datetime.now().strftime(\"%B %d, %Y %I:%M%p\")\n",
    "conn2=sqlite3.connect(\"/home/jack/Desktop/state-data/DATA/CoronaData2.db\")\n",
    "c2 = conn2.cursor()\n",
    "c2.execute(\"CREATE TABLE IF NOT EXISTS CORONA( TEXT UNIQUE)\")\n",
    "c2.execute(\"INSERT OR IGNORE into CORONA values (?)\",(data,))    \n",
    "conn2.commit()\n",
    "conn2.close()\n",
    "conn=sqlite3.connect(\"/home/jack/Desktop/state-data/DATA/CoronaData.db\")    \n",
    "c = conn.cursor()\n",
    "sql = '''create table if not exists CORONA(\n",
    "         Filename, text\n",
    "         Time text,\n",
    "         data TEXT);'''\n",
    "conn.execute(sql)\n",
    "c.execute(\"insert into CORONA values (?,?,?)\",(File,time,data))    \n",
    "conn.commit()\n",
    "conn.close()\n",
    "\n",
    "conn=sqlite3.connect(\"DATA/CoronaData.db\")\n",
    "c= conn.cursor()\n",
    "for row in c.execute('SELECT rowid,* from CORONA'):\n",
    "     print (row[0],row[1],row[2],row[3])\n",
    "conn.close()"
   ]
  },
  {
   "cell_type": "code",
   "execution_count": null,
   "metadata": {},
   "outputs": [],
   "source": [
    "import sqlite3\n",
    "from datetime import datetime\n",
    "from time import gmtime, strftime\n",
    "import glob\n",
    "import time\n",
    "import os\n",
    "import requests\n",
    "if not os.path.exists('DATA'):\n",
    "    os.makedirs('DATA')\n",
    "print (time.strftime('%a_%d_%b_%Y_%I_%M_%S_%p_%Z', time.gmtime())+\".html\")\n",
    "filename = \"DATA/\"+(time.strftime('%a_%d_%b_%Y_%I_%M_%S_%p_%Z', time.gmtime())+\".html\")\n",
    "DataIn = open(filename,\"w\")\n",
    "listTEXT = []\n",
    "stringTEXT = \"\"\n",
    "response = requests.get('https://gist.githubusercontent.com/a8dx/2340f9527af64f8ef8439366de981168/raw/81d876daea10eab5c2675811c39bcd18a79a9212/US_State_Bounding_Boxes.csv')\n",
    "DATA = str(response.content)\n",
    "listTEXT.append(DATA)\n",
    "stringTEXT = stringTEXT+DATA\n",
    "DataIn.write(str(listTEXT))\n",
    "DataIn.close()\n",
    "print(filename)"
   ]
  },
  {
   "cell_type": "code",
   "execution_count": null,
   "metadata": {},
   "outputs": [],
   "source": [
    "import sqlite3\n",
    "from datetime import datetime\n",
    "from time import gmtime, strftime\n",
    "import glob\n",
    "import time\n",
    "import os\n",
    "import requests\n",
    "if not os.path.exists('DATA'):\n",
    "    os.makedirs('DATA')\n",
    "print (time.strftime('%a_%d_%b_%Y_%I_%M_%S_%p_%Z', time.gmtime())+\".html\")\n",
    "filename = \"DATA/\"+(time.strftime('%a_%d_%b_%Y_%I_%M_%S_%p_%Z', time.gmtime())+\".html\")\n",
    "DataIn = open(filename,\"w\")\n",
    "listTEXT = []\n",
    "stringTEXT = \"\"\n",
    "response = requests.get('https://www.worldometers.info/coronavirus/country/us/')\n",
    "DATA = str(response.content)\n",
    "listTEXT.append(DATA)\n",
    "stringTEXT = stringTEXT+DATA\n",
    "DataIn.write(str(listTEXT))\n",
    "DataIn.close()\n",
    "print(filename)\n",
    "files = glob.glob('DATA/*.html') # * means format then *.html\n",
    "File = max(files, key=os.path.getctime)\n",
    "print (\"Opening: \",File)\n",
    "DataOut = open(File, \"r\").read()\n",
    "dataout = DataOut\n",
    "dataout = str(dataout)\n",
    "dataout = dataout.replace(\"March\",\"\\n\\n\\nXXXXXXXXMarch\")\n",
    "dataout = dataout.replace(\"<strong>\",\"\")\n",
    "dataout = dataout.replace(\"</strong>\",\"\")\n",
    "dataout = dataout.replace(\">\",\"\")\n",
    "dataout= dataout.split(\"XXXXXXXX\")\n",
    "data = (dataout[1][0:129])\n",
    "time = datetime.now().strftime(\"%B %d, %Y %I:%M%p\")\n",
    "conn2=sqlite3.connect(\"DATA/CoronaData2.db\")\n",
    "c2 = conn2.cursor()\n",
    "c2.execute(\"CREATE TABLE IF NOT EXISTS CORONA( TEXT UNIQUE)\")\n",
    "c2.execute(\"INSERT OR IGNORE into CORONA values (?)\",(data,))    \n",
    "conn2.commit()\n",
    "conn2.close()\n",
    "conn=sqlite3.connect(\"DATA/CoronaData.db\")    \n",
    "c = conn.cursor()\n",
    "sql = '''create table if not exists CORONA(\n",
    "         Filename, text\n",
    "         Time text,\n",
    "         data TEXT);'''\n",
    "conn.execute(sql)\n",
    "c.execute(\"insert into CORONA values (?,?,?)\",(File,time,data))    \n",
    "conn.commit()\n",
    "conn.close()\n",
    "\n",
    "conn=sqlite3.connect(\"DATA/CoronaData.db\")\n",
    "c= conn.cursor()\n",
    "for row in c.execute('SELECT rowid,* from CORONA'):\n",
    "     print (row[0],row[1],row[2],row[3])\n",
    "conn.close()"
   ]
  },
  {
   "cell_type": "code",
   "execution_count": 11,
   "metadata": {},
   "outputs": [],
   "source": [
    "import numpy as np\n",
    "import pandas as pd\n",
    "import shapefile as shp\n",
    "import matplotlib.pyplot as plt\n",
    "import seaborn as sns\n",
    "\n",
    "sns.set(style=\"whitegrid\", palette=\"pastel\", color_codes=True)\n",
    "sns.mpl.rc(\"figure\", figsize=(10,6))\n",
    "\n",
    "%matplotlib inline"
   ]
  },
  {
   "cell_type": "code",
   "execution_count": 13,
   "metadata": {},
   "outputs": [
    {
     "name": "stdout",
     "output_type": "stream",
     "text": [
      "ar2010.sf1.zip\t\ttl_2010_us_state10.prj\t    tl_2010_us_state10.source\r\n",
      "arkansas\t\ttl_2010_us_state10.shp\t    tl_2010_us_state10.zip\r\n",
      "DATA\t\t\ttl_2010_us_state10.shp.xml\r\n",
      "tl_2010_us_state10.dbf\ttl_2010_us_state10.shx\r\n"
     ]
    }
   ],
   "source": [
    "!ls /home/jack/Desktop/state-data"
   ]
  },
  {
   "cell_type": "code",
   "execution_count": 14,
   "metadata": {},
   "outputs": [
    {
     "data": {
      "text/plain": [
       "52"
      ]
     },
     "execution_count": 14,
     "metadata": {},
     "output_type": "execute_result"
    }
   ],
   "source": [
    "shp_path = \"/home/jack/Desktop/state-data/tl_2010_us_state10.sh\"\n",
    "sf = shp.Reader(shp_path)\n",
    "\n",
    "len(sf.shapes())"
   ]
  },
  {
   "cell_type": "code",
   "execution_count": 17,
   "metadata": {},
   "outputs": [
    {
     "data": {
      "text/plain": [
       "14"
      ]
     },
     "execution_count": 17,
     "metadata": {},
     "output_type": "execute_result"
    }
   ],
   "source": [
    "# How many elements in the record ?\n",
    "len(sf.records()[1])"
   ]
  },
  {
   "cell_type": "code",
   "execution_count": 15,
   "metadata": {},
   "outputs": [
    {
     "data": {
      "text/plain": [
       "Record #1: ['1', '2', '42', '01779798', '42', 'PA', 'Pennsylvania', '00', 'G4000', 'A', 115883064314, 3397122731, '+40.9042486', '-077.8280624']"
      ]
     },
     "execution_count": 15,
     "metadata": {},
     "output_type": "execute_result"
    }
   ],
   "source": [
    "sf.records()[1]"
   ]
  },
  {
   "cell_type": "code",
   "execution_count": 16,
   "metadata": {},
   "outputs": [
    {
     "data": {
      "text/plain": [
       "'PA'"
      ]
     },
     "execution_count": 16,
     "metadata": {},
     "output_type": "execute_result"
    }
   ],
   "source": [
    "sf.records()[1][5]"
   ]
  },
  {
   "cell_type": "code",
   "execution_count": 33,
   "metadata": {},
   "outputs": [
    {
     "name": "stdout",
     "output_type": "stream",
     "text": [
      "52\n",
      "Record #1: ['1', '2', '42', '01779798', '42', 'PA', 'Pennsylvania', '00', 'G4000', 'A', 115883064314, 3397122731, '+40.9042486', '-077.8280624']\n"
     ]
    }
   ],
   "source": [
    "import numpy as np\n",
    "import pandas as pd\n",
    "import shapefile as shp\n",
    "import matplotlib.pyplot as plt\n",
    "import seaborn as sns\n",
    "sns.set(style=\"whitegrid\", palette=\"pastel\", color_codes=True)\n",
    "sns.mpl.rc(\"figure\", figsize=(10,6))\n",
    "%matplotlib inline\n",
    "shp_path = \"/home/jack/Desktop/state-data/tl_2010_us_state10.sh\"\n",
    "sf = shp.Reader(shp_path)\n",
    "\n",
    "print(len(sf.shapes()))\n",
    "print(sf.records()[1])\n",
    "#comuna = 'Pennsylvania'\n",
    "#com_id = df[df.NOM_COMUNA == comuna].index.get_values()[0]\n",
    "#plot_shape(com_id, comuna)"
   ]
  },
  {
   "cell_type": "code",
   "execution_count": 37,
   "metadata": {},
   "outputs": [],
   "source": [
    "def read_shapefile(sf):\n",
    "    \"\"\"\n",
    "    Read a shapefile into a Pandas dataframe with a 'coords' \n",
    "    column holding the geometry information. This uses the pyshp\n",
    "    package\n",
    "    \"\"\"\n",
    "    fields = [x[0] for x in sf.fields][1:]\n",
    "    records = sf.records()\n",
    "    shps = [s.points for s in sf.shapes()]\n",
    "    df = pd.DataFrame(columns=fields, data=records)\n",
    "    df = df.assign(coords=shps)\n",
    "    return df"
   ]
  },
  {
   "cell_type": "code",
   "execution_count": 38,
   "metadata": {},
   "outputs": [
    {
     "data": {
      "text/plain": [
       "(52, 15)"
      ]
     },
     "execution_count": 38,
     "metadata": {},
     "output_type": "execute_result"
    }
   ],
   "source": [
    "df = read_shapefile(sf)\n",
    "df.shape"
   ]
  },
  {
   "cell_type": "code",
   "execution_count": 39,
   "metadata": {},
   "outputs": [
    {
     "data": {
      "text/html": [
       "<div>\n",
       "<style scoped>\n",
       "    .dataframe tbody tr th:only-of-type {\n",
       "        vertical-align: middle;\n",
       "    }\n",
       "\n",
       "    .dataframe tbody tr th {\n",
       "        vertical-align: top;\n",
       "    }\n",
       "\n",
       "    .dataframe thead th {\n",
       "        text-align: right;\n",
       "    }\n",
       "</style>\n",
       "<table border=\"1\" class=\"dataframe\">\n",
       "  <thead>\n",
       "    <tr style=\"text-align: right;\">\n",
       "      <th></th>\n",
       "      <th>REGION10</th>\n",
       "      <th>DIVISION10</th>\n",
       "      <th>STATEFP10</th>\n",
       "      <th>STATENS10</th>\n",
       "      <th>GEOID10</th>\n",
       "      <th>STUSPS10</th>\n",
       "      <th>NAME10</th>\n",
       "      <th>LSAD10</th>\n",
       "      <th>MTFCC10</th>\n",
       "      <th>FUNCSTAT10</th>\n",
       "      <th>ALAND10</th>\n",
       "      <th>AWATER10</th>\n",
       "      <th>INTPTLAT10</th>\n",
       "      <th>INTPTLON10</th>\n",
       "      <th>coords</th>\n",
       "    </tr>\n",
       "  </thead>\n",
       "  <tbody>\n",
       "    <tr>\n",
       "      <th>29</th>\n",
       "      <td>3</td>\n",
       "      <td>6</td>\n",
       "      <td>21</td>\n",
       "      <td>01779786</td>\n",
       "      <td>21</td>\n",
       "      <td>KY</td>\n",
       "      <td>Kentucky</td>\n",
       "      <td>00</td>\n",
       "      <td>G4000</td>\n",
       "      <td>A</td>\n",
       "      <td>102269141641</td>\n",
       "      <td>2386569692</td>\n",
       "      <td>+37.5336807</td>\n",
       "      <td>-085.2929841</td>\n",
       "      <td>[(-89.554574, 36.516456), (-89.556702, 36.5190...</td>\n",
       "    </tr>\n",
       "    <tr>\n",
       "      <th>46</th>\n",
       "      <td>3</td>\n",
       "      <td>5</td>\n",
       "      <td>11</td>\n",
       "      <td>01702382</td>\n",
       "      <td>11</td>\n",
       "      <td>DC</td>\n",
       "      <td>District of Columbia</td>\n",
       "      <td>00</td>\n",
       "      <td>G4000</td>\n",
       "      <td>A</td>\n",
       "      <td>158114680</td>\n",
       "      <td>18884970</td>\n",
       "      <td>+38.9041485</td>\n",
       "      <td>-077.0170942</td>\n",
       "      <td>[(-76.95085399999999, 38.925453), (-76.949219,...</td>\n",
       "    </tr>\n",
       "    <tr>\n",
       "      <th>8</th>\n",
       "      <td>2</td>\n",
       "      <td>3</td>\n",
       "      <td>55</td>\n",
       "      <td>01779806</td>\n",
       "      <td>55</td>\n",
       "      <td>WI</td>\n",
       "      <td>Wisconsin</td>\n",
       "      <td>00</td>\n",
       "      <td>G4000</td>\n",
       "      <td>A</td>\n",
       "      <td>140268064888</td>\n",
       "      <td>29366760483</td>\n",
       "      <td>+44.6284840</td>\n",
       "      <td>-089.7119299</td>\n",
       "      <td>[(-88.776493, 42.491912), (-88.77650299999999,...</td>\n",
       "    </tr>\n",
       "    <tr>\n",
       "      <th>36</th>\n",
       "      <td>3</td>\n",
       "      <td>5</td>\n",
       "      <td>45</td>\n",
       "      <td>01779799</td>\n",
       "      <td>45</td>\n",
       "      <td>SC</td>\n",
       "      <td>South Carolina</td>\n",
       "      <td>00</td>\n",
       "      <td>G4000</td>\n",
       "      <td>A</td>\n",
       "      <td>77856841944</td>\n",
       "      <td>5075831885</td>\n",
       "      <td>+33.8741769</td>\n",
       "      <td>-080.8542699</td>\n",
       "      <td>[(-82.741007, 34.208861999999996), (-82.741172...</td>\n",
       "    </tr>\n",
       "    <tr>\n",
       "      <th>35</th>\n",
       "      <td>3</td>\n",
       "      <td>6</td>\n",
       "      <td>01</td>\n",
       "      <td>01779775</td>\n",
       "      <td>01</td>\n",
       "      <td>AL</td>\n",
       "      <td>Alabama</td>\n",
       "      <td>00</td>\n",
       "      <td>G4000</td>\n",
       "      <td>A</td>\n",
       "      <td>131170787086</td>\n",
       "      <td>4596557532</td>\n",
       "      <td>+32.7396323</td>\n",
       "      <td>-086.8434593</td>\n",
       "      <td>[(-86.311274, 34.991098), (-86.308987, 34.9910...</td>\n",
       "    </tr>\n",
       "  </tbody>\n",
       "</table>\n",
       "</div>"
      ],
      "text/plain": [
       "   REGION10 DIVISION10 STATEFP10 STATENS10 GEOID10 STUSPS10  \\\n",
       "29        3          6        21  01779786      21       KY   \n",
       "46        3          5        11  01702382      11       DC   \n",
       "8         2          3        55  01779806      55       WI   \n",
       "36        3          5        45  01779799      45       SC   \n",
       "35        3          6        01  01779775      01       AL   \n",
       "\n",
       "                  NAME10 LSAD10 MTFCC10 FUNCSTAT10       ALAND10     AWATER10  \\\n",
       "29              Kentucky     00   G4000          A  102269141641   2386569692   \n",
       "46  District of Columbia     00   G4000          A     158114680     18884970   \n",
       "8              Wisconsin     00   G4000          A  140268064888  29366760483   \n",
       "36        South Carolina     00   G4000          A   77856841944   5075831885   \n",
       "35               Alabama     00   G4000          A  131170787086   4596557532   \n",
       "\n",
       "     INTPTLAT10    INTPTLON10  \\\n",
       "29  +37.5336807  -085.2929841   \n",
       "46  +38.9041485  -077.0170942   \n",
       "8   +44.6284840  -089.7119299   \n",
       "36  +33.8741769  -080.8542699   \n",
       "35  +32.7396323  -086.8434593   \n",
       "\n",
       "                                               coords  \n",
       "29  [(-89.554574, 36.516456), (-89.556702, 36.5190...  \n",
       "46  [(-76.95085399999999, 38.925453), (-76.949219,...  \n",
       "8   [(-88.776493, 42.491912), (-88.77650299999999,...  \n",
       "36  [(-82.741007, 34.208861999999996), (-82.741172...  \n",
       "35  [(-86.311274, 34.991098), (-86.308987, 34.9910...  "
      ]
     },
     "execution_count": 39,
     "metadata": {},
     "output_type": "execute_result"
    }
   ],
   "source": [
    "df.sample(5)"
   ]
  },
  {
   "cell_type": "code",
   "execution_count": 41,
   "metadata": {},
   "outputs": [
    {
     "data": {
      "text/html": [
       "<div>\n",
       "<style scoped>\n",
       "    .dataframe tbody tr th:only-of-type {\n",
       "        vertical-align: middle;\n",
       "    }\n",
       "\n",
       "    .dataframe tbody tr th {\n",
       "        vertical-align: top;\n",
       "    }\n",
       "\n",
       "    .dataframe thead th {\n",
       "        text-align: right;\n",
       "    }\n",
       "</style>\n",
       "<table border=\"1\" class=\"dataframe\">\n",
       "  <thead>\n",
       "    <tr style=\"text-align: right;\">\n",
       "      <th></th>\n",
       "      <th>REGION10</th>\n",
       "      <th>DIVISION10</th>\n",
       "      <th>STATEFP10</th>\n",
       "      <th>STATENS10</th>\n",
       "      <th>GEOID10</th>\n",
       "      <th>STUSPS10</th>\n",
       "      <th>NAME10</th>\n",
       "      <th>LSAD10</th>\n",
       "      <th>MTFCC10</th>\n",
       "      <th>FUNCSTAT10</th>\n",
       "      <th>ALAND10</th>\n",
       "      <th>AWATER10</th>\n",
       "      <th>INTPTLAT10</th>\n",
       "      <th>INTPTLON10</th>\n",
       "      <th>coords</th>\n",
       "    </tr>\n",
       "  </thead>\n",
       "  <tbody>\n",
       "    <tr>\n",
       "      <th>1</th>\n",
       "      <td>1</td>\n",
       "      <td>2</td>\n",
       "      <td>42</td>\n",
       "      <td>01779798</td>\n",
       "      <td>42</td>\n",
       "      <td>PA</td>\n",
       "      <td>Pennsylvania</td>\n",
       "      <td>00</td>\n",
       "      <td>G4000</td>\n",
       "      <td>A</td>\n",
       "      <td>115883064314</td>\n",
       "      <td>3397122731</td>\n",
       "      <td>+40.9042486</td>\n",
       "      <td>-077.8280624</td>\n",
       "      <td>[(-80.519091, 39.9622), (-80.519097, 39.962247...</td>\n",
       "    </tr>\n",
       "  </tbody>\n",
       "</table>\n",
       "</div>"
      ],
      "text/plain": [
       "  REGION10 DIVISION10 STATEFP10 STATENS10 GEOID10 STUSPS10        NAME10  \\\n",
       "1        1          2        42  01779798      42       PA  Pennsylvania   \n",
       "\n",
       "  LSAD10 MTFCC10 FUNCSTAT10       ALAND10    AWATER10   INTPTLAT10  \\\n",
       "1     00   G4000          A  115883064314  3397122731  +40.9042486   \n",
       "\n",
       "     INTPTLON10                                             coords  \n",
       "1  -077.8280624  [(-80.519091, 39.9622), (-80.519097, 39.962247...  "
      ]
     },
     "execution_count": 41,
     "metadata": {},
     "output_type": "execute_result"
    }
   ],
   "source": [
    "df[df.NAME10 == 'Pennsylvania']"
   ]
  },
  {
   "cell_type": "code",
   "execution_count": 46,
   "metadata": {},
   "outputs": [
    {
     "data": {
      "text/plain": [
       "0                  Wyoming\n",
       "1             Pennsylvania\n",
       "2                     Ohio\n",
       "3               New Mexico\n",
       "4                 Maryland\n",
       "5             Rhode Island\n",
       "6                   Oregon\n",
       "7              Puerto Rico\n",
       "8                Wisconsin\n",
       "9             North Dakota\n",
       "10                  Nevada\n",
       "11                 Georgia\n",
       "12                New York\n",
       "13                Arkansas\n",
       "14                  Kansas\n",
       "15                Nebraska\n",
       "16                    Utah\n",
       "17                  Alaska\n",
       "18             Mississippi\n",
       "19                Oklahoma\n",
       "20           West Virginia\n",
       "21                Michigan\n",
       "22                Colorado\n",
       "23              New Jersey\n",
       "24                Delaware\n",
       "25                 Montana\n",
       "26              Washington\n",
       "27             Connecticut\n",
       "28              California\n",
       "29                Kentucky\n",
       "30           Massachusetts\n",
       "31                 Florida\n",
       "32                   Idaho\n",
       "33                Missouri\n",
       "34                  Hawaii\n",
       "35                 Alabama\n",
       "36          South Carolina\n",
       "37           New Hampshire\n",
       "38            South Dakota\n",
       "39                Illinois\n",
       "40               Tennessee\n",
       "41                 Indiana\n",
       "42                    Iowa\n",
       "43                 Arizona\n",
       "44               Minnesota\n",
       "45               Louisiana\n",
       "46    District of Columbia\n",
       "47                Virginia\n",
       "48                   Texas\n",
       "49                 Vermont\n",
       "50                   Maine\n",
       "51          North Carolina\n",
       "Name: NAME10, dtype: object"
      ]
     },
     "execution_count": 46,
     "metadata": {},
     "output_type": "execute_result"
    }
   ],
   "source": [
    "df['NAME10']"
   ]
  },
  {
   "cell_type": "code",
   "execution_count": 32,
   "metadata": {},
   "outputs": [],
   "source": [
    "def plot_shape(id, s=None):\n",
    "    \"\"\" PLOTS A SINGLE SHAPE \"\"\"\n",
    "    plt.figure()\n",
    "    ax = plt.axes()\n",
    "    ax.set_aspect('equal')\n",
    "    shape_ex = sf.shape(id)\n",
    "    x_lon = np.zeros((len(shape_ex.points),1))\n",
    "    y_lat = np.zeros((len(shape_ex.points),1))\n",
    "    for ip in range(len(shape_ex.points)):\n",
    "        x_lon[ip] = shape_ex.points[ip][0]\n",
    "        y_lat[ip] = shape_ex.points[ip][1]\n",
    "        plt.plot(x_lon,y_lat) \n",
    "    x0 = np.mean(x_lon)\n",
    "    y0 = np.mean(y_lat)\n",
    "    plt.text(x0, y0, s, fontsize=10)\n",
    "    # use bbox (bounding box) to set plot limits\n",
    "    plt.xlim(shape_ex.bbox[0],shape_ex.bbox[2])\n",
    "    return x0, y0"
   ]
  },
  {
   "cell_type": "code",
   "execution_count": 49,
   "metadata": {},
   "outputs": [
    {
     "data": {
      "text/plain": [
       "(-74.65029386234536, 42.4732455346858)"
      ]
     },
     "execution_count": 49,
     "metadata": {},
     "output_type": "execute_result"
    },
    {
     "data": {
      "image/png": "[encoded data removed]",
      "text/plain": [
       "<Figure size 432x288 with 1 Axes>"
      ]
     },
     "metadata": {
      "needs_background": "light"
     },
     "output_type": "display_data"
    }
   ],
   "source": [
    "plot_shape(12, s=None)"
   ]
  },
  {
   "cell_type": "code",
   "execution_count": 20,
   "metadata": {},
   "outputs": [],
   "source": [
    "def plot_map(sf, x_lim = None, y_lim = None, figsize = (11,9)):\n",
    "    '''\n",
    "    Plot map with lim coordinates\n",
    "    '''\n",
    "    plt.figure(figsize = figsize)\n",
    "    id=0\n",
    "    for shape in sf.shapeRecords():\n",
    "        x = [i[0] for i in shape.shape.points[:]]\n",
    "        y = [i[1] for i in shape.shape.points[:]]\n",
    "        plt.plot(x, y, 'k')\n",
    "        \n",
    "        if (x_lim == None) & (y_lim == None):\n",
    "            x0 = np.mean(x)\n",
    "            y0 = np.mean(y)\n",
    "            plt.text(x0, y0, id, fontsize=10)\n",
    "        id = id+1\n",
    "    \n",
    "    if (x_lim != None) & (y_lim != None):     \n",
    "        plt.xlim(x_lim)\n",
    "        plt.ylim(y_lim)"
   ]
  },
  {
   "cell_type": "code",
   "execution_count": 26,
   "metadata": {},
   "outputs": [
    {
     "ename": "SyntaxError",
     "evalue": "invalid syntax (<ipython-input-26-891b022846e4>, line 1)",
     "output_type": "error",
     "traceback": [
      "\u001b[0;36m  File \u001b[0;32m\"<ipython-input-26-891b022846e4>\"\u001b[0;36m, line \u001b[0;32m1\u001b[0m\n\u001b[0;31m    plot_map(sf.1)\u001b[0m\n\u001b[0m                ^\u001b[0m\n\u001b[0;31mSyntaxError\u001b[0m\u001b[0;31m:\u001b[0m invalid syntax\n"
     ]
    }
   ],
   "source": [
    "plot_map(sf.1)"
   ]
  },
  {
   "cell_type": "code",
   "execution_count": 27,
   "metadata": {},
   "outputs": [
    {
     "data": {
      "image/png": "[encoded data removed]",
      "text/plain": [
       "<Figure size 792x648 with 1 Axes>"
      ]
     },
     "metadata": {
      "needs_background": "light"
     },
     "output_type": "display_data"
    }
   ],
   "source": [
    "y_lim = (-33.7,-33.3) # latitude \n",
    "x_lim = (-71, -70.25) # longitude\n",
    "plot_map(sf, x_lim, y_lim)"
   ]
  },
  {
   "cell_type": "code",
   "execution_count": null,
   "metadata": {},
   "outputs": [],
   "source": []
  }
 ],
 "metadata": {
  "kernelspec": {
   "display_name": "Python(base)",
   "language": "python",
   "name": "base"
  },
  "language_info": {
   "codemirror_mode": {
    "name": "ipython",
    "version": 3
   },
   "file_extension": ".py",
   "mimetype": "text/x-python",
   "name": "python",
   "nbconvert_exporter": "python",
   "pygments_lexer": "ipython3",
   "version": "3.7.4"
  },
  "toc": {
   "base_numbering": 1,
   "nav_menu": {},
   "number_sections": true,
   "sideBar": true,
   "skip_h1_title": false,
   "title_cell": "Table of Contents",
   "title_sidebar": "Contents",
   "toc_cell": false,
   "toc_position": {},
   "toc_section_display": true,
   "toc_window_display": false
  }
 },
 "nbformat": 4,
 "nbformat_minor": 4
}
