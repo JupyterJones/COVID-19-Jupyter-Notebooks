{
 "cells": [
  {
   "cell_type": "code",
   "execution_count": null,
   "metadata": {},
   "outputs": [],
   "source": [
    "https://anthonylouisdagostino.com/bounding-boxes-for-all-us-states/\n",
    "    https://gist.githubusercontent.com/a8dx/2340f9527af64f8ef8439366de981168/raw/81d876daea10eab5c2675811c39bcd18a79a9212/US_State_Bounding_Boxes.csv"
   ]
  },
  {
   "cell_type": "code",
   "execution_count": null,
   "metadata": {},
   "outputs": [],
   "source": [
    "https://pypi.org/project/pygdaltools/\n",
    "https://hifld-geoplatform.opendata.arcgis.com/    \n",
    "https://eric.clst.org/tech/usgeojson/    "
   ]
  },
  {
   "cell_type": "code",
   "execution_count": null,
   "metadata": {},
   "outputs": [],
   "source": [
    "topics to explore:\n",
    "    https://github.com/unitedstates/python-us\n",
    "    https://pythonhosted.org/Python%20Shapefile%20Library/    \n",
    "    ogr2ogr python"
   ]
  },
  {
   "cell_type": "code",
   "execution_count": null,
   "metadata": {},
   "outputs": [],
   "source": [
    "!pwd"
   ]
  },
  {
   "cell_type": "code",
   "execution_count": null,
   "metadata": {},
   "outputs": [],
   "source": [
    "import sqlite3\n",
    "from datetime import datetime\n",
    "from time import gmtime, strftime\n",
    "import glob\n",
    "import time\n",
    "import os\n",
    "import requests\n",
    "stringTEXT = \"\"\n",
    "if not os.path.exists('/home/jack/Desktop/state-data/DATA'):\n",
    "    os.makedirs('/home/jack/Desktop/state-data/DATA')\n",
    "print (time.strftime('%a_%d_%b_%Y_%I_%M_%S_%p_%Z', time.gmtime())+\".html\")\n",
    "filename = \"/home/jack/Desktop/state-data/DATA/US_State_Bounding_Boxes.csv\"\n",
    "DataIn = open(filename,\"w\")\n",
    "\n",
    "BoundingBoxes = \"\"\n",
    "response = requests.get('https://gist.githubusercontent.com/a8dx/2340f9527af64f8ef8439366de981168/raw/81d876daea10eab5c2675811c39bcd18a79a9212/US_State_Bounding_Boxes.csv')\n",
    "filename = \"/home/jack/Desktop/state-data/DATA/US_State_Bounding_Boxes.csv\"\n",
    "with open(filename, mode='wb') as localfile:\n",
    "    localfile.write(response.content)\n"
   ]
  },
  {
   "cell_type": "markdown",
   "metadata": {},
   "source": [
    "# FYI Guam, a US territory. the Northern Mariana Islands (including the islands of Saipan, Tinian and Rota), which make up a Commonwealth of the United States."
   ]
  },
  {
   "cell_type": "code",
   "execution_count": null,
   "metadata": {},
   "outputs": [],
   "source": [
    "filename = \"/home/jack/Desktop/state-data/DATA/US_State_Bounding_Boxes.csv\"\n",
    "output = open(filename,\"r\").readlines()\n",
    "for line in output:\n",
    "    line=line.replace(\"\\n\",\"\")\n",
    "    print(line)"
   ]
  },
  {
   "cell_type": "code",
   "execution_count": null,
   "metadata": {},
   "outputs": [],
   "source": [
    "EX=\"01,AL,Alabama,-88.473227,30.223334,-84.88908,35.008028\"\n",
    "print(EX[6:])"
   ]
  },
  {
   "cell_type": "code",
   "execution_count": null,
   "metadata": {},
   "outputs": [],
   "source": [
    "File = b\"/home/jack/Desktop/state-data/DATA/US_State_Bounding_Boxes.csv\"\n",
    "BOXES = []\n",
    "DataOut = open(File, \"r\").readlines()\n",
    "cnt= 0\n",
    "\n",
    "for items in DataOut:\n",
    "    cnt=cnt+1\n",
    "    items=items.replace('\\n','')\n",
    "    clean=items.replace('\"','')\n",
    "    clean = clean.split(',')\n",
    "    print(\" \".join(clean[3:]))\n",
    "    entry=\" \".join(clean[3:])\n",
    "    BOXES.append(entry)"
   ]
  },
  {
   "cell_type": "code",
   "execution_count": 1,
   "metadata": {},
   "outputs": [
    {
     "name": "stdout",
     "output_type": "stream",
     "text": [
      "Overwriting US_State_Bounding_Boxes.py\n"
     ]
    }
   ],
   "source": [
    "%%writefile US_State_Bounding_Boxes.py\n",
    "DATA=\"\"\"\n",
    "NAME  xmin ymin xmax ymax\n",
    "Alabama  -88.473227 30.223334 -84.88908 35.008028\n",
    "Alaska  -179.148909 51.214183 179.77847 71.365162\n",
    "American Samoa  -171.089874 -14.548699 -168.1433 -11.046934\n",
    "Arizona  -114.81651 31.332177 -109.045223 37.00426\n",
    "Arkansas  -94.617919 33.004106 -89.644395 36.4996\n",
    "California  -124.409591 32.534156 -114.131211 42.009518\n",
    "Colorado  -109.060253 36.992426 -102.041524 41.003444\n",
    "Commonwealth of the Northern Mariana Islands  144.886331 14.110472 146.064818 20.553802\n",
    "Connecticut  -73.727775 40.980144 -71.786994 42.050587\n",
    "Delaware  -75.788658 38.451013 -75.048939 39.839007\n",
    "District of Columbia  -77.119759 38.791645 -76.909395 38.99511\n",
    "Florida  -87.634938 24.523096 -80.031362 31.000888\n",
    "Georgia  -85.605165 30.357851 -80.839729 35.000659\n",
    "Guam  144.618068 13.234189 144.956712 13.654383\n",
    "Hawaii  -178.334698 18.910361 -154.806773 28.402123\n",
    "Idaho  -117.243027 41.988057 -111.043564 49.001146\n",
    "Illinois  -91.513079 36.970298 -87.494756 42.508481\n",
    "Indiana  -88.09776 37.771742 -84.784579 41.760592\n",
    "Iowa  -96.639704 40.375501 -90.140061 43.501196\n",
    "Kansas  -102.051744 36.993016 -94.588413 40.003162\n",
    "Kentucky  -89.571509 36.497129 -81.964971 39.147458\n",
    "Louisiana  -94.043147 28.928609 -88.817017 33.019457\n",
    "Maine  -71.083924 42.977764 -66.949895 47.459686\n",
    "Maryland  -79.487651 37.911717 -75.048939 39.723043\n",
    "Massachusetts  -73.508142 41.237964 -69.928393 42.886589\n",
    "Michigan  -90.418136 41.696118 -82.413474 48.2388\n",
    "Minnesota  -97.239209 43.499356 -89.491739 49.384358\n",
    "Mississippi  -91.655009 30.173943 -88.097888 34.996052\n",
    "Missouri  -95.774704 35.995683 -89.098843 40.61364\n",
    "Montana  -116.050003 44.358221 -104.039138 49.00139\n",
    "Nebraska  -104.053514 39.999998 -95.30829 43.001708\n",
    "Nevada  -120.005746 35.001857 -114.039648 42.002207\n",
    "New Hampshire  -72.557247 42.69699 -70.610621 45.305476\n",
    "New Jersey  -75.559614 38.928519 -73.893979 41.357423\n",
    "New Mexico  -109.050173 31.332301 -103.001964 37.000232\n",
    "New York  -79.762152 40.496103 -71.856214 45.01585\n",
    "North Carolina  -84.321869 33.842316 -75.460621 36.588117\n",
    "North Dakota  -104.0489 45.935054 -96.554507 49.000574\n",
    "Ohio  -84.820159 38.403202 -80.518693 41.977523\n",
    "Oklahoma  -103.002565 33.615833 -94.430662 37.002206\n",
    "Oregon  -124.566244 41.991794 -116.463504 46.292035\n",
    "Pennsylvania  -80.519891 39.7198 -74.689516 42.26986\n",
    "Puerto Rico  -67.945404 17.88328 -65.220703 18.515683\n",
    "Rhode Island  -71.862772 41.146339 -71.12057 42.018798\n",
    "South Carolina  -83.35391 32.0346 -78.54203 35.215402\n",
    "South Dakota  -104.057698 42.479635 -96.436589 45.94545\n",
    "Tennessee  -90.310298 34.982972 -81.6469 36.678118\n",
    "Texas  -106.645646 25.837377 -93.508292 36.500704\n",
    "United States Virgin Islands  -65.085452 17.673976 -64.564907 18.412655\n",
    "Utah  -114.052962 36.997968 -109.041058 42.001567\n",
    "Vermont  -73.43774 42.726853 -71.464555 45.016659\n",
    "Virginia  -83.675395 36.540738 -75.242266 39.466012\n",
    "Washington  -124.763068 45.543541 -116.915989 49.002494\n",
    "West Virginia  -82.644739 37.201483 -77.719519 40.638801\n",
    "Wisconsin  -92.888114 42.491983 -86.805415 47.080621\n",
    "Wyoming  -111.056888 40.994746 -104.05216 45.005904\n",
    "\"\"\"\n",
    "def GetCOOR(state):\n",
    "    STATElist=DATA.split(\"\\n\")\n",
    "    for States in STATElist:\n",
    "        if state in States:\n",
    "            States = States.replace(\"  \",\" \")\n",
    "            States = States.split(\" \")\n",
    "            urcrnrlat = float(States[4])\n",
    "            llcrnrlat = float(States[2])\n",
    "            urcrnrlon = float(States[3])\n",
    "            llcrnrlon = float(States[1])\n",
    "            return urcrnrlat,llcrnrlat,urcrnrlon,llcrnrlon\n",
    "\n",
    "def COOR(state):\n",
    "    STATElist=DATA.split(\"\\n\")\n",
    "    for States in STATElist:\n",
    "        if state in States:\n",
    "            COOR=States.split(\"  \")\n",
    "            state = COOR[0]\n",
    "            coor =COOR[1]\n",
    "            return state,coor"
   ]
  },
  {
   "cell_type": "code",
   "execution_count": 2,
   "metadata": {},
   "outputs": [
    {
     "name": "stdout",
     "output_type": "stream",
     "text": [
      "48.2388 41.696118 -82.413474 -90.418136\n"
     ]
    }
   ],
   "source": [
    "from US_State_Bounding_Boxes import *\n",
    "coor= GetCOOR(\"Michigan\")\n",
    "print(coor[0],coor[1],coor[2],coor[3])"
   ]
  },
  {
   "cell_type": "code",
   "execution_count": null,
   "metadata": {},
   "outputs": [],
   "source": [
    "from US_State_Bounding_Boxes import GetCOOR\n",
    "coor= GetCOOR(\"Michigan\")\n",
    "urcrnrlat = coor[0]\n",
    "llcrnrlat = coor[1]\n",
    "urcrnrlon = coor[2]\n",
    "llcrnrlon = coor[3]"
   ]
  },
  {
   "cell_type": "code",
   "execution_count": null,
   "metadata": {},
   "outputs": [],
   "source": []
  },
  {
   "cell_type": "code",
   "execution_count": null,
   "metadata": {},
   "outputs": [],
   "source": [
    "data = BOXES[1]\n",
    "clean = data.split(' ', 1)[-1]\n",
    "print(clean)"
   ]
  },
  {
   "cell_type": "code",
   "execution_count": null,
   "metadata": {},
   "outputs": [],
   "source": [
    "cnt=0\n",
    "for states in BOXES:\n",
    "    cnt=cnt+1\n",
    "    states=states.replace('\\n','')\n",
    "    states=states.split(\" \")\n",
    "    if cnt<5:print(cnt,states)     "
   ]
  },
  {
   "cell_type": "code",
   "execution_count": null,
   "metadata": {},
   "outputs": [],
   "source": [
    "\n",
    "File = \"/home/jack/Desktop/state-data/DATA/US_State_Bounding_Boxes.csv\"\n",
    "print (\"Opening: \",File)\n",
    "DataOut = open(File, \"r\").read()\n",
    "dataout = DataOut\n",
    "dataout = str(dataout)\n",
    "dataout = dataout.replace(\"March\",\"\\n\\n\\nXXXXXXXXMarch\")\n",
    "dataout = dataout.replace(\"<strong>\",\"\")\n",
    "dataout = dataout.replace(\"</strong>\",\"\")\n",
    "dataout = dataout.replace(\">\",\"\")\n",
    "dataout= dataout.split(\"XXXXXXXX\")\n",
    "data = (dataout[1][0:129])\n",
    "time = datetime.now().strftime(\"%B %d, %Y %I:%M%p\")\n",
    "conn2=sqlite3.connect(\"/home/jack/Desktop/state-data/DATA/CoronaData2.db\")\n",
    "c2 = conn2.cursor()\n",
    "c2.execute(\"CREATE TABLE IF NOT EXISTS CORONA( TEXT UNIQUE)\")\n",
    "c2.execute(\"INSERT OR IGNORE into CORONA values (?)\",(data,))    \n",
    "conn2.commit()\n",
    "conn2.close()\n",
    "conn=sqlite3.connect(\"/home/jack/Desktop/state-data/DATA/CoronaData.db\")    \n",
    "c = conn.cursor()\n",
    "sql = '''create table if not exists CORONA(\n",
    "         Filename, text\n",
    "         Time text,\n",
    "         data TEXT);'''\n",
    "conn.execute(sql)\n",
    "c.execute(\"insert into CORONA values (?,?,?)\",(File,time,data))    \n",
    "conn.commit()\n",
    "conn.close()\n",
    "\n",
    "conn=sqlite3.connect(\"DATA/CoronaData.db\")\n",
    "c= conn.cursor()\n",
    "for row in c.execute('SELECT rowid,* from CORONA'):\n",
    "     print (row[0],row[1],row[2],row[3])\n",
    "conn.close()"
   ]
  },
  {
   "cell_type": "code",
   "execution_count": null,
   "metadata": {},
   "outputs": [],
   "source": [
    "import sqlite3\n",
    "from datetime import datetime\n",
    "from time import gmtime, strftime\n",
    "import glob\n",
    "import time\n",
    "import os\n",
    "import requests\n",
    "if not os.path.exists('DATA'):\n",
    "    os.makedirs('DATA')\n",
    "print (time.strftime('%a_%d_%b_%Y_%I_%M_%S_%p_%Z', time.gmtime())+\".html\")\n",
    "filename = \"DATA/\"+(time.strftime('%a_%d_%b_%Y_%I_%M_%S_%p_%Z', time.gmtime())+\".html\")\n",
    "DataIn = open(filename,\"w\")\n",
    "listTEXT = []\n",
    "stringTEXT = \"\"\n",
    "response = requests.get('https://gist.githubusercontent.com/a8dx/2340f9527af64f8ef8439366de981168/raw/81d876daea10eab5c2675811c39bcd18a79a9212/US_State_Bounding_Boxes.csv')\n",
    "DATA = str(response.content)\n",
    "listTEXT.append(DATA)\n",
    "stringTEXT = stringTEXT+DATA\n",
    "DataIn.write(str(listTEXT))\n",
    "DataIn.close()\n",
    "print(filename)"
   ]
  },
  {
   "cell_type": "code",
   "execution_count": null,
   "metadata": {},
   "outputs": [],
   "source": [
    "import sqlite3\n",
    "from datetime import datetime\n",
    "from time import gmtime, strftime\n",
    "import glob\n",
    "import time\n",
    "import os\n",
    "import requests\n",
    "if not os.path.exists('DATA'):\n",
    "    os.makedirs('DATA')\n",
    "print (time.strftime('%a_%d_%b_%Y_%I_%M_%S_%p_%Z', time.gmtime())+\".html\")\n",
    "filename = \"DATA/\"+(time.strftime('%a_%d_%b_%Y_%I_%M_%S_%p_%Z', time.gmtime())+\".html\")\n",
    "DataIn = open(filename,\"w\")\n",
    "listTEXT = []\n",
    "stringTEXT = \"\"\n",
    "response = requests.get('https://www.worldometers.info/coronavirus/country/us/')\n",
    "DATA = str(response.content)\n",
    "listTEXT.append(DATA)\n",
    "stringTEXT = stringTEXT+DATA\n",
    "DataIn.write(str(listTEXT))\n",
    "DataIn.close()\n",
    "print(filename)\n",
    "files = glob.glob('DATA/*.html') # * means format then *.html\n",
    "File = max(files, key=os.path.getctime)\n",
    "print (\"Opening: \",File)\n",
    "DataOut = open(File, \"r\").read()\n",
    "dataout = DataOut\n",
    "dataout = str(dataout)\n",
    "dataout = dataout.replace(\"March\",\"\\n\\n\\nXXXXXXXXMarch\")\n",
    "dataout = dataout.replace(\"<strong>\",\"\")\n",
    "dataout = dataout.replace(\"</strong>\",\"\")\n",
    "dataout = dataout.replace(\">\",\"\")\n",
    "dataout= dataout.split(\"XXXXXXXX\")\n",
    "data = (dataout[1][0:129])\n",
    "time = datetime.now().strftime(\"%B %d, %Y %I:%M%p\")\n",
    "conn2=sqlite3.connect(\"DATA/CoronaData2.db\")\n",
    "c2 = conn2.cursor()\n",
    "c2.execute(\"CREATE TABLE IF NOT EXISTS CORONA( TEXT UNIQUE)\")\n",
    "c2.execute(\"INSERT OR IGNORE into CORONA values (?)\",(data,))    \n",
    "conn2.commit()\n",
    "conn2.close()\n",
    "conn=sqlite3.connect(\"DATA/CoronaData.db\")    \n",
    "c = conn.cursor()\n",
    "sql = '''create table if not exists CORONA(\n",
    "         Filename, text\n",
    "         Time text,\n",
    "         data TEXT);'''\n",
    "conn.execute(sql)\n",
    "c.execute(\"insert into CORONA values (?,?,?)\",(File,time,data))    \n",
    "conn.commit()\n",
    "conn.close()\n",
    "\n",
    "conn=sqlite3.connect(\"DATA/CoronaData.db\")\n",
    "c= conn.cursor()\n",
    "for row in c.execute('SELECT rowid,* from CORONA'):\n",
    "     print (row[0],row[1],row[2],row[3])\n",
    "conn.close()"
   ]
  },
  {
   "cell_type": "code",
   "execution_count": null,
   "metadata": {},
   "outputs": [],
   "source": [
    "import numpy as np\n",
    "import pandas as pd\n",
    "import shapefile as shp\n",
    "import matplotlib.pyplot as plt\n",
    "import seaborn as sns\n",
    "\n",
    "sns.set(style=\"whitegrid\", palette=\"pastel\", color_codes=True)\n",
    "sns.mpl.rc(\"figure\", figsize=(10,6))\n",
    "\n",
    "%matplotlib inline"
   ]
  },
  {
   "cell_type": "code",
   "execution_count": null,
   "metadata": {},
   "outputs": [],
   "source": [
    "!ls /home/jack/Desktop/state-data"
   ]
  },
  {
   "cell_type": "code",
   "execution_count": null,
   "metadata": {},
   "outputs": [],
   "source": [
    "shp_path = \"/home/jack/Desktop/state-data/tl_2010_us_state10.sh\"\n",
    "sf = shp.Reader(shp_path)\n",
    "\n",
    "len(sf.shapes())"
   ]
  },
  {
   "cell_type": "code",
   "execution_count": null,
   "metadata": {},
   "outputs": [],
   "source": [
    "# How many elements in the record ?\n",
    "len(sf.records()[1])"
   ]
  },
  {
   "cell_type": "code",
   "execution_count": null,
   "metadata": {},
   "outputs": [],
   "source": [
    "sf.records()[1]"
   ]
  },
  {
   "cell_type": "code",
   "execution_count": null,
   "metadata": {},
   "outputs": [],
   "source": [
    "sf.records()[1][5]"
   ]
  },
  {
   "cell_type": "code",
   "execution_count": null,
   "metadata": {},
   "outputs": [],
   "source": [
    "import numpy as np\n",
    "import pandas as pd\n",
    "import shapefile as shp\n",
    "import matplotlib.pyplot as plt\n",
    "import seaborn as sns\n",
    "sns.set(style=\"whitegrid\", palette=\"pastel\", color_codes=True)\n",
    "sns.mpl.rc(\"figure\", figsize=(10,6))\n",
    "%matplotlib inline\n",
    "shp_path = \"/home/jack/Desktop/state-data/tl_2010_us_state10.sh\"\n",
    "sf = shp.Reader(shp_path)\n",
    "\n",
    "print(len(sf.shapes()))\n",
    "print(sf.records()[1])\n",
    "#comuna = 'Pennsylvania'\n",
    "#com_id = df[df.NOM_COMUNA == comuna].index.get_values()[0]\n",
    "#plot_shape(com_id, comuna)"
   ]
  },
  {
   "cell_type": "code",
   "execution_count": null,
   "metadata": {},
   "outputs": [],
   "source": [
    "def read_shapefile(sf):\n",
    "    \"\"\"\n",
    "    Read a shapefile into a Pandas dataframe with a 'coords' \n",
    "    column holding the geometry information. This uses the pyshp\n",
    "    package\n",
    "    \"\"\"\n",
    "    fields = [x[0] for x in sf.fields][1:]\n",
    "    records = sf.records()\n",
    "    shps = [s.points for s in sf.shapes()]\n",
    "    df = pd.DataFrame(columns=fields, data=records)\n",
    "    df = df.assign(coords=shps)\n",
    "    return df"
   ]
  },
  {
   "cell_type": "code",
   "execution_count": null,
   "metadata": {},
   "outputs": [],
   "source": [
    "df = read_shapefile(sf)\n",
    "df.shape"
   ]
  },
  {
   "cell_type": "code",
   "execution_count": null,
   "metadata": {},
   "outputs": [],
   "source": [
    "df.sample(5)"
   ]
  },
  {
   "cell_type": "code",
   "execution_count": null,
   "metadata": {},
   "outputs": [],
   "source": [
    "df[df.NAME10 == 'Pennsylvania']"
   ]
  },
  {
   "cell_type": "code",
   "execution_count": null,
   "metadata": {},
   "outputs": [],
   "source": [
    "df['NAME10']"
   ]
  },
  {
   "cell_type": "code",
   "execution_count": null,
   "metadata": {},
   "outputs": [],
   "source": [
    "def plot_shape(id, s=None):\n",
    "    \"\"\" PLOTS A SINGLE SHAPE \"\"\"\n",
    "    plt.figure()\n",
    "    ax = plt.axes()\n",
    "    ax.set_aspect('equal')\n",
    "    shape_ex = sf.shape(id)\n",
    "    x_lon = np.zeros((len(shape_ex.points),1))\n",
    "    y_lat = np.zeros((len(shape_ex.points),1))\n",
    "    for ip in range(len(shape_ex.points)):\n",
    "        x_lon[ip] = shape_ex.points[ip][0]\n",
    "        y_lat[ip] = shape_ex.points[ip][1]\n",
    "        plt.plot(x_lon,y_lat) \n",
    "    x0 = np.mean(x_lon)\n",
    "    y0 = np.mean(y_lat)\n",
    "    plt.text(x0, y0, s, fontsize=10)\n",
    "    # use bbox (bounding box) to set plot limits\n",
    "    plt.xlim(shape_ex.bbox[0],shape_ex.bbox[2])\n",
    "    return x0, y0"
   ]
  },
  {
   "cell_type": "code",
   "execution_count": null,
   "metadata": {},
   "outputs": [],
   "source": [
    "plot_shape(12, s=None)"
   ]
  },
  {
   "cell_type": "code",
   "execution_count": null,
   "metadata": {},
   "outputs": [],
   "source": [
    "def plot_map(sf, x_lim = None, y_lim = None, figsize = (11,9)):\n",
    "    '''\n",
    "    Plot map with lim coordinates\n",
    "    '''\n",
    "    plt.figure(figsize = figsize)\n",
    "    id=0\n",
    "    for shape in sf.shapeRecords():\n",
    "        x = [i[0] for i in shape.shape.points[:]]\n",
    "        y = [i[1] for i in shape.shape.points[:]]\n",
    "        plt.plot(x, y, 'k')\n",
    "        \n",
    "        if (x_lim == None) & (y_lim == None):\n",
    "            x0 = np.mean(x)\n",
    "            y0 = np.mean(y)\n",
    "            plt.text(x0, y0, id, fontsize=10)\n",
    "        id = id+1\n",
    "    \n",
    "    if (x_lim != None) & (y_lim != None):     \n",
    "        plt.xlim(x_lim)\n",
    "        plt.ylim(y_lim)"
   ]
  },
  {
   "cell_type": "code",
   "execution_count": null,
   "metadata": {},
   "outputs": [],
   "source": [
    "plot_map(sf.1)"
   ]
  },
  {
   "cell_type": "code",
   "execution_count": null,
   "metadata": {},
   "outputs": [],
   "source": [
    "y_lim = (-33.7,-33.3) # latitude \n",
    "x_lim = (-71, -70.25) # longitude\n",
    "plot_map(sf, x_lim, y_lim)"
   ]
  },
  {
   "cell_type": "code",
   "execution_count": null,
   "metadata": {},
   "outputs": [],
   "source": []
  }
 ],
 "metadata": {
  "kernelspec": {
   "display_name": "Python(base)",
   "language": "python",
   "name": "base"
  },
  "language_info": {
   "codemirror_mode": {
    "name": "ipython",
    "version": 3
   },
   "file_extension": ".py",
   "mimetype": "text/x-python",
   "name": "python",
   "nbconvert_exporter": "python",
   "pygments_lexer": "ipython3",
   "version": "3.7.4"
  },
  "toc": {
   "base_numbering": 1,
   "nav_menu": {},
   "number_sections": true,
   "sideBar": true,
   "skip_h1_title": false,
   "title_cell": "Table of Contents",
   "title_sidebar": "Contents",
   "toc_cell": false,
   "toc_position": {},
   "toc_section_display": true,
   "toc_window_display": false
  }
 },
 "nbformat": 4,
 "nbformat_minor": 4
}
