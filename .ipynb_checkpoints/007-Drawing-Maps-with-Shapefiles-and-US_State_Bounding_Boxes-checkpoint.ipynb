{
 "cells": [
  {
   "cell_type": "raw",
   "metadata": {},
   "source": [
    "https://anthonylouisdagostino.com/bounding-boxes-for-all-us-states/\n",
    "    https://gist.githubusercontent.com/a8dx/2340f9527af64f8ef8439366de981168/raw/81d876daea10eab5c2675811c39bcd18a79a9212/US_State_Bounding_Boxes.csv"
   ]
  },
  {
   "cell_type": "markdown",
   "metadata": {},
   "source": [
    "https://pypi.org/project/pygdaltools/\n",
    "https://hifld-geoplatform.opendata.arcgis.com/    \n",
    "https://eric.clst.org/tech/usgeojson/    "
   ]
  },
  {
   "cell_type": "raw",
   "metadata": {},
   "source": [
    "topics to explore:\n",
    "    https://github.com/unitedstates/python-us\n",
    "    https://pythonhosted.org/Python%20Shapefile%20Library/    \n",
    "    ogr2ogr python"
   ]
  },
  {
   "cell_type": "code",
   "execution_count": 7,
   "metadata": {},
   "outputs": [
    {
     "name": "stdout",
     "output_type": "stream",
     "text": [
      "/home/jack/Desktop/COVID-19-Jupyter-Notebooks\r\n"
     ]
    }
   ],
   "source": [
    "!pwd"
   ]
  },
  {
   "cell_type": "code",
   "execution_count": 8,
   "metadata": {},
   "outputs": [
    {
     "name": "stdout",
     "output_type": "stream",
     "text": [
      "Sun_10_May_2020_09_29_00_AM_GMT.html\n"
     ]
    }
   ],
   "source": [
    "import sqlite3\n",
    "from datetime import datetime\n",
    "from time import gmtime, strftime\n",
    "import glob\n",
    "import time\n",
    "import os\n",
    "import requests\n",
    "stringTEXT = \"\"\n",
    "if not os.path.exists('state-data/DATA'):\n",
    "    os.makedirs('state-data/DATA')\n",
    "print (time.strftime('%a_%d_%b_%Y_%I_%M_%S_%p_%Z', time.gmtime())+\".html\")\n",
    "filename = \"state-data/DATA/US_State_Bounding_Boxes.csv\"\n",
    "DataIn = open(filename,\"w\")\n",
    "\n",
    "BoundingBoxes = \"\"\n",
    "response = requests.get('https://gist.githubusercontent.com/a8dx/2340f9527af64f8ef8439366de981168/raw/81d876daea10eab5c2675811c39bcd18a79a9212/US_State_Bounding_Boxes.csv')\n",
    "filename = \"state-data/DATA/US_State_Bounding_Boxes.csv\"\n",
    "with open(filename, mode='wb') as localfile:\n",
    "    localfile.write(response.content)\n"
   ]
  },
  {
   "cell_type": "markdown",
   "metadata": {},
   "source": [
    "# FYI Guam, a US territory. the Northern Mariana Islands (including the islands of Saipan, Tinian and Rota), which make up a Commonwealth of the United States."
   ]
  },
  {
   "cell_type": "code",
   "execution_count": 9,
   "metadata": {},
   "outputs": [
    {
     "name": "stdout",
     "output_type": "stream",
     "text": [
      "US_State_Bounding_Boxes.csv\r\n"
     ]
    }
   ],
   "source": [
    "!ls state-data/DATA"
   ]
  },
  {
   "cell_type": "markdown",
   "metadata": {},
   "source": [
    "## Open and explore the \"US_State_Bounding_Boxes.csv\""
   ]
  },
  {
   "cell_type": "code",
   "execution_count": 10,
   "metadata": {},
   "outputs": [
    {
     "name": "stdout",
     "output_type": "stream",
     "text": [
      "\"\",\"STATEFP\",\"STUSPS\",\"NAME\",\"xmin\",\"ymin\",\"xmax\",\"ymax\"\n",
      "\"1\",\"01\",\"AL\",\"Alabama\",-88.473227,30.223334,-84.88908,35.008028\n",
      "\"2\",\"02\",\"AK\",\"Alaska\",-179.148909,51.214183,179.77847,71.365162\n",
      "\"3\",\"60\",\"AS\",\"American Samoa\",-171.089874,-14.548699,-168.1433,-11.046934\n",
      "\"4\",\"04\",\"AZ\",\"Arizona\",-114.81651,31.332177,-109.045223,37.00426\n",
      "\"5\",\"05\",\"AR\",\"Arkansas\",-94.617919,33.004106,-89.644395,36.4996\n",
      "\"6\",\"06\",\"CA\",\"California\",-124.409591,32.534156,-114.131211,42.009518\n",
      "\"7\",\"08\",\"CO\",\"Colorado\",-109.060253,36.992426,-102.041524,41.003444\n",
      "\"8\",\"69\",\"MP\",\"Commonwealth of the Northern Mariana Islands\",144.886331,14.110472,146.064818,20.553802\n",
      "\"9\",\"09\",\"CT\",\"Connecticut\",-73.727775,40.980144,-71.786994,42.050587\n",
      "\"10\",\"10\",\"DE\",\"Delaware\",-75.788658,38.451013,-75.048939,39.839007\n",
      "\"11\",\"11\",\"DC\",\"District of Columbia\",-77.119759,38.791645,-76.909395,38.99511\n",
      "\"12\",\"12\",\"FL\",\"Florida\",-87.634938,24.523096,-80.031362,31.000888\n",
      "\"13\",\"13\",\"GA\",\"Georgia\",-85.605165,30.357851,-80.839729,35.000659\n",
      "\"14\",\"66\",\"GU\",\"Guam\",144.618068,13.234189,144.956712,13.654383\n",
      "\"15\",\"15\",\"HI\",\"Hawaii\",-178.334698,18.910361,-154.806773,28.402123\n",
      "\"16\",\"16\",\"ID\",\"Idaho\",-117.243027,41.988057,-111.043564,49.001146\n",
      "\"17\",\"17\",\"IL\",\"Illinois\",-91.513079,36.970298,-87.494756,42.508481\n",
      "\"18\",\"18\",\"IN\",\"Indiana\",-88.09776,37.771742,-84.784579,41.760592\n",
      "\"19\",\"19\",\"IA\",\"Iowa\",-96.639704,40.375501,-90.140061,43.501196\n",
      "\"20\",\"20\",\"KS\",\"Kansas\",-102.051744,36.993016,-94.588413,40.003162\n",
      "\"21\",\"21\",\"KY\",\"Kentucky\",-89.571509,36.497129,-81.964971,39.147458\n",
      "\"22\",\"22\",\"LA\",\"Louisiana\",-94.043147,28.928609,-88.817017,33.019457\n",
      "\"23\",\"23\",\"ME\",\"Maine\",-71.083924,42.977764,-66.949895,47.459686\n",
      "\"24\",\"24\",\"MD\",\"Maryland\",-79.487651,37.911717,-75.048939,39.723043\n",
      "\"25\",\"25\",\"MA\",\"Massachusetts\",-73.508142,41.237964,-69.928393,42.886589\n",
      "\"26\",\"26\",\"MI\",\"Michigan\",-90.418136,41.696118,-82.413474,48.2388\n",
      "\"27\",\"27\",\"MN\",\"Minnesota\",-97.239209,43.499356,-89.491739,49.384358\n",
      "\"28\",\"28\",\"MS\",\"Mississippi\",-91.655009,30.173943,-88.097888,34.996052\n",
      "\"29\",\"29\",\"MO\",\"Missouri\",-95.774704,35.995683,-89.098843,40.61364\n",
      "\"30\",\"30\",\"MT\",\"Montana\",-116.050003,44.358221,-104.039138,49.00139\n",
      "\"31\",\"31\",\"NE\",\"Nebraska\",-104.053514,39.999998,-95.30829,43.001708\n",
      "\"32\",\"32\",\"NV\",\"Nevada\",-120.005746,35.001857,-114.039648,42.002207\n",
      "\"33\",\"33\",\"NH\",\"New Hampshire\",-72.557247,42.69699,-70.610621,45.305476\n",
      "\"34\",\"34\",\"NJ\",\"New Jersey\",-75.559614,38.928519,-73.893979,41.357423\n",
      "\"35\",\"35\",\"NM\",\"New Mexico\",-109.050173,31.332301,-103.001964,37.000232\n",
      "\"36\",\"36\",\"NY\",\"New York\",-79.762152,40.496103,-71.856214,45.01585\n",
      "\"37\",\"37\",\"NC\",\"North Carolina\",-84.321869,33.842316,-75.460621,36.588117\n",
      "\"38\",\"38\",\"ND\",\"North Dakota\",-104.0489,45.935054,-96.554507,49.000574\n",
      "\"39\",\"39\",\"OH\",\"Ohio\",-84.820159,38.403202,-80.518693,41.977523\n",
      "\"40\",\"40\",\"OK\",\"Oklahoma\",-103.002565,33.615833,-94.430662,37.002206\n",
      "\"41\",\"41\",\"OR\",\"Oregon\",-124.566244,41.991794,-116.463504,46.292035\n",
      "\"42\",\"42\",\"PA\",\"Pennsylvania\",-80.519891,39.7198,-74.689516,42.26986\n",
      "\"43\",\"72\",\"PR\",\"Puerto Rico\",-67.945404,17.88328,-65.220703,18.515683\n",
      "\"44\",\"44\",\"RI\",\"Rhode Island\",-71.862772,41.146339,-71.12057,42.018798\n",
      "\"45\",\"45\",\"SC\",\"South Carolina\",-83.35391,32.0346,-78.54203,35.215402\n",
      "\"46\",\"46\",\"SD\",\"South Dakota\",-104.057698,42.479635,-96.436589,45.94545\n",
      "\"47\",\"47\",\"TN\",\"Tennessee\",-90.310298,34.982972,-81.6469,36.678118\n",
      "\"48\",\"48\",\"TX\",\"Texas\",-106.645646,25.837377,-93.508292,36.500704\n",
      "\"49\",\"78\",\"VI\",\"United States Virgin Islands\",-65.085452,17.673976,-64.564907,18.412655\n",
      "\"50\",\"49\",\"UT\",\"Utah\",-114.052962,36.997968,-109.041058,42.001567\n",
      "\"51\",\"50\",\"VT\",\"Vermont\",-73.43774,42.726853,-71.464555,45.016659\n",
      "\"52\",\"51\",\"VA\",\"Virginia\",-83.675395,36.540738,-75.242266,39.466012\n",
      "\"53\",\"53\",\"WA\",\"Washington\",-124.763068,45.543541,-116.915989,49.002494\n",
      "\"54\",\"54\",\"WV\",\"West Virginia\",-82.644739,37.201483,-77.719519,40.638801\n",
      "\"55\",\"55\",\"WI\",\"Wisconsin\",-92.888114,42.491983,-86.805415,47.080621\n",
      "\"56\",\"56\",\"WY\",\"Wyoming\",-111.056888,40.994746,-104.05216,45.005904\n"
     ]
    }
   ],
   "source": [
    "filename = \"state-data/DATA/US_State_Bounding_Boxes.csv\"\n",
    "output = open(filename,\"r\").readlines()\n",
    "for line in output:\n",
    "    line=line.replace(\"\\n\",\"\")\n",
    "    print(line)"
   ]
  },
  {
   "cell_type": "code",
   "execution_count": 11,
   "metadata": {},
   "outputs": [
    {
     "name": "stdout",
     "output_type": "stream",
     "text": [
      "Alabama,-88.473227,30.223334,-84.88908,35.008028\n"
     ]
    }
   ],
   "source": [
    "EX=\"01,AL,Alabama,-88.473227,30.223334,-84.88908,35.008028\"\n",
    "print(EX[6:])"
   ]
  },
  {
   "cell_type": "code",
   "execution_count": 12,
   "metadata": {},
   "outputs": [
    {
     "name": "stdout",
     "output_type": "stream",
     "text": [
      "NAME xmin ymin xmax ymax\n",
      "Alabama -88.473227 30.223334 -84.88908 35.008028\n",
      "Alaska -179.148909 51.214183 179.77847 71.365162\n",
      "American Samoa -171.089874 -14.548699 -168.1433 -11.046934\n",
      "Arizona -114.81651 31.332177 -109.045223 37.00426\n",
      "Arkansas -94.617919 33.004106 -89.644395 36.4996\n",
      "California -124.409591 32.534156 -114.131211 42.009518\n",
      "Colorado -109.060253 36.992426 -102.041524 41.003444\n",
      "Commonwealth of the Northern Mariana Islands 144.886331 14.110472 146.064818 20.553802\n",
      "Connecticut -73.727775 40.980144 -71.786994 42.050587\n",
      "Delaware -75.788658 38.451013 -75.048939 39.839007\n",
      "District of Columbia -77.119759 38.791645 -76.909395 38.99511\n",
      "Florida -87.634938 24.523096 -80.031362 31.000888\n",
      "Georgia -85.605165 30.357851 -80.839729 35.000659\n",
      "Guam 144.618068 13.234189 144.956712 13.654383\n",
      "Hawaii -178.334698 18.910361 -154.806773 28.402123\n",
      "Idaho -117.243027 41.988057 -111.043564 49.001146\n",
      "Illinois -91.513079 36.970298 -87.494756 42.508481\n",
      "Indiana -88.09776 37.771742 -84.784579 41.760592\n",
      "Iowa -96.639704 40.375501 -90.140061 43.501196\n",
      "Kansas -102.051744 36.993016 -94.588413 40.003162\n",
      "Kentucky -89.571509 36.497129 -81.964971 39.147458\n",
      "Louisiana -94.043147 28.928609 -88.817017 33.019457\n",
      "Maine -71.083924 42.977764 -66.949895 47.459686\n",
      "Maryland -79.487651 37.911717 -75.048939 39.723043\n",
      "Massachusetts -73.508142 41.237964 -69.928393 42.886589\n",
      "Michigan -90.418136 41.696118 -82.413474 48.2388\n",
      "Minnesota -97.239209 43.499356 -89.491739 49.384358\n",
      "Mississippi -91.655009 30.173943 -88.097888 34.996052\n",
      "Missouri -95.774704 35.995683 -89.098843 40.61364\n",
      "Montana -116.050003 44.358221 -104.039138 49.00139\n",
      "Nebraska -104.053514 39.999998 -95.30829 43.001708\n",
      "Nevada -120.005746 35.001857 -114.039648 42.002207\n",
      "New Hampshire -72.557247 42.69699 -70.610621 45.305476\n",
      "New Jersey -75.559614 38.928519 -73.893979 41.357423\n",
      "New Mexico -109.050173 31.332301 -103.001964 37.000232\n",
      "New York -79.762152 40.496103 -71.856214 45.01585\n",
      "North Carolina -84.321869 33.842316 -75.460621 36.588117\n",
      "North Dakota -104.0489 45.935054 -96.554507 49.000574\n",
      "Ohio -84.820159 38.403202 -80.518693 41.977523\n",
      "Oklahoma -103.002565 33.615833 -94.430662 37.002206\n",
      "Oregon -124.566244 41.991794 -116.463504 46.292035\n",
      "Pennsylvania -80.519891 39.7198 -74.689516 42.26986\n",
      "Puerto Rico -67.945404 17.88328 -65.220703 18.515683\n",
      "Rhode Island -71.862772 41.146339 -71.12057 42.018798\n",
      "South Carolina -83.35391 32.0346 -78.54203 35.215402\n",
      "South Dakota -104.057698 42.479635 -96.436589 45.94545\n",
      "Tennessee -90.310298 34.982972 -81.6469 36.678118\n",
      "Texas -106.645646 25.837377 -93.508292 36.500704\n",
      "United States Virgin Islands -65.085452 17.673976 -64.564907 18.412655\n",
      "Utah -114.052962 36.997968 -109.041058 42.001567\n",
      "Vermont -73.43774 42.726853 -71.464555 45.016659\n",
      "Virginia -83.675395 36.540738 -75.242266 39.466012\n",
      "Washington -124.763068 45.543541 -116.915989 49.002494\n",
      "West Virginia -82.644739 37.201483 -77.719519 40.638801\n",
      "Wisconsin -92.888114 42.491983 -86.805415 47.080621\n",
      "Wyoming -111.056888 40.994746 -104.05216 45.005904\n"
     ]
    }
   ],
   "source": [
    "File = b\"/home/jack/Desktop/state-data/DATA/US_State_Bounding_Boxes.csv\"\n",
    "BOXES = []\n",
    "DataOut = open(File, \"r\").readlines()\n",
    "cnt= 0\n",
    "\n",
    "for items in DataOut:\n",
    "    cnt=cnt+1\n",
    "    items=items.replace('\\n','')\n",
    "    clean=items.replace('\"','')\n",
    "    clean = clean.split(',')\n",
    "    print(\" \".join(clean[3:]))\n",
    "    entry=\" \".join(clean[3:])\n",
    "    BOXES.append(entry)"
   ]
  },
  {
   "cell_type": "code",
   "execution_count": 13,
   "metadata": {},
   "outputs": [
    {
     "name": "stdout",
     "output_type": "stream",
     "text": [
      "Overwriting US_State_Bounding_Boxes.py\n"
     ]
    }
   ],
   "source": [
    "%%writefile US_State_Bounding_Boxes.py\n",
    "DATA=\"\"\"\n",
    "NAME  xmin ymin xmax ymax\n",
    "Alabama  -88.473227 30.223334 -84.88908 35.008028\n",
    "Alaska  -179.148909 51.214183 179.77847 71.365162\n",
    "American Samoa  -171.089874 -14.548699 -168.1433 -11.046934\n",
    "Arizona  -114.81651 31.332177 -109.045223 37.00426\n",
    "Arkansas  -94.617919 33.004106 -89.644395 36.4996\n",
    "California  -124.409591 32.534156 -114.131211 42.009518\n",
    "Colorado  -109.060253 36.992426 -102.041524 41.003444\n",
    "Commonwealth of the Northern Mariana Islands  144.886331 14.110472 146.064818 20.553802\n",
    "Connecticut  -73.727775 40.980144 -71.786994 42.050587\n",
    "Delaware  -75.788658 38.451013 -75.048939 39.839007\n",
    "District of Columbia  -77.119759 38.791645 -76.909395 38.99511\n",
    "Florida  -87.634938 24.523096 -80.031362 31.000888\n",
    "Georgia  -85.605165 30.357851 -80.839729 35.000659\n",
    "Guam  144.618068 13.234189 144.956712 13.654383\n",
    "Hawaii  -178.334698 18.910361 -154.806773 28.402123\n",
    "Idaho  -117.243027 41.988057 -111.043564 49.001146\n",
    "Illinois  -91.513079 36.970298 -87.494756 42.508481\n",
    "Indiana  -88.09776 37.771742 -84.784579 41.760592\n",
    "Iowa  -96.639704 40.375501 -90.140061 43.501196\n",
    "Kansas  -102.051744 36.993016 -94.588413 40.003162\n",
    "Kentucky  -89.571509 36.497129 -81.964971 39.147458\n",
    "Louisiana  -94.043147 28.928609 -88.817017 33.019457\n",
    "Maine  -71.083924 42.977764 -66.949895 47.459686\n",
    "Maryland  -79.487651 37.911717 -75.048939 39.723043\n",
    "Massachusetts  -73.508142 41.237964 -69.928393 42.886589\n",
    "Michigan  -90.418136 41.696118 -82.413474 48.2388\n",
    "Minnesota  -97.239209 43.499356 -89.491739 49.384358\n",
    "Mississippi  -91.655009 30.173943 -88.097888 34.996052\n",
    "Missouri  -95.774704 35.995683 -89.098843 40.61364\n",
    "Montana  -116.050003 44.358221 -104.039138 49.00139\n",
    "Nebraska  -104.053514 39.999998 -95.30829 43.001708\n",
    "Nevada  -120.005746 35.001857 -114.039648 42.002207\n",
    "New Hampshire  -72.557247 42.69699 -70.610621 45.305476\n",
    "New Jersey  -75.559614 38.928519 -73.893979 41.357423\n",
    "New Mexico  -109.050173 31.332301 -103.001964 37.000232\n",
    "New York  -79.762152 40.496103 -71.856214 45.01585\n",
    "North Carolina  -84.321869 33.842316 -75.460621 36.588117\n",
    "North Dakota  -104.0489 45.935054 -96.554507 49.000574\n",
    "Ohio  -84.820159 38.403202 -80.518693 41.977523\n",
    "Oklahoma  -103.002565 33.615833 -94.430662 37.002206\n",
    "Oregon  -124.566244 41.991794 -116.463504 46.292035\n",
    "Pennsylvania  -80.519891 39.7198 -74.689516 42.26986\n",
    "Puerto Rico  -67.945404 17.88328 -65.220703 18.515683\n",
    "Rhode Island  -71.862772 41.146339 -71.12057 42.018798\n",
    "South Carolina  -83.35391 32.0346 -78.54203 35.215402\n",
    "South Dakota  -104.057698 42.479635 -96.436589 45.94545\n",
    "Tennessee  -90.310298 34.982972 -81.6469 36.678118\n",
    "Texas  -106.645646 25.837377 -93.508292 36.500704\n",
    "United States Virgin Islands  -65.085452 17.673976 -64.564907 18.412655\n",
    "Utah  -114.052962 36.997968 -109.041058 42.001567\n",
    "Vermont  -73.43774 42.726853 -71.464555 45.016659\n",
    "Virginia  -83.675395 36.540738 -75.242266 39.466012\n",
    "Washington  -124.763068 45.543541 -116.915989 49.002494\n",
    "West Virginia  -82.644739 37.201483 -77.719519 40.638801\n",
    "Wisconsin  -92.888114 42.491983 -86.805415 47.080621\n",
    "Wyoming  -111.056888 40.994746 -104.05216 45.005904\n",
    "\"\"\"\n",
    "def GetCOOR(state):\n",
    "    STATElist=DATA.split(\"\\n\")\n",
    "    for States in STATElist:\n",
    "        if state in States:\n",
    "            States = States.replace(\"  \",\" \")\n",
    "            States = States.split(\" \")\n",
    "            urcrnrlat = float(States[4])\n",
    "            llcrnrlat = float(States[2])\n",
    "            urcrnrlon = float(States[3])\n",
    "            llcrnrlon = float(States[1])\n",
    "            return urcrnrlat,llcrnrlat,urcrnrlon,llcrnrlon\n",
    "\n",
    "def COOR(state):\n",
    "    STATElist=DATA.split(\"\\n\")\n",
    "    for States in STATElist:\n",
    "        if state in States:\n",
    "            COOR=States.split(\"  \")\n",
    "            state = COOR[0]\n",
    "            coor =COOR[1]\n",
    "            return state,coor"
   ]
  },
  {
   "cell_type": "code",
   "execution_count": 14,
   "metadata": {},
   "outputs": [
    {
     "name": "stdout",
     "output_type": "stream",
     "text": [
      "48.2388 41.696118 -82.413474 -90.418136\n"
     ]
    }
   ],
   "source": [
    "from US_State_Bounding_Boxes import *\n",
    "coor= GetCOOR(\"Michigan\")\n",
    "print(coor[0],coor[1],coor[2],coor[3])"
   ]
  },
  {
   "cell_type": "code",
   "execution_count": 15,
   "metadata": {},
   "outputs": [],
   "source": [
    "from US_State_Bounding_Boxes import GetCOOR\n",
    "coor= GetCOOR(\"Michigan\")\n",
    "urcrnrlat = coor[0]\n",
    "llcrnrlat = coor[1]\n",
    "urcrnrlon = coor[2]\n",
    "llcrnrlon = coor[3]"
   ]
  },
  {
   "cell_type": "code",
   "execution_count": 16,
   "metadata": {},
   "outputs": [],
   "source": [
    "%matplotlib inline\n",
    "import numpy as np\n",
    "import pandas as pd\n",
    "import shapefile as shp\n",
    "import matplotlib.pyplot as plt\n",
    "import seaborn as sns\n",
    "\n",
    "sns.set(style=\"whitegrid\", palette=\"pastel\", color_codes=True)\n",
    "sns.mpl.rc(\"figure\", figsize=(10,6))\n",
    "\n"
   ]
  },
  {
   "cell_type": "code",
   "execution_count": 17,
   "metadata": {},
   "outputs": [],
   "source": [
    "!cp -a /mnt/40ec525c-34bc-44ef-99c8-53f5524ad88b/home/jack/Desktop/state-data/* state-data"
   ]
  },
  {
   "cell_type": "code",
   "execution_count": 18,
   "metadata": {},
   "outputs": [
    {
     "name": "stdout",
     "output_type": "stream",
     "text": [
      "cp: cannot stat '/home/jack/Desktop/state-data/tl_2010_us_state10.sh': No such file or directory\r\n"
     ]
    }
   ],
   "source": [
    "!cp /home/jack/Desktop/state-data/tl_2010_us_state10.sh state-data/DATA/"
   ]
  },
  {
   "cell_type": "code",
   "execution_count": 19,
   "metadata": {},
   "outputs": [
    {
     "data": {
      "text/plain": [
       "52"
      ]
     },
     "execution_count": 19,
     "metadata": {},
     "output_type": "execute_result"
    }
   ],
   "source": [
    "shp_path = \"state-data/tl_2010_us_state10.sh\"\n",
    "sf = shp.Reader(shp_path)\n",
    "\n",
    "len(sf.shapes())"
   ]
  },
  {
   "cell_type": "code",
   "execution_count": 20,
   "metadata": {},
   "outputs": [
    {
     "data": {
      "text/plain": [
       "14"
      ]
     },
     "execution_count": 20,
     "metadata": {},
     "output_type": "execute_result"
    }
   ],
   "source": [
    "# How many elements in the record ?\n",
    "len(sf.records()[1])"
   ]
  },
  {
   "cell_type": "code",
   "execution_count": 21,
   "metadata": {},
   "outputs": [
    {
     "data": {
      "text/plain": [
       "Record #1: ['1', '2', '42', '01779798', '42', 'PA', 'Pennsylvania', '00', 'G4000', 'A', 115883064314, 3397122731, '+40.9042486', '-077.8280624']"
      ]
     },
     "execution_count": 21,
     "metadata": {},
     "output_type": "execute_result"
    }
   ],
   "source": [
    "sf.records()[1]"
   ]
  },
  {
   "cell_type": "code",
   "execution_count": 22,
   "metadata": {},
   "outputs": [
    {
     "data": {
      "text/plain": [
       "'PA'"
      ]
     },
     "execution_count": 22,
     "metadata": {},
     "output_type": "execute_result"
    }
   ],
   "source": [
    "sf.records()[1][5]"
   ]
  },
  {
   "cell_type": "code",
   "execution_count": 23,
   "metadata": {},
   "outputs": [
    {
     "name": "stdout",
     "output_type": "stream",
     "text": [
      "52\n",
      "Record #1: ['1', '2', '42', '01779798', '42', 'PA', 'Pennsylvania', '00', 'G4000', 'A', 115883064314, 3397122731, '+40.9042486', '-077.8280624']\n"
     ]
    }
   ],
   "source": [
    "import numpy as np\n",
    "import pandas as pd\n",
    "import shapefile as shp\n",
    "import matplotlib.pyplot as plt\n",
    "import seaborn as sns\n",
    "sns.set(style=\"whitegrid\", palette=\"pastel\", color_codes=True)\n",
    "sns.mpl.rc(\"figure\", figsize=(10,6))\n",
    "%matplotlib inline\n",
    "shp_path = \"state-data/tl_2010_us_state10.sh\"\n",
    "sf = shp.Reader(shp_path)\n",
    "\n",
    "print(len(sf.shapes()))\n",
    "print(sf.records()[1])\n",
    "#comuna = 'Pennsylvania'\n",
    "#com_id = df[df.NOM_COMUNA == comuna].index.get_values()[0]\n",
    "#plot_shape(com_id, comuna)"
   ]
  },
  {
   "cell_type": "code",
   "execution_count": 24,
   "metadata": {},
   "outputs": [],
   "source": [
    "def read_shapefile(sf):\n",
    "    \"\"\"\n",
    "    Read a shapefile into a Pandas dataframe with a 'coords' \n",
    "    column holding the geometry information. This uses the pyshp\n",
    "    package\n",
    "    \"\"\"\n",
    "    fields = [x[0] for x in sf.fields][1:]\n",
    "    records = sf.records()\n",
    "    shps = [s.points for s in sf.shapes()]\n",
    "    df = pd.DataFrame(columns=fields, data=records)\n",
    "    df = df.assign(coords=shps)\n",
    "    return df"
   ]
  },
  {
   "cell_type": "code",
   "execution_count": 25,
   "metadata": {},
   "outputs": [
    {
     "data": {
      "text/plain": [
       "(52, 15)"
      ]
     },
     "execution_count": 25,
     "metadata": {},
     "output_type": "execute_result"
    }
   ],
   "source": [
    "df = read_shapefile(sf)\n",
    "df.shape"
   ]
  },
  {
   "cell_type": "code",
   "execution_count": 26,
   "metadata": {},
   "outputs": [
    {
     "data": {
      "text/html": [
       "<div>\n",
       "<style scoped>\n",
       "    .dataframe tbody tr th:only-of-type {\n",
       "        vertical-align: middle;\n",
       "    }\n",
       "\n",
       "    .dataframe tbody tr th {\n",
       "        vertical-align: top;\n",
       "    }\n",
       "\n",
       "    .dataframe thead th {\n",
       "        text-align: right;\n",
       "    }\n",
       "</style>\n",
       "<table border=\"1\" class=\"dataframe\">\n",
       "  <thead>\n",
       "    <tr style=\"text-align: right;\">\n",
       "      <th></th>\n",
       "      <th>REGION10</th>\n",
       "      <th>DIVISION10</th>\n",
       "      <th>STATEFP10</th>\n",
       "      <th>STATENS10</th>\n",
       "      <th>GEOID10</th>\n",
       "      <th>STUSPS10</th>\n",
       "      <th>NAME10</th>\n",
       "      <th>LSAD10</th>\n",
       "      <th>MTFCC10</th>\n",
       "      <th>FUNCSTAT10</th>\n",
       "      <th>ALAND10</th>\n",
       "      <th>AWATER10</th>\n",
       "      <th>INTPTLAT10</th>\n",
       "      <th>INTPTLON10</th>\n",
       "      <th>coords</th>\n",
       "    </tr>\n",
       "  </thead>\n",
       "  <tbody>\n",
       "    <tr>\n",
       "      <th>6</th>\n",
       "      <td>4</td>\n",
       "      <td>9</td>\n",
       "      <td>41</td>\n",
       "      <td>01155107</td>\n",
       "      <td>41</td>\n",
       "      <td>OR</td>\n",
       "      <td>Oregon</td>\n",
       "      <td>00</td>\n",
       "      <td>G4000</td>\n",
       "      <td>A</td>\n",
       "      <td>248607802255</td>\n",
       "      <td>6191433228</td>\n",
       "      <td>+43.9715225</td>\n",
       "      <td>-120.6226269</td>\n",
       "      <td>[(-124.55228199999999, 42.954518), (-124.54517...</td>\n",
       "    </tr>\n",
       "    <tr>\n",
       "      <th>5</th>\n",
       "      <td>1</td>\n",
       "      <td>1</td>\n",
       "      <td>44</td>\n",
       "      <td>01219835</td>\n",
       "      <td>44</td>\n",
       "      <td>RI</td>\n",
       "      <td>Rhode Island</td>\n",
       "      <td>00</td>\n",
       "      <td>G4000</td>\n",
       "      <td>A</td>\n",
       "      <td>2677566454</td>\n",
       "      <td>1323668539</td>\n",
       "      <td>+41.5978358</td>\n",
       "      <td>-071.5252895</td>\n",
       "      <td>[(-71.65320799999999, 41.217805), (-71.649378,...</td>\n",
       "    </tr>\n",
       "    <tr>\n",
       "      <th>40</th>\n",
       "      <td>3</td>\n",
       "      <td>6</td>\n",
       "      <td>47</td>\n",
       "      <td>01325873</td>\n",
       "      <td>47</td>\n",
       "      <td>TN</td>\n",
       "      <td>Tennessee</td>\n",
       "      <td>00</td>\n",
       "      <td>G4000</td>\n",
       "      <td>A</td>\n",
       "      <td>106797885992</td>\n",
       "      <td>2355218865</td>\n",
       "      <td>+35.8585639</td>\n",
       "      <td>-086.3493573</td>\n",
       "      <td>[(-88.38050799999999, 34.99561), (-88.38068299...</td>\n",
       "    </tr>\n",
       "    <tr>\n",
       "      <th>33</th>\n",
       "      <td>2</td>\n",
       "      <td>4</td>\n",
       "      <td>29</td>\n",
       "      <td>01779791</td>\n",
       "      <td>29</td>\n",
       "      <td>MO</td>\n",
       "      <td>Missouri</td>\n",
       "      <td>00</td>\n",
       "      <td>G4000</td>\n",
       "      <td>A</td>\n",
       "      <td>178039716301</td>\n",
       "      <td>2500563712</td>\n",
       "      <td>+38.3507500</td>\n",
       "      <td>-092.4567826</td>\n",
       "      <td>[(-90.220732, 36.497859), (-90.220925, 36.4978...</td>\n",
       "    </tr>\n",
       "    <tr>\n",
       "      <th>4</th>\n",
       "      <td>3</td>\n",
       "      <td>5</td>\n",
       "      <td>24</td>\n",
       "      <td>01714934</td>\n",
       "      <td>24</td>\n",
       "      <td>MD</td>\n",
       "      <td>Maryland</td>\n",
       "      <td>00</td>\n",
       "      <td>G4000</td>\n",
       "      <td>A</td>\n",
       "      <td>25141638381</td>\n",
       "      <td>6989579585</td>\n",
       "      <td>+38.9466584</td>\n",
       "      <td>-076.6744939</td>\n",
       "      <td>[(-75.747761, 39.143338), (-75.747646, 39.1418...</td>\n",
       "    </tr>\n",
       "  </tbody>\n",
       "</table>\n",
       "</div>"
      ],
      "text/plain": [
       "   REGION10 DIVISION10 STATEFP10 STATENS10 GEOID10 STUSPS10        NAME10  \\\n",
       "6         4          9        41  01155107      41       OR        Oregon   \n",
       "5         1          1        44  01219835      44       RI  Rhode Island   \n",
       "40        3          6        47  01325873      47       TN     Tennessee   \n",
       "33        2          4        29  01779791      29       MO      Missouri   \n",
       "4         3          5        24  01714934      24       MD      Maryland   \n",
       "\n",
       "   LSAD10 MTFCC10 FUNCSTAT10       ALAND10    AWATER10   INTPTLAT10  \\\n",
       "6      00   G4000          A  248607802255  6191433228  +43.9715225   \n",
       "5      00   G4000          A    2677566454  1323668539  +41.5978358   \n",
       "40     00   G4000          A  106797885992  2355218865  +35.8585639   \n",
       "33     00   G4000          A  178039716301  2500563712  +38.3507500   \n",
       "4      00   G4000          A   25141638381  6989579585  +38.9466584   \n",
       "\n",
       "      INTPTLON10                                             coords  \n",
       "6   -120.6226269  [(-124.55228199999999, 42.954518), (-124.54517...  \n",
       "5   -071.5252895  [(-71.65320799999999, 41.217805), (-71.649378,...  \n",
       "40  -086.3493573  [(-88.38050799999999, 34.99561), (-88.38068299...  \n",
       "33  -092.4567826  [(-90.220732, 36.497859), (-90.220925, 36.4978...  \n",
       "4   -076.6744939  [(-75.747761, 39.143338), (-75.747646, 39.1418...  "
      ]
     },
     "execution_count": 26,
     "metadata": {},
     "output_type": "execute_result"
    }
   ],
   "source": [
    "df.sample(5)"
   ]
  },
  {
   "cell_type": "code",
   "execution_count": 27,
   "metadata": {},
   "outputs": [
    {
     "data": {
      "text/html": [
       "<div>\n",
       "<style scoped>\n",
       "    .dataframe tbody tr th:only-of-type {\n",
       "        vertical-align: middle;\n",
       "    }\n",
       "\n",
       "    .dataframe tbody tr th {\n",
       "        vertical-align: top;\n",
       "    }\n",
       "\n",
       "    .dataframe thead th {\n",
       "        text-align: right;\n",
       "    }\n",
       "</style>\n",
       "<table border=\"1\" class=\"dataframe\">\n",
       "  <thead>\n",
       "    <tr style=\"text-align: right;\">\n",
       "      <th></th>\n",
       "      <th>REGION10</th>\n",
       "      <th>DIVISION10</th>\n",
       "      <th>STATEFP10</th>\n",
       "      <th>STATENS10</th>\n",
       "      <th>GEOID10</th>\n",
       "      <th>STUSPS10</th>\n",
       "      <th>NAME10</th>\n",
       "      <th>LSAD10</th>\n",
       "      <th>MTFCC10</th>\n",
       "      <th>FUNCSTAT10</th>\n",
       "      <th>ALAND10</th>\n",
       "      <th>AWATER10</th>\n",
       "      <th>INTPTLAT10</th>\n",
       "      <th>INTPTLON10</th>\n",
       "      <th>coords</th>\n",
       "    </tr>\n",
       "  </thead>\n",
       "  <tbody>\n",
       "    <tr>\n",
       "      <th>1</th>\n",
       "      <td>1</td>\n",
       "      <td>2</td>\n",
       "      <td>42</td>\n",
       "      <td>01779798</td>\n",
       "      <td>42</td>\n",
       "      <td>PA</td>\n",
       "      <td>Pennsylvania</td>\n",
       "      <td>00</td>\n",
       "      <td>G4000</td>\n",
       "      <td>A</td>\n",
       "      <td>115883064314</td>\n",
       "      <td>3397122731</td>\n",
       "      <td>+40.9042486</td>\n",
       "      <td>-077.8280624</td>\n",
       "      <td>[(-80.519091, 39.9622), (-80.519097, 39.962247...</td>\n",
       "    </tr>\n",
       "  </tbody>\n",
       "</table>\n",
       "</div>"
      ],
      "text/plain": [
       "  REGION10 DIVISION10 STATEFP10 STATENS10 GEOID10 STUSPS10        NAME10  \\\n",
       "1        1          2        42  01779798      42       PA  Pennsylvania   \n",
       "\n",
       "  LSAD10 MTFCC10 FUNCSTAT10       ALAND10    AWATER10   INTPTLAT10  \\\n",
       "1     00   G4000          A  115883064314  3397122731  +40.9042486   \n",
       "\n",
       "     INTPTLON10                                             coords  \n",
       "1  -077.8280624  [(-80.519091, 39.9622), (-80.519097, 39.962247...  "
      ]
     },
     "execution_count": 27,
     "metadata": {},
     "output_type": "execute_result"
    }
   ],
   "source": [
    "df[df.NAME10 == 'Pennsylvania']"
   ]
  },
  {
   "cell_type": "code",
   "execution_count": 28,
   "metadata": {},
   "outputs": [
    {
     "data": {
      "text/plain": [
       "0                  Wyoming\n",
       "1             Pennsylvania\n",
       "2                     Ohio\n",
       "3               New Mexico\n",
       "4                 Maryland\n",
       "5             Rhode Island\n",
       "6                   Oregon\n",
       "7              Puerto Rico\n",
       "8                Wisconsin\n",
       "9             North Dakota\n",
       "10                  Nevada\n",
       "11                 Georgia\n",
       "12                New York\n",
       "13                Arkansas\n",
       "14                  Kansas\n",
       "15                Nebraska\n",
       "16                    Utah\n",
       "17                  Alaska\n",
       "18             Mississippi\n",
       "19                Oklahoma\n",
       "20           West Virginia\n",
       "21                Michigan\n",
       "22                Colorado\n",
       "23              New Jersey\n",
       "24                Delaware\n",
       "25                 Montana\n",
       "26              Washington\n",
       "27             Connecticut\n",
       "28              California\n",
       "29                Kentucky\n",
       "30           Massachusetts\n",
       "31                 Florida\n",
       "32                   Idaho\n",
       "33                Missouri\n",
       "34                  Hawaii\n",
       "35                 Alabama\n",
       "36          South Carolina\n",
       "37           New Hampshire\n",
       "38            South Dakota\n",
       "39                Illinois\n",
       "40               Tennessee\n",
       "41                 Indiana\n",
       "42                    Iowa\n",
       "43                 Arizona\n",
       "44               Minnesota\n",
       "45               Louisiana\n",
       "46    District of Columbia\n",
       "47                Virginia\n",
       "48                   Texas\n",
       "49                 Vermont\n",
       "50                   Maine\n",
       "51          North Carolina\n",
       "Name: NAME10, dtype: object"
      ]
     },
     "execution_count": 28,
     "metadata": {},
     "output_type": "execute_result"
    }
   ],
   "source": [
    "df['NAME10']"
   ]
  },
  {
   "cell_type": "code",
   "execution_count": 29,
   "metadata": {},
   "outputs": [],
   "source": [
    "def plot_shape(id, s=None):\n",
    "    \"\"\" PLOTS A SINGLE SHAPE \"\"\"\n",
    "    plt.figure()\n",
    "    ax = plt.axes()\n",
    "    ax.set_aspect('equal')\n",
    "    shape_ex = sf.shape(id)\n",
    "    x_lon = np.zeros((len(shape_ex.points),1))\n",
    "    y_lat = np.zeros((len(shape_ex.points),1))\n",
    "    for ip in range(len(shape_ex.points)):\n",
    "        x_lon[ip] = shape_ex.points[ip][0]\n",
    "        y_lat[ip] = shape_ex.points[ip][1]\n",
    "        plt.plot(x_lon,y_lat) \n",
    "    x0 = np.mean(x_lon)\n",
    "    y0 = np.mean(y_lat)\n",
    "    plt.text(x0, y0, s, fontsize=10)\n",
    "    # use bbox (bounding box) to set plot limits\n",
    "    plt.xlim(shape_ex.bbox[0],shape_ex.bbox[2])\n",
    "    return x0, y0"
   ]
  },
  {
   "cell_type": "code",
   "execution_count": 30,
   "metadata": {},
   "outputs": [
    {
     "data": {
      "text/plain": [
       "(-74.65029386234536, 42.4732455346858)"
      ]
     },
     "execution_count": 30,
     "metadata": {},
     "output_type": "execute_result"
    },
    {
     "data": {
      "image/png": "[encoded data removed]",
      "text/plain": [
       "<Figure size 432x288 with 1 Axes>"
      ]
     },
     "metadata": {
      "needs_background": "light"
     },
     "output_type": "display_data"
    }
   ],
   "source": [
    "plot_shape(12, s=None)"
   ]
  },
  {
   "cell_type": "code",
   "execution_count": 31,
   "metadata": {},
   "outputs": [],
   "source": [
    "def plot_map(sf, x_lim = None, y_lim = None, figsize = (11,9)):\n",
    "    '''\n",
    "    Plot map with lim coordinates\n",
    "    '''\n",
    "    plt.figure(figsize = figsize)\n",
    "    id=0\n",
    "    for shape in sf.shapeRecords():\n",
    "        x = [i[0] for i in shape.shape.points[:]]\n",
    "        y = [i[1] for i in shape.shape.points[:]]\n",
    "        plt.plot(x, y, 'k')\n",
    "        \n",
    "        if (x_lim == None) & (y_lim == None):\n",
    "            x0 = np.mean(x)\n",
    "            y0 = np.mean(y)\n",
    "            plt.text(x0, y0, id, fontsize=10)\n",
    "        id = id+1\n",
    "    \n",
    "    if (x_lim != None) & (y_lim != None):     \n",
    "        plt.xlim(x_lim)\n",
    "        plt.ylim(y_lim)"
   ]
  },
  {
   "cell_type": "code",
   "execution_count": 32,
   "metadata": {},
   "outputs": [
    {
     "data": {
      "image/png": "[encoded data removed]",
      "text/plain": [
       "<Figure size 792x648 with 1 Axes>"
      ]
     },
     "metadata": {
      "needs_background": "light"
     },
     "output_type": "display_data"
    }
   ],
   "source": [
    "plot_map(sf,1)"
   ]
  },
  {
   "cell_type": "code",
   "execution_count": 33,
   "metadata": {},
   "outputs": [
    {
     "name": "stdout",
     "output_type": "stream",
     "text": [
      "Help on module US_State_Bounding_Boxes:\n",
      "\n",
      "NAME\n",
      "    US_State_Bounding_Boxes\n",
      "\n",
      "FUNCTIONS\n",
      "    COOR(state)\n",
      "    \n",
      "    GetCOOR(state)\n",
      "\n",
      "DATA\n",
      "    DATA = '\\nNAME  xmin ymin xmax ymax\\nAlabama  -88.473227 3...ming  -11...\n",
      "\n",
      "FILE\n",
      "    /home/jack/Desktop/COVID-19-Jupyter-Notebooks/US_State_Bounding_Boxes.py\n",
      "\n",
      "\n"
     ]
    }
   ],
   "source": [
    "import US_State_Bounding_Boxes\n",
    "help(US_State_Bounding_Boxes)"
   ]
  },
  {
   "cell_type": "code",
   "execution_count": 34,
   "metadata": {},
   "outputs": [
    {
     "data": {
      "text/plain": [
       "(41.977523, 38.403202, -80.518693, -84.820159)"
      ]
     },
     "execution_count": 34,
     "metadata": {},
     "output_type": "execute_result"
    }
   ],
   "source": [
    "from US_State_Bounding_Boxes import *\n",
    "state=\"Ohio\"\n",
    "GetCOOR(state)"
   ]
  },
  {
   "cell_type": "code",
   "execution_count": 35,
   "metadata": {},
   "outputs": [
    {
     "data": {
      "text/plain": [
       "(-84.820159, 41.977523)"
      ]
     },
     "execution_count": 35,
     "metadata": {},
     "output_type": "execute_result"
    }
   ],
   "source": [
    "from US_State_Bounding_Boxes import *\n",
    "state=\"Ohio\"\n",
    "a,b,c,d = GetCOOR(state)\n",
    "c,b\n",
    "d,a"
   ]
  },
  {
   "cell_type": "markdown",
   "metadata": {},
   "source": [
    "# from US_State_Bounding_Boxes import *"
   ]
  },
  {
   "cell_type": "code",
   "execution_count": 36,
   "metadata": {},
   "outputs": [
    {
     "name": "stdout",
     "output_type": "stream",
     "text": [
      "Overwriting US_State_Bounding_Boxes.py\n"
     ]
    }
   ],
   "source": [
    "%%writefile US_State_Bounding_Boxes.py\n",
    "DATA=\"\"\"\n",
    "NAME  xmin ymin xmax ymax\n",
    "Alabama  -88.473227 30.223334 -84.88908 35.008028\n",
    "Alaska  -179.148909 51.214183 179.77847 71.365162\n",
    "American Samoa  -171.089874 -14.548699 -168.1433 -11.046934\n",
    "Arizona  -114.81651 31.332177 -109.045223 37.00426\n",
    "Arkansas  -94.617919 33.004106 -89.644395 36.4996\n",
    "California  -124.409591 32.534156 -114.131211 42.009518\n",
    "Colorado  -109.060253 36.992426 -102.041524 41.003444\n",
    "Commonwealth of the Northern Mariana Islands  144.886331 14.110472 146.064818 20.553802\n",
    "Connecticut  -73.727775 40.980144 -71.786994 42.050587\n",
    "Delaware  -75.788658 38.451013 -75.048939 39.839007\n",
    "District of Columbia  -77.119759 38.791645 -76.909395 38.99511\n",
    "Florida  -87.634938 24.523096 -80.031362 31.000888\n",
    "Georgia  -85.605165 30.357851 -80.839729 35.000659\n",
    "Guam  144.618068 13.234189 144.956712 13.654383\n",
    "Hawaii  -178.334698 18.910361 -154.806773 28.402123\n",
    "Idaho  -117.243027 41.988057 -111.043564 49.001146\n",
    "Illinois  -91.513079 36.970298 -87.494756 42.508481\n",
    "Indiana  -88.09776 37.771742 -84.784579 41.760592\n",
    "Iowa  -96.639704 40.375501 -90.140061 43.501196\n",
    "Kansas  -102.051744 36.993016 -94.588413 40.003162\n",
    "Kentucky  -89.571509 36.497129 -81.964971 39.147458\n",
    "Louisiana  -94.043147 28.928609 -88.817017 33.019457\n",
    "Maine  -71.083924 42.977764 -66.949895 47.459686\n",
    "Maryland  -79.487651 37.911717 -75.048939 39.723043\n",
    "Massachusetts  -73.508142 41.237964 -69.928393 42.886589\n",
    "Michigan  -90.418136 41.696118 -82.413474 48.2388\n",
    "Minnesota  -97.239209 43.499356 -89.491739 49.384358\n",
    "Mississippi  -91.655009 30.173943 -88.097888 34.996052\n",
    "Missouri  -95.774704 35.995683 -89.098843 40.61364\n",
    "Montana  -116.050003 44.358221 -104.039138 49.00139\n",
    "Nebraska  -104.053514 39.999998 -95.30829 43.001708\n",
    "Nevada  -120.005746 35.001857 -114.039648 42.002207\n",
    "New Hampshire  -72.557247 42.69699 -70.610621 45.305476\n",
    "New Jersey  -75.559614 38.928519 -73.893979 41.357423\n",
    "New Mexico  -109.050173 31.332301 -103.001964 37.000232\n",
    "New York  -79.762152 40.496103 -71.856214 45.01585\n",
    "North Carolina  -84.321869 33.842316 -75.460621 36.588117\n",
    "North Dakota  -104.0489 45.935054 -96.554507 49.000574\n",
    "Ohio  -84.820159 38.403202 -80.518693 41.977523\n",
    "Oklahoma  -103.002565 33.615833 -94.430662 37.002206\n",
    "Oregon  -124.566244 41.991794 -116.463504 46.292035\n",
    "Pennsylvania  -80.519891 39.7198 -74.689516 42.26986\n",
    "Puerto Rico  -67.945404 17.88328 -65.220703 18.515683\n",
    "Rhode Island  -71.862772 41.146339 -71.12057 42.018798\n",
    "South Carolina  -83.35391 32.0346 -78.54203 35.215402\n",
    "South Dakota  -104.057698 42.479635 -96.436589 45.94545\n",
    "Tennessee  -90.310298 34.982972 -81.6469 36.678118\n",
    "Texas  -106.645646 25.837377 -93.508292 36.500704\n",
    "United States Virgin Islands  -65.085452 17.673976 -64.564907 18.412655\n",
    "Utah  -114.052962 36.997968 -109.041058 42.001567\n",
    "Vermont  -73.43774 42.726853 -71.464555 45.016659\n",
    "Virginia  -83.675395 36.540738 -75.242266 39.466012\n",
    "Washington  -124.763068 45.543541 -116.915989 49.002494\n",
    "West Virginia  -82.644739 37.201483 -77.719519 40.638801\n",
    "Wisconsin  -92.888114 42.491983 -86.805415 47.080621\n",
    "Wyoming  -111.056888 40.994746 -104.05216 45.005904\n",
    "\"\"\"\n",
    "def GetCOOR(state):\n",
    "    STATElist=DATA.split(\"\\n\")\n",
    "    for States in STATElist:\n",
    "        if state in States:\n",
    "            States = States.split(\"  \")[-1]\n",
    "            States = States.split(\" \")\n",
    "            urcrnrlat = float(States[3])\n",
    "            llcrnrlat = float(States[1])\n",
    "            urcrnrlon = float(States[2])\n",
    "            llcrnrlon = float(States[0])\n",
    "            return urcrnrlat,llcrnrlat,urcrnrlon,llcrnrlon\n",
    "\n",
    "def COOR(state):\n",
    "    STATElist=DATA.split(\"\\n\")\n",
    "    for States in STATElist:\n",
    "        if state in States:\n",
    "            COOR=States.split(\"  \")\n",
    "            state = COOR[0]\n",
    "            coor =COOR[1]\n",
    "            return state,coor\n"
   ]
  },
  {
   "cell_type": "code",
   "execution_count": 37,
   "metadata": {},
   "outputs": [
    {
     "data": {
      "text/plain": [
       "('Ohio', '-84.820159 38.403202 -80.518693 41.977523')"
      ]
     },
     "execution_count": 37,
     "metadata": {},
     "output_type": "execute_result"
    }
   ],
   "source": [
    "from US_State_Bounding_Boxes import *\n",
    "state=\"Ohio\"\n",
    "COOR(state)"
   ]
  },
  {
   "cell_type": "code",
   "execution_count": 38,
   "metadata": {},
   "outputs": [
    {
     "data": {
      "text/plain": [
       "(45.01585, 40.496103, -71.856214, -79.762152)"
      ]
     },
     "execution_count": 38,
     "metadata": {},
     "output_type": "execute_result"
    }
   ],
   "source": [
    "from US_State_Bounding_Boxes import *\n",
    "state=\"New York\"\n",
    "GetCOOR(state)"
   ]
  },
  {
   "cell_type": "code",
   "execution_count": 39,
   "metadata": {},
   "outputs": [
    {
     "data": {
      "image/png": "[encoded data removed]",
      "text/plain": [
       "<Figure size 792x648 with 1 Axes>"
      ]
     },
     "metadata": {
      "needs_background": "light"
     },
     "output_type": "display_data"
    }
   ],
   "source": [
    "from US_State_Bounding_Boxes import *\n",
    "#state=\"Ohio\"\n",
    "#state=\"Maine\"\n",
    "state=\"Florida\"\n",
    "#state=\"Michigan\"\n",
    "a,b,c,d = GetCOOR(state)\n",
    "#c,b\n",
    "#d,a\n",
    "#y_lim = (38.403202,41.977523) # latitude \n",
    "#x_lim = (-84.820159, -80.518693) # longitude\n",
    "\n",
    "padding = .5\n",
    "y_lim = (b-padding,a+padding) # latitude \n",
    "x_lim = (d-padding,c+padding) # longitude\n",
    "plot_map(sf, x_lim, y_lim)"
   ]
  },
  {
   "cell_type": "code",
   "execution_count": 40,
   "metadata": {},
   "outputs": [
    {
     "data": {
      "image/png": "[encoded data removed]",
      "text/plain": [
       "<Figure size 792x648 with 1 Axes>"
      ]
     },
     "metadata": {
      "needs_background": "light"
     },
     "output_type": "display_data"
    }
   ],
   "source": [
    "y_lim = (38.403202,41.977523) # latitude \n",
    "x_lim = (-84.820159, -80.518693) # longitude\n",
    "plot_map(sf, x_lim, y_lim)"
   ]
  },
  {
   "cell_type": "code",
   "execution_count": 41,
   "metadata": {},
   "outputs": [
    {
     "data": {
      "image/png": "[encoded data removed]",
      "text/plain": [
       "<Figure size 792x648 with 1 Axes>"
      ]
     },
     "metadata": {
      "needs_background": "light"
     },
     "output_type": "display_data"
    }
   ],
   "source": [
    "y_lim = (37.5,42.5) # latitude \n",
    "x_lim = (-86, -80) # longitude\n",
    "plot_map(sf, x_lim, y_lim)"
   ]
  },
  {
   "cell_type": "code",
   "execution_count": null,
   "metadata": {},
   "outputs": [],
   "source": []
  }
 ],
 "metadata": {
  "kernelspec": {
   "display_name": "Python(base)",
   "language": "python",
   "name": "base"
  },
  "language_info": {
   "codemirror_mode": {
    "name": "ipython",
    "version": 3
   },
   "file_extension": ".py",
   "mimetype": "text/x-python",
   "name": "python",
   "nbconvert_exporter": "python",
   "pygments_lexer": "ipython3",
   "version": "3.7.4"
  },
  "toc": {
   "base_numbering": 1,
   "nav_menu": {},
   "number_sections": true,
   "sideBar": true,
   "skip_h1_title": false,
   "title_cell": "Table of Contents",
   "title_sidebar": "Contents",
   "toc_cell": false,
   "toc_position": {},
   "toc_section_display": true,
   "toc_window_display": false
  }
 },
 "nbformat": 4,
 "nbformat_minor": 4
}
