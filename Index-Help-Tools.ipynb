{
 "cells": [
  {
   "cell_type": "code",
   "execution_count": null,
   "metadata": {},
   "outputs": [],
   "source": [
    "Index "
   ]
  },
  {
   "cell_type": "code",
   "execution_count": null,
   "metadata": {},
   "outputs": [],
   "source": [
    "import os\n",
    "import inspect\n",
    "print(inspect.getfile(Basemap))\n",
    "Python2.7  /usr/lib/python2.7/dist-packages/mpl_toolkits/basemap/__init__.pyc\n",
    "Python3.7: /home/jack/miniconda3/lib/python3.7/site-packages/mpl_toolkits/basemap/__init__.py"
   ]
  },
  {
   "cell_type": "code",
   "execution_count": 85,
   "metadata": {},
   "outputs": [
    {
     "name": "stdout",
     "output_type": "stream",
     "text": [
      "/home/jack/miniconda3/lib/python3.7/site-packages/mpl_toolkits/basemap/__init__.py\n"
     ]
    }
   ],
   "source": [
    "# Get the location of a module\n",
    "import os\n",
    "import inspect\n",
    "from mpl_toolkits.basemap import Basemap\n",
    "print(inspect.getfile(Basemap))"
   ]
  },
  {
   "cell_type": "markdown",
   "metadata": {},
   "source": [
    "# Filesearch Utility"
   ]
  },
  {
   "cell_type": "code",
   "execution_count": 87,
   "metadata": {},
   "outputs": [
    {
     "name": "stdout",
     "output_type": "stream",
     "text": [
      "1 Help on class Basemap in module mpl_toolkits.basemap:\n",
      "2 class Basemap(builtins.object)\n",
      "3 Basemap(llcrnrlon=None, llcrnrlat=None, urcrnrlon=None, urcrnrlat=None, llcrnrx=None, llcrnry=None, urcrnrx=None, urcrnry=None, width=None, height=None, projection='cyl', resolution='c', area_thresh=None, rsphere=6370997.0, ellps=None, lat_ts=None, lat_1=None, lat_2=None, lat_0=None, lon_0=None, lon_1=None, lon_2=None, o_lon_p=None, o_lat_p=None, k_0=None, no_rot=False, suppress_ticks=True, satellite_height=35786000, boundinglat=None, fix_aspect=True, anchor='C', celestial=False, round=False, epsg=None, ax=None)\n",
      "4 Methods defined here:\n",
      "5 __call__(self, x, y, inverse=False)\n",
      "-----------\n",
      "19 Input arguments lon, lat can be either scalar floats,\n",
      "20 sequences, or numpy arrays.\n",
      "21 __init__(self, llcrnrlon=None, llcrnrlat=None, urcrnrlon=None, urcrnrlat=None, llcrnrx=None, llcrnry=None, urcrnrx=None, urcrnry=None, width=None, height=None, projection='cyl', resolution='c', area_thresh=None, rsphere=6370997.0, ellps=None, lat_ts=None, lat_1=None, lat_2=None, lat_0=None, lon_0=None, lon_1=None, lon_2=None, o_lon_p=None, o_lat_p=None, k_0=None, no_rot=False, suppress_ticks=True, satellite_height=35786000, boundinglat=None, fix_aspect=True, anchor='C', celestial=False, round=False, epsg=None, ax=None)\n",
      "22 Sets up a basemap with specified map projection.\n",
      "23 and creates the coastline data structures in map projection\n",
      "-----------\n",
      "304 >>> lats  = np.loadtxt('etopo20lats.gz')\n",
      "305 >>> # create Basemap instance for Robinson projection.\n",
      "306 >>> m = Basemap(projection='robin',lon_0=0.5*(lons[0]+lons[-1]))\n",
      "307 >>> # compute map projection coordinates for lat/lon grid.\n",
      "308 >>> x, y = m(*np.meshgrid(lons,lats))\n",
      "-----------\n",
      "1150 lats  = np.loadtxt('/home/jack/Desktop/state-data/basemap/examples/etopo20lats.gz')\n",
      "1151 # create Basemap instance for Robinson projection.\n",
      "1152 m = Basemap(projection='robin',lon_0=0.5*(lons[0]+lons[-1]))\n"
     ]
    }
   ],
   "source": [
    "from FileSearch import filesearch                \n",
    "search =\"projection=\"\n",
    "filename = \"basemap.help\"\n",
    "filesearch(search,filename,Range=3)"
   ]
  },
  {
   "cell_type": "code",
   "execution_count": 83,
   "metadata": {},
   "outputs": [
    {
     "name": "stdout",
     "output_type": "stream",
     "text": [
      "Overwriting FileSearch.py\n"
     ]
    }
   ],
   "source": [
    "%%writefile FileSearch.py\n",
    "#!/usr/bin/env -m python\n",
    "\"\"\"\n",
    "Searches a file enter search term and filename\n",
    "Range is to give context before and after the search term.\n",
    "It defaults to eight lines before the word and eight lines after.\n",
    "USAGE:\n",
    "from FileSearch import filesearch                \n",
    "search =\"urcrnrlat\"\n",
    "filename = \"basemap.help\"\n",
    "filesearch(search,filename,Range=2)\n",
    "\n",
    "\"\"\"\n",
    "def filesearch(search,filename, Range=8):\n",
    "    cnt=0\n",
    "    oldcount = -8\n",
    "    INDEX = []\n",
    "    for view in open(filename, \"r\").readlines():\n",
    "        cnt=cnt+1\n",
    "        view=view.replace(\"\\n\",\"\")\n",
    "        if search in view:\n",
    "            if cnt>oldcount:\n",
    "                INDEX.append([search,cnt-Range,cnt+Range])\n",
    "                oldcount=cnt+(Range*2)\n",
    "    cnt=0\n",
    "    cnt0=0\n",
    "    for view in open(filename, \"r\").readlines():\n",
    "            cnt=cnt+1\n",
    "            line=view.replace(\"\\n\",\"\")\n",
    "            for content in INDEX:\n",
    "                if cnt > int(content[1]) and cnt < int(content[2]):\n",
    "                    print(cnt,line)\n",
    "                    if cnt==int(content[2]-1):print(\"-----------\")  \n"
   ]
  },
  {
   "cell_type": "code",
   "execution_count": null,
   "metadata": {},
   "outputs": [],
   "source": [
    "from FileSearch import filesearch                \n",
    "\n",
    "search =\"urcrnrlat\"\n",
    "filename = \"basemap.help\"\n",
    "filesearch(search,filename)"
   ]
  },
  {
   "cell_type": "code",
   "execution_count": 72,
   "metadata": {},
   "outputs": [
    {
     "name": "stdout",
     "output_type": "stream",
     "text": [
      "1 Help on class Basemap in module mpl_toolkits.basemap:\n",
      "2 class Basemap(builtins.object)\n",
      "3 Basemap(llcrnrlon=None, llcrnrlat=None, urcrnrlon=None, urcrnrlat=None, llcrnrx=None, llcrnry=None, urcrnrx=None, urcrnry=None, width=None, height=None, projection='cyl', resolution='c', area_thresh=None, rsphere=6370997.0, ellps=None, lat_ts=None, lat_1=None, lat_2=None, lat_0=None, lon_0=None, lon_1=None, lon_2=None, o_lon_p=None, o_lat_p=None, k_0=None, no_rot=False, suppress_ticks=True, satellite_height=35786000, boundinglat=None, fix_aspect=True, anchor='C', celestial=False, round=False, epsg=None, ax=None)\n",
      "4 Methods defined here:\n",
      "5 __call__(self, x, y, inverse=False)\n",
      "6 Calling a Basemap class instance with the arguments lon, lat will\n",
      "7 convert lon/lat (in degrees) to x/y map projection\n",
      "8 coordinates (in meters).  If optional keyword ``inverse`` is\n",
      "9 True (default is False), the inverse transformation from x/y\n",
      "10 to lon/lat is performed.\n",
      "-----------\n",
      "14 always returns longitudes between -180 and 180 degrees. For\n",
      "15 cylindrical projections (self.projection == ``cyl``,\n",
      "16 ``cea``, ``mill``, ``gall`` or ``merc``)\n",
      "17 the inverse transformation will return longitudes between\n",
      "18 self.llcrnrlon and self.llcrnrlat.\n",
      "19 Input arguments lon, lat can be either scalar floats,\n",
      "20 sequences, or numpy arrays.\n",
      "21 __init__(self, llcrnrlon=None, llcrnrlat=None, urcrnrlon=None, urcrnrlat=None, llcrnrx=None, llcrnry=None, urcrnrx=None, urcrnry=None, width=None, height=None, projection='cyl', resolution='c', area_thresh=None, rsphere=6370997.0, ellps=None, lat_ts=None, lat_1=None, lat_2=None, lat_0=None, lon_0=None, lon_1=None, lon_2=None, o_lon_p=None, o_lat_p=None, k_0=None, no_rot=False, suppress_ticks=True, satellite_height=35786000, boundinglat=None, fix_aspect=True, anchor='C', celestial=False, round=False, epsg=None, ax=None)\n",
      "22 Sets up a basemap with specified map projection.\n",
      "23 and creates the coastline data structures in map projection\n",
      "24 coordinates.\n",
      "25 Calling a Basemap class instance with the arguments lon, lat will\n",
      "26 convert lon/lat (in degrees) to x/y map projection coordinates\n",
      "27 (in meters). The inverse transformation is done if the optional keyword\n",
      "28 ``inverse`` is set to True.\n",
      "-----------\n",
      "162 of map projection region (default True).\n",
      "163 anchor determines how map is placed in axes rectangle\n",
      "164 (passed to axes.set_aspect). Default is ``C``,\n",
      "165 which means map is centered.\n",
      "166 Allowed values are\n",
      "167 ``C``, ``SW``, ``S``, ``SE``, ``E``, ``NE``,\n",
      "168 ``N``, ``NW``, and ``W``.\n",
      "169 celestial   use astronomical conventions for longitude (i.e.\n",
      "170 negative longitudes to the east of 0). Default False.\n",
      "171 Implies resolution=None.\n",
      "172 axset default axes instance\n",
      "173 (default None - matplotlib.pyplot.gca() may be used\n",
      "174 to get the current axes instance).\n",
      "175 If you do not want matplotlib.pyplot to be imported,\n",
      "176 you can either set this to a pre-defined axes\n",
      "-----------\n"
     ]
    }
   ],
   "source": [
    "cnt=0\n",
    "cnt0=0\n",
    "for view in open(\"basemap.help\", \"r\").readlines():\n",
    "        cnt=cnt+1\n",
    "        line=view.replace(\"\\n\",\"\")\n",
    "        for content in INDEX:\n",
    "            if cnt > int(content[1]) and cnt < int(content[2]):\n",
    "                print(cnt,line)\n",
    "                if cnt==int(content[2]-1):print(\"-----------\")"
   ]
  },
  {
   "cell_type": "code",
   "execution_count": 36,
   "metadata": {},
   "outputs": [
    {
     "name": "stdout",
     "output_type": "stream",
     "text": [
      "-2 8\n",
      "16 26\n",
      "164 174\n"
     ]
    }
   ],
   "source": [
    "for content in INDEX:\n",
    "    print (int(content[1]),int(content[2]))\n",
    "        "
   ]
  },
  {
   "cell_type": "code",
   "execution_count": null,
   "metadata": {},
   "outputs": [],
   "source": []
  }
 ],
 "metadata": {
  "kernelspec": {
   "display_name": "Python(base)",
   "language": "python",
   "name": "base"
  },
  "language_info": {
   "codemirror_mode": {
    "name": "ipython",
    "version": 3
   },
   "file_extension": ".py",
   "mimetype": "text/x-python",
   "name": "python",
   "nbconvert_exporter": "python",
   "pygments_lexer": "ipython3",
   "version": "3.7.4"
  },
  "toc": {
   "base_numbering": 1,
   "nav_menu": {},
   "number_sections": true,
   "sideBar": true,
   "skip_h1_title": false,
   "title_cell": "Table of Contents",
   "title_sidebar": "Contents",
   "toc_cell": false,
   "toc_position": {},
   "toc_section_display": true,
   "toc_window_display": false
  }
 },
 "nbformat": 4,
 "nbformat_minor": 4
}
