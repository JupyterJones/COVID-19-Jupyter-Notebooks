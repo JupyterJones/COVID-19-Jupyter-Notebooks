{
 "cells": [
  {
   "cell_type": "markdown",
   "metadata": {},
   "source": [
    "<b>\n",
    "<a href=\"000-Data-Resources-Getting-the-Data.ipynb\">000-Data-Resources-Getting-the-Data.ipynb</a><br />\n",
    "<a href=\"001-Help-and-Tools.ipynb\">001-Help-and-Tools.ipynb</a><br/>\n",
    "\n",
    "<a href=\"004-Plotly-Country-Cases-and-Deaths-Increase-Decrease.ipynb\">004-Plotly-Country-Cases-and-Deaths-Increase-Decrease.ipynb</a><br/>\n",
    "<a href=\"005-Basemap-Using-arcGIS-server.ipynb\">005-Basemap-Using-arcGIS-server.ipynb</a><br/>\n",
    "    <a href=\"012-Animation-MP4-Experimental.ipynb\">012-Animation-MP4-Experimental.ipynb</a><br/>\n",
    "<a href=\"020-Available-Matplotlib-Colors.ipynb\">020-Available-Matplotlib-Colors.ipynb</a><br/>\n",
    "</b>    "
   ]
  },
  {
   "cell_type": "markdown",
   "metadata": {},
   "source": [
    "# Generate a filename"
   ]
  },
  {
   "cell_type": "code",
   "execution_count": 32,
   "metadata": {},
   "outputs": [
    {
     "name": "stdout",
     "output_type": "stream",
     "text": [
      "csv/owid-covid-data.csv\n"
     ]
    }
   ],
   "source": [
    "import requests as req\n",
    "import time\n",
    "DATE = time.strftime(\"%m-%d-%H_\")\n",
    "URL =\"https://covid.ourworldindata.org/data/owid-covid-data.csv\"\n",
    "#create a date oriented filename and print it\n",
    "filename=\"csv/\"+URL.split(\"/\")[-1]\n",
    "print(filename)"
   ]
  },
  {
   "cell_type": "markdown",
   "metadata": {},
   "source": [
    "# Create the directory 'csv' if it does not exist"
   ]
  },
  {
   "cell_type": "code",
   "execution_count": 28,
   "metadata": {},
   "outputs": [
    {
     "name": "stdout",
     "output_type": "stream",
     "text": [
      "Directory  csv  already exists.\n"
     ]
    }
   ],
   "source": [
    "import os.path\n",
    "import os\n",
    "DirName = 'csv'    \n",
    "# Create 'DirName' if don't exist\n",
    "if not os.path.exists(DirName):\n",
    "    os.mkdir(DirName)\n",
    "    print('Directory ' , DirName ,  ' Created.')\n",
    "else:    \n",
    "    print('Directory ' , DirName ,  ' already exists.')"
   ]
  },
  {
   "cell_type": "markdown",
   "metadata": {},
   "source": [
    "## Get the data and write it to a file "
   ]
  },
  {
   "cell_type": "code",
   "execution_count": 1,
   "metadata": {},
   "outputs": [
    {
     "name": "stdout",
     "output_type": "stream",
     "text": [
      "csv/owid-covid-data.csv\n"
     ]
    }
   ],
   "source": [
    "import requests as req\n",
    "URL=\"https://raw.githubusercontent.com/owid/covid-19-data/master/public/data/owid-covid-data.csv\"\n",
    "resp = req.get(URL)\n",
    "text = resp.content\n",
    "#create a date oriented filename and print it\n",
    "filename=\"csv/\"+URL.split(\"/\")[-1]\n",
    "STAT =filename[:-4]\n",
    "TEMP = open(filename,\"wb\")\n",
    "TEMP.write(text)\n",
    "TEMP.close()\n",
    "print(filename)"
   ]
  },
  {
   "cell_type": "code",
   "execution_count": 2,
   "metadata": {},
   "outputs": [
    {
     "name": "stdout",
     "output_type": "stream",
     "text": [
      "csv/time_series_covid19_deaths_global.csv\n"
     ]
    }
   ],
   "source": [
    "import requests as req\n",
    "URL =\"https://raw.githubusercontent.com/CSSEGISandData/COVID-19/master/csse_covid_19_data/csse_covid_19_time_series/time_series_covid19_deaths_global.csv\"\n",
    "resp = req.get(URL)\n",
    "text = resp.content\n",
    "#create a date oriented filename and print it\n",
    "filename=\"csv/\"+URL.split(\"/\")[-1]\n",
    "TEMP = open(filename,\"wb\")\n",
    "TEMP.write(text)\n",
    "TEMP.close()\n",
    "print(filename)"
   ]
  },
  {
   "cell_type": "markdown",
   "metadata": {},
   "source": [
    "# Yesterdays GMT"
   ]
  },
  {
   "cell_type": "code",
   "execution_count": 5,
   "metadata": {},
   "outputs": [],
   "source": [
    "from datetime import datetime\n",
    "from datetime import date, timedelta\n",
    "yesterday = datetime.utcnow() - timedelta(days=1)\n",
    "YesterdaysGMT=yesterday.strftime('%m-%d-%y')"
   ]
  },
  {
   "cell_type": "code",
   "execution_count": 6,
   "metadata": {},
   "outputs": [
    {
     "data": {
      "text/plain": [
       "'05-12-2020'"
      ]
     },
     "execution_count": 6,
     "metadata": {},
     "output_type": "execute_result"
    }
   ],
   "source": [
    "# todays GMT \n",
    "from datetime import datetime\n",
    "datetime.utcnow().strftime('%m-%d-%Y')"
   ]
  },
  {
   "cell_type": "code",
   "execution_count": 7,
   "metadata": {},
   "outputs": [
    {
     "name": "stdout",
     "output_type": "stream",
     "text": [
      "csv/05-10-2020.csv\n"
     ]
    }
   ],
   "source": [
    "import requests as req\n",
    "import time\n",
    "from datetime import date, timedelta\n",
    "yesterday = datetime.utcnow() - timedelta(days=2)\n",
    "YesterdaysGMT=yesterday.strftime('%m-%d-%Y')\n",
    "\n",
    "URL =\"https://raw.githubusercontent.com/CSSEGISandData/COVID-19/master/csse_covid_19_data/csse_covid_19_daily_reports/\"+YesterdaysGMT+\".csv\"\n",
    "\n",
    "resp = req.get(URL)\n",
    "content = resp.text\n",
    "\n",
    "#create a date oriented filename and print it\n",
    "filename=\"csv/\"+URL[-14:]\n",
    "print(filename)\n",
    "#content=content.lstrip(\",\")\n",
    "content=content.replace(\",,,\",\"null,\")\n",
    "content=content.replace(\",,\",\"null,\")\n",
    "content=content.replace(\"(\",\"\")\n",
    "content=content.replace(\")\",\"\")\n",
    "content=content.replace(\"\\\"\",\"\")\n",
    "#print(content)\n",
    "# Open a file using the new filename and write the content of the 'gitfile' to it.\n",
    "# Update one time daily\n",
    "TEMP = open(filename,\"w\")\n",
    "TEMP.write(content)\n",
    "TEMP.close()"
   ]
  },
  {
   "cell_type": "markdown",
   "metadata": {},
   "source": [
    "#### List the files in the csv directory"
   ]
  },
  {
   "cell_type": "code",
   "execution_count": 106,
   "metadata": {},
   "outputs": [
    {
     "name": "stdout",
     "output_type": "stream",
     "text": [
      "total 2896\r\n",
      "-rw-rw-r--  1 1000 1000 2542856 May 10 07:17 owid-covid-data.csv\r\n",
      "-rw-rw-r--  1 1000 1000   73682 May 10 07:18 time_series_covid19_deaths_global.csv\r\n",
      "-rw-rw-r--  1 1000 1000  328671 May 10 08:47 05-08-2020.csv\r\n",
      "drwxrwxr-x  2 1000 1000    4096 May 10 08:47 .\r\n",
      "drwxrwxr-x 13 1000 1000   12288 May 10 08:57 ..\r\n"
     ]
    }
   ],
   "source": [
    "# List the files in the csv directory\n",
    "!ls -rant csv"
   ]
  },
  {
   "cell_type": "markdown",
   "metadata": {},
   "source": [
    "# NO FILE CREATION\n",
    "## Get the data and write it to a \"list in memory\""
   ]
  },
  {
   "cell_type": "code",
   "execution_count": 10,
   "metadata": {},
   "outputs": [],
   "source": [
    "import requests as req\n",
    "URL=\"https://raw.githubusercontent.com/owid/covid-19-data/master/public/data/owid-covid-data.csv\"\n",
    "resp = req.get(URL)\n",
    "OWID = []\n",
    "text = resp.content\n",
    "data=text.splitlines()\n",
    "cnt=0\n",
    "for line in data:\n",
    "    cnt=cnt+1\n",
    "    if cnt<5:\n",
    "        # remove the b' before the line\n",
    "        line = line.decode('utf-8') \n",
    "        OWID.append([line])"
   ]
  },
  {
   "cell_type": "markdown",
   "metadata": {},
   "source": [
    "### Simply run OWID=[] to free up the memory\n",
    "#### It creates a blank list"
   ]
  },
  {
   "cell_type": "raw",
   "metadata": {},
   "source": [
    "OWID=[]"
   ]
  },
  {
   "cell_type": "markdown",
   "metadata": {},
   "source": [
    "#### https://github.com/CSSEGISandData/COVID-19/tree/master/csse_covid_19_data/csse_covid_19_time_series"
   ]
  },
  {
   "cell_type": "code",
   "execution_count": 11,
   "metadata": {},
   "outputs": [],
   "source": [
    "import requests as req\n",
    "URL =\"https://raw.githubusercontent.com/CSSEGISandData/COVID-19/master/csse_covid_19_data/csse_covid_19_time_series/time_series_covid19_deaths_global.csv\"\n",
    "CSSEGIS =[]\n",
    "resp = req.get(URL)\n",
    "text = resp.content\n",
    "data=text.splitlines()\n",
    "cnt=0\n",
    "for line in data:\n",
    "    cnt=cnt+1\n",
    "    # remove the b' befor the line\n",
    "    line = line.decode('utf-8')\n",
    "    line=line.lstrip(\",\")\n",
    "    CSSEGIS.append(line)"
   ]
  },
  {
   "cell_type": "code",
   "execution_count": 12,
   "metadata": {},
   "outputs": [
    {
     "name": "stdout",
     "output_type": "stream",
     "text": [
      "Andorra,42.5063,1.5218,0,0,0,0,0,0,0,0,0,0,0,0,0,0,0,0,0,0,0,0,0,0,0,0,0,0,0,0,0,0,0,0,0,0,0,0,0,0,0,0,0,0,0,0,0,0,0,0,0,0,0,0,0,0,0,0,0,0,0,0,1,1,1,1,3,3,3,6,8,12,14,15,16,17,18,21,22,23,25,26,26,29,29,31,33,33,35,35,36,37,37,37,37,40,40,40,40,41,42,42,43,44,45,45,46,46,47,47,48,48,48\n"
     ]
    }
   ],
   "source": [
    "print(CSSEGIS[4])"
   ]
  },
  {
   "cell_type": "code",
   "execution_count": 13,
   "metadata": {},
   "outputs": [
    {
     "name": "stdout",
     "output_type": "stream",
     "text": [
      "Province/State,Country/Region,Lat,Long,1/22/20,1/23/20,1/24/20,1/25/20,1/26/20,1/27/20,1/28/20,1/29/20,1/30/20,1/31/20,2/1/20,2/2/20,2/3/20,2/4/20,2/5/20,2/6/20,2/7/20,2/8/20,2/9/20,2/10/20,2/11/20,2/12/20,2/13/20,2/14/20,2/15/20,2/16/20,2/17/20,2/18/20,2/19/20,2/20/20,2/21/20,2/22/20,2/23/20,2/24/20,2/25/20,2/26/20,2/27/20,2/28/20,2/29/20,3/1/20,3/2/20,3/3/20,3/4/20,3/5/20,3/6/20,3/7/20,3/8/20,3/9/20,3/10/20,3/11/20,3/12/20,3/13/20,3/14/20,3/15/20,3/16/20,3/17/20,3/18/20,3/19/20,3/20/20,3/21/20,3/22/20,3/23/20,3/24/20,3/25/20,3/26/20,3/27/20,3/28/20,3/29/20,3/30/20,3/31/20,4/1/20,4/2/20,4/3/20,4/4/20,4/5/20,4/6/20,4/7/20,4/8/20,4/9/20,4/10/20,4/11/20,4/12/20,4/13/20,4/14/20,4/15/20,4/16/20,4/17/20,4/18/20,4/19/20,4/20/20,4/21/20,4/22/20,4/23/20,4/24/20,4/25/20,4/26/20,4/27/20,4/28/20,4/29/20,4/30/20,5/1/20,5/2/20,5/3/20,5/4/20,5/5/20,5/6/20,5/7/20,5/8/20,5/9/20,5/10/20,5/11/20\n",
      "Afghanistan,33.0,65.0,0,0,0,0,0,0,0,0,0,0,0,0,0,0,0,0,0,0,0,0,0,0,0,0,0,0,0,0,0,0,0,0,0,0,0,0,0,0,0,0,0,0,0,0,0,0,0,0,0,0,0,0,0,0,0,0,0,0,0,0,1,1,1,2,4,4,4,4,4,4,4,6,6,7,7,11,14,14,15,15,18,18,21,23,25,30,30,30,33,36,36,40,42,43,47,50,57,58,60,64,68,72,85,90,95,104,106,109,115,120,122\n",
      "Albania,41.1533,20.1683,0,0,0,0,0,0,0,0,0,0,0,0,0,0,0,0,0,0,0,0,0,0,0,0,0,0,0,0,0,0,0,0,0,0,0,0,0,0,0,0,0,0,0,0,0,0,0,0,0,1,1,1,1,1,1,1,2,2,2,2,2,4,5,5,6,8,10,10,11,15,15,16,17,20,20,21,22,22,23,23,23,23,23,24,25,26,26,26,26,26,26,27,27,27,27,28,28,30,30,31,31,31,31,31,31,31,31,31,31,31,31\n",
      "Algeria,28.0339,1.6596,0,0,0,0,0,0,0,0,0,0,0,0,0,0,0,0,0,0,0,0,0,0,0,0,0,0,0,0,0,0,0,0,0,0,0,0,0,0,0,0,0,0,0,0,0,0,0,0,0,0,1,2,3,4,4,4,7,9,11,15,17,17,19,21,25,26,29,31,35,44,58,86,105,130,152,173,193,205,235,256,275,293,313,326,336,348,364,367,375,384,392,402,407,415,419,425,432,437,444,450,453,459,463,465,470,476,483,488,494,502,507\n"
     ]
    }
   ],
   "source": [
    "cnt= 0\n",
    "for i in range(0, len(CSSEGIS)):\n",
    "    cnt=cnt+1\n",
    "    if cnt<5:\n",
    "        print(CSSEGIS[i])\n",
    "    "
   ]
  },
  {
   "cell_type": "markdown",
   "metadata": {},
   "source": [
    "## Get yesterdays date and load the github file\n",
    "#### https://github.com/CSSEGISandData/COVID-19/tree/master/csse_covid_19_data/csse_covid_19_daily_reports"
   ]
  },
  {
   "cell_type": "code",
   "execution_count": 14,
   "metadata": {},
   "outputs": [],
   "source": [
    "import requests as req\n",
    "import time\n",
    "from datetime import date, timedelta\n",
    "yesterday = datetime.utcnow() - timedelta(days=2)\n",
    "YesterdaysGMT=yesterday.strftime('%m-%d-%Y')\n",
    "DailyReports =[]\n",
    "URL =\"https://raw.githubusercontent.com/CSSEGISandData/COVID-19/master/csse_covid_19_data/csse_covid_19_daily_reports/\"+YesterdaysGMT+\".csv\"\n",
    "\n",
    "resp = req.get(URL)\n",
    "content = resp.text\n",
    "#clean the data\n",
    "content = content.splitlines()\n",
    "for Lines in content:\n",
    "    Lines=Lines.replace(\",,,\",\"null,\")\n",
    "    Lines=Lines.replace(\",,\",\"null,\")\n",
    "    Lines=Lines.replace(\"(\",\"\")\n",
    "    Lines=Lines.replace(\")\",\"\")\n",
    "    Lines=Lines.replace(\"\\\"\",\"\")\n",
    "    Lines= Lines.split(\",\")\n",
    "    DailyReports.append(Lines)"
   ]
  },
  {
   "cell_type": "code",
   "execution_count": 15,
   "metadata": {},
   "outputs": [
    {
     "data": {
      "text/plain": [
       "3235"
      ]
     },
     "execution_count": 15,
     "metadata": {},
     "output_type": "execute_result"
    }
   ],
   "source": [
    "len(DailyReports)"
   ]
  },
  {
   "cell_type": "code",
   "execution_count": 16,
   "metadata": {},
   "outputs": [
    {
     "name": "stdout",
     "output_type": "stream",
     "text": [
      "['51001', 'Accomack', 'Virginia', 'US', '2020-05-11 02:32:30', '37.76707161', '-75.63234615', '508', '7', '0', '501', 'Accomack', ' Virginia', ' US']\n"
     ]
    }
   ],
   "source": [
    "# https://raw.githubusercontent.com/CSSEGISandData/COVID-19/master/csse_covid_19_data/csse_covid_19_daily_reports/\n",
    "# example:\n",
    "print(DailyReports[3])"
   ]
  },
  {
   "cell_type": "markdown",
   "metadata": {},
   "source": [
    "## The three resources used on this page<br />\n",
    "\n",
    "### https://raw.githubusercontent.com/owid/covid-19-data/master/public/data/owid-covid-data.csv<br />\n",
    "### https://raw.githubusercontent.com/CSSEGISandData/COVID-19/master/csse_covid_19_data/csse_covid_19_time_series/time_series_covid19_deaths_global.csv\"<br />\n",
    "### https://raw.githubusercontent.com/CSSEGISandData/COVID-19/master/csse_covid_19_data/csse_covid_19_daily_reports/05-08-2020.csv\""
   ]
  },
  {
   "cell_type": "markdown",
   "metadata": {},
   "source": [
    "## Other Resources"
   ]
  },
  {
   "cell_type": "markdown",
   "metadata": {},
   "source": [
    "#### https://github.com/owid/covid-19-data/tree/master/public/data"
   ]
  },
  {
   "cell_type": "markdown",
   "metadata": {},
   "source": [
    "#### https://www.cdc.gov/coronavirus/2019-ncov/covid-data/forecasting-us.html"
   ]
  },
  {
   "cell_type": "markdown",
   "metadata": {},
   "source": [
    "#### https://datacatalog.worldbank.org/search/datasets?search_api_views_fulltext_op=AND&f%5B0%5D=field_collection_field%3A2026&f%5B1%5D=type%3Adataset&sort_by=field_wbddh_modified_date"
   ]
  },
  {
   "cell_type": "markdown",
   "metadata": {},
   "source": [
    "#### http://datatopics.worldbank.org/universal-health-coverage/coronavirus/"
   ]
  },
  {
   "cell_type": "markdown",
   "metadata": {},
   "source": [
    "#### https://covidtracking.com/data"
   ]
  },
  {
   "cell_type": "markdown",
   "metadata": {},
   "source": [
    "#### https://www.tableau.com/covid-19-coronavirus-data-resources/data-sources"
   ]
  },
  {
   "cell_type": "markdown",
   "metadata": {},
   "source": [
    "#### https://en.wikipedia.org/wiki/Wikipedia:WikiProject_COVID-19/Sources"
   ]
  },
  {
   "cell_type": "markdown",
   "metadata": {},
   "source": [
    "#### https://data.world/pricing"
   ]
  },
  {
   "cell_type": "markdown",
   "metadata": {},
   "source": [
    "#### https://data.humdata.org/event/covid-19<br />\n",
    "#### https://data.humdata.org/dataset"
   ]
  },
  {
   "cell_type": "markdown",
   "metadata": {},
   "source": [
    "http://www.data4sdgs.org/resources/covid-19-resources"
   ]
  },
  {
   "cell_type": "markdown",
   "metadata": {},
   "source": [
    "https://www.semanticscholar.org/cord19/download"
   ]
  }
 ],
 "metadata": {
  "kernelspec": {
   "display_name": "Python(base)",
   "language": "python",
   "name": "base"
  },
  "language_info": {
   "codemirror_mode": {
    "name": "ipython",
    "version": 3
   },
   "file_extension": ".py",
   "mimetype": "text/x-python",
   "name": "python",
   "nbconvert_exporter": "python",
   "pygments_lexer": "ipython3",
   "version": "3.7.4"
  },
  "toc": {
   "base_numbering": 1,
   "nav_menu": {},
   "number_sections": true,
   "sideBar": true,
   "skip_h1_title": false,
   "title_cell": "Table of Contents",
   "title_sidebar": "Contents",
   "toc_cell": false,
   "toc_position": {},
   "toc_section_display": true,
   "toc_window_display": false
  }
 },
 "nbformat": 4,
 "nbformat_minor": 4
}
