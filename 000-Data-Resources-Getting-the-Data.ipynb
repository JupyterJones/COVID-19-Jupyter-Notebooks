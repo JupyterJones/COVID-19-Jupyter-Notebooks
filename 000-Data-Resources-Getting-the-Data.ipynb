{
 "cells": [
  {
   "cell_type": "markdown",
   "metadata": {},
   "source": [
    "# List of the different notebooks in this collection "
   ]
  },
  {
   "cell_type": "markdown",
   "metadata": {},
   "source": [
    "<a href=\"000-Data-Resources-Getting-the-Data.ipynb\">000-Data-Resources-Getting-the-Data.ipynb</a><br />\n",
    "<a href=\"000-INDEX-of-Jupyter-Notebooks.ipynb\">000-INDEX-of-Jupyter-Notebooks.ipynb</a><br />\n",
    "<a href=\"001-Help-and-Tools.ipynb\">001-Help-and-Tools.ipynb</a><br />\n",
    "<a href=\"002-Animation-MP4-Experimental.ipynb\">002-Animation-MP4-Experimental.ipynb</a><br />\n",
    "<a href=\"003-Available-Matplotlib-Colors.ipynb\">003-Available-Matplotlib-Colors.ipynb</a><br />\n",
    "<a href=\"004-Plotly-Country-Cases-and-Deaths-Increase-Decrease.ipynb\">004-Plotly-Country-Cases-and-Deaths-Increase-Decrease.ipynb</a><br />\n",
    "<a href=\"005-Basemap-Using-arcGIS-server.ipynb\">005-Basemap-Using-arcGIS-server.ipynb</a><br />\n",
    "<a href=\"006-Using_COVID-19-Github-for-Data-Jupyter-Notebooks.ipynb\">006-Using_COVID-19-Github-for-Data-Jupyter-Notebooks.ipynb</a><br />\n",
    "<a href=\"007-Drawing-Maps-with-Shapefiles-and-US_State_Bounding_Boxes.ipynb\">007-Drawing-Maps-with-Shapefiles-and-US_State_Bounding_Boxes.ipynb</a><br />\n",
    "<a href=\"008-Plotting-on-Basemaps.ipynb\">008-Plotting-on-Basemaps.ipynb</a><br />\n",
    "<a href=\"009-USA-Global-Map-Hot-Spots.ipynb\">009-USA-Global-Map-Hot-Spots.ipynb</a><br />\n",
    "<a href=\"010-EXPERIMENTS-save-clicks.ipynb\">010-EXPERIMENTS-save-clicks.ipynb</a><br />\n",
    "<a href=\"011-Basemap-Using-arcGIS-server.ipynb\">011-Basemap-Using-arcGIS-server.ipynb</a><br />\n",
    "<a href=\"012-Get-the-Latitude-and-Longitude-From-a-Plot.ipynb\">012-Get-the-Latitude-and-Longitude-From-a-Plot.ipynb</a><br />\n",
    "<a href=\"013-USA-COUNTIES-Finding-Hot-Spots.ipynb\">013-USA-COUNTIES-Finding-Hot-Spots.ipynb</a><br />\n",
    "<a href=\"014-geopy_geocoders-geopandas-pyproj.ipynb\">014-geopy_geocoders-geopandas-pyproj.ipynb</a><br />\n",
    "<a href=\"015-LEGENDS-Understanding-Plot-Legends.ipynb\">015-LEGENDS-Understanding-Plot-Legends.ipynb</a><br />\n",
    "<a href=\"016-Plots-with-Legends.ipynb\">016-Plots-with-Legends.ipynb</a><br />\n",
    "<a href=\"017-MODULE-python-us-py.ipynb\">017-MODULE-python-us-py.ipynb</a><br />\n",
    "<a href=\"018-CSV-pandas-csv-modules.ipynb\">018-CSV-pandas-csv-modules.ipynb</a><br />\n",
    "<a href=\"020-Animation-MP4-Experimental.ipynb\">020-Animation-MP4-Experimental.ipynb</a><br />\n",
    "<a href=\"040-Practice-Stuff.ipynb\">040-Practice-Stuff.ipynb</a><br />\n",
    "<a href=\"0100-Misc-Bonus-Clickdraw-AutoDate.ipynb\">0100-Misc-Bonus-Clickdraw-AutoDate.ipynb</a>"
   ]
  },
  {
   "cell_type": "markdown",
   "metadata": {},
   "source": [
    "# Generate a filename"
   ]
  },
  {
   "cell_type": "code",
   "execution_count": null,
   "metadata": {},
   "outputs": [],
   "source": [
    "import requests as req\n",
    "import time\n",
    "DATE = time.strftime(\"%m-%d-%H_\")\n",
    "URL =\"https://covid.ourworldindata.org/data/owid-covid-data.csv\"\n",
    "#create a date oriented filename and print it\n",
    "filename=\"csv/\"+URL.split(\"/\")[-1]\n",
    "print(filename)"
   ]
  },
  {
   "cell_type": "markdown",
   "metadata": {},
   "source": [
    "# Create the directory 'csv' if it does not exist"
   ]
  },
  {
   "cell_type": "code",
   "execution_count": null,
   "metadata": {},
   "outputs": [],
   "source": [
    "import os.path\n",
    "import os\n",
    "DirName = 'csv'    \n",
    "# Create 'DirName' if don't exist\n",
    "if not os.path.exists(DirName):\n",
    "    os.mkdir(DirName)\n",
    "    print('Directory ' , DirName ,  ' Created.')\n",
    "else:    \n",
    "    print('Directory ' , DirName ,  ' already exists.')"
   ]
  },
  {
   "cell_type": "markdown",
   "metadata": {},
   "source": [
    "## Get the data and write it to a file "
   ]
  },
  {
   "cell_type": "code",
   "execution_count": null,
   "metadata": {},
   "outputs": [],
   "source": [
    "import requests as req\n",
    "URL=\"https://raw.githubusercontent.com/owid/covid-19-data/master/public/data/owid-covid-data.csv\"\n",
    "resp = req.get(URL)\n",
    "text = resp.content\n",
    "#create a date oriented filename and print it\n",
    "filename=\"csv/\"+URL.split(\"/\")[-1]\n",
    "STAT =filename[:-4]\n",
    "TEMP = open(filename,\"wb\")\n",
    "TEMP.write(text)\n",
    "TEMP.close()\n",
    "print(filename)"
   ]
  },
  {
   "cell_type": "code",
   "execution_count": null,
   "metadata": {},
   "outputs": [],
   "source": [
    "import requests as req\n",
    "URL =\"https://raw.githubusercontent.com/CSSEGISandData/COVID-19/master/csse_covid_19_data/csse_covid_19_time_series/time_series_covid19_deaths_global.csv\"\n",
    "resp = req.get(URL)\n",
    "text = resp.content\n",
    "#create a date oriented filename and print it\n",
    "filename=\"csv/\"+URL.split(\"/\")[-1]\n",
    "TEMP = open(filename,\"wb\")\n",
    "TEMP.write(text)\n",
    "TEMP.close()\n",
    "print(filename)"
   ]
  },
  {
   "cell_type": "markdown",
   "metadata": {},
   "source": [
    "# Yesterdays GMT"
   ]
  },
  {
   "cell_type": "code",
   "execution_count": null,
   "metadata": {},
   "outputs": [],
   "source": [
    "from datetime import datetime\n",
    "from datetime import date, timedelta\n",
    "def GETYGMT():\n",
    "    yesterday = datetime.utcnow() - timedelta(days=1)\n",
    "    YesterdaysGMT=yesterday.strftime('%m-%d-%y')\n",
    "    return YesterdaysGMT"
   ]
  },
  {
   "cell_type": "code",
   "execution_count": 3,
   "metadata": {},
   "outputs": [
    {
     "name": "stdout",
     "output_type": "stream",
     "text": [
      "Overwriting GETGMT.py\n"
     ]
    }
   ],
   "source": [
    "%%writefile GETGMT.py\n",
    "\"\"\"\n",
    "# USAGE:\n",
    "# for yesterday's GMT \n",
    "from GETGMT import *\n",
    "print(GETYGMT())\n",
    ">>> 05-14-2020\n",
    "#todays GMT \n",
    "from GETGMT import *\n",
    "print(GETGMT())\n",
    ">>> 05-15-2020\n",
    "\"\"\"\n",
    "from datetime import datetime\n",
    "from datetime import date, timedelta\n",
    "def GETYGMT():\n",
    "    \"\"\"\n",
    "    # USAGE:\n",
    "    # Yesterdays GMT \n",
    "    from GETGMT import *\n",
    "    print(GETYGMT())\n",
    "    >>> 05-14-2020\n",
    "    \"\"\"\n",
    "    yesterday = datetime.utcnow() - timedelta(days=1)\n",
    "    YesterdaysGMT=yesterday.strftime('%m-%d-%Y')\n",
    "    return YesterdaysGMT\n",
    "def GETGMT():\n",
    "    \"\"\"\n",
    "    # USEAGE:\n",
    "    #Todays GMT \n",
    "    from GETGMT import *\n",
    "    print(GETGMT())\n",
    "    >>> 05-15-2020\n",
    "    \"\"\"\n",
    "    GMT=datetime.utcnow().strftime('%m-%d-%Y')\n",
    "    return GMT"
   ]
  },
  {
   "cell_type": "code",
   "execution_count": 2,
   "metadata": {},
   "outputs": [
    {
     "name": "stdout",
     "output_type": "stream",
     "text": [
      "05-15-2020\n",
      "05-14-2020\n",
      "Help on function GETGMT in module GETGMT:\n",
      "\n",
      "GETGMT()\n",
      "    # todays GMT \n",
      "    # from GETGMT import *\n",
      "    # print(GETGMT())\n",
      "    # >>> 05-15-2020\n",
      "\n"
     ]
    }
   ],
   "source": [
    "from GETGMT import *\n",
    "print(GETGMT())\n",
    "print(GETYGMT())\n",
    "help(GETGMT)"
   ]
  },
  {
   "cell_type": "code",
   "execution_count": null,
   "metadata": {},
   "outputs": [],
   "source": [
    "import requests as req\n",
    "import time\n",
    "from datetime import date, timedelta\n",
    "yesterday = datetime.utcnow() - timedelta(days=2)\n",
    "YesterdaysGMT=yesterday.strftime('%m-%d-%Y')\n",
    "\n",
    "URL =\"https://raw.githubusercontent.com/CSSEGISandData/COVID-19/master/csse_covid_19_data/csse_covid_19_daily_reports/\"+YesterdaysGMT+\".csv\"\n",
    "\n",
    "resp = req.get(URL)\n",
    "content = resp.text\n",
    "\n",
    "#create a date oriented filename and print it\n",
    "filename=\"csv/\"+URL[-14:]\n",
    "print(filename)\n",
    "#content=content.lstrip(\",\")\n",
    "content=content.replace(\",,,\",\"null,\")\n",
    "content=content.replace(\",,\",\"null,\")\n",
    "content=content.replace(\"(\",\"\")\n",
    "content=content.replace(\")\",\"\")\n",
    "content=content.replace(\"\\\"\",\"\")\n",
    "#print(content)\n",
    "# Open a file using the new filename and write the content of the 'gitfile' to it.\n",
    "# Update one time daily\n",
    "TEMP = open(filename,\"w\")\n",
    "TEMP.write(content)\n",
    "TEMP.close()"
   ]
  },
  {
   "cell_type": "markdown",
   "metadata": {},
   "source": [
    "#### List the files in the csv directory"
   ]
  },
  {
   "cell_type": "code",
   "execution_count": null,
   "metadata": {},
   "outputs": [],
   "source": [
    "# List the files in the csv directory\n",
    "!ls -rant csv"
   ]
  },
  {
   "cell_type": "markdown",
   "metadata": {},
   "source": [
    "# NO FILE CREATION\n",
    "## Get the data and write it to a \"list in memory\""
   ]
  },
  {
   "cell_type": "code",
   "execution_count": null,
   "metadata": {},
   "outputs": [],
   "source": [
    "import requests as req\n",
    "URL=\"https://raw.githubusercontent.com/owid/covid-19-data/master/public/data/owid-covid-data.csv\"\n",
    "resp = req.get(URL)\n",
    "OWID = []\n",
    "text = resp.content\n",
    "data=text.splitlines()\n",
    "cnt=0\n",
    "for line in data:\n",
    "    cnt=cnt+1\n",
    "    if cnt<5:\n",
    "        # remove the b' before the line\n",
    "        line = line.decode('utf-8') \n",
    "        OWID.append([line])"
   ]
  },
  {
   "cell_type": "markdown",
   "metadata": {},
   "source": [
    "### Simply run OWID=[] to free up the memory\n",
    "#### It creates a blank list"
   ]
  },
  {
   "cell_type": "raw",
   "metadata": {},
   "source": [
    "OWID=[]"
   ]
  },
  {
   "cell_type": "markdown",
   "metadata": {},
   "source": [
    "#### https://github.com/CSSEGISandData/COVID-19/tree/master/csse_covid_19_data/csse_covid_19_time_series"
   ]
  },
  {
   "cell_type": "code",
   "execution_count": null,
   "metadata": {},
   "outputs": [],
   "source": [
    "import requests as req\n",
    "URL =\"https://raw.githubusercontent.com/CSSEGISandData/COVID-19/master/csse_covid_19_data/csse_covid_19_time_series/time_series_covid19_deaths_global.csv\"\n",
    "CSSEGIS =[]\n",
    "resp = req.get(URL)\n",
    "text = resp.content\n",
    "data=text.splitlines()\n",
    "cnt=0\n",
    "for line in data:\n",
    "    cnt=cnt+1\n",
    "    # remove the b' befor the line\n",
    "    line = line.decode('utf-8')\n",
    "    line=line.lstrip(\",\")\n",
    "    CSSEGIS.append(line)"
   ]
  },
  {
   "cell_type": "code",
   "execution_count": null,
   "metadata": {},
   "outputs": [],
   "source": [
    "print(CSSEGIS[4])"
   ]
  },
  {
   "cell_type": "code",
   "execution_count": null,
   "metadata": {},
   "outputs": [],
   "source": [
    "cnt= 0\n",
    "for i in range(0, len(CSSEGIS)):\n",
    "    cnt=cnt+1\n",
    "    if cnt<5:\n",
    "        print(CSSEGIS[i])\n",
    "    "
   ]
  },
  {
   "cell_type": "markdown",
   "metadata": {},
   "source": [
    "## Get yesterdays date and load the github file\n",
    "#### https://github.com/CSSEGISandData/COVID-19/tree/master/csse_covid_19_data/csse_covid_19_daily_reports"
   ]
  },
  {
   "cell_type": "code",
   "execution_count": null,
   "metadata": {},
   "outputs": [],
   "source": [
    "import requests as req\n",
    "import time\n",
    "from datetime import date, timedelta\n",
    "yesterday = datetime.utcnow() - timedelta(days=2)\n",
    "YesterdaysGMT=yesterday.strftime('%m-%d-%Y')\n",
    "DailyReports =[]\n",
    "URL =\"https://raw.githubusercontent.com/CSSEGISandData/COVID-19/master/csse_covid_19_data/csse_covid_19_daily_reports/\"+YesterdaysGMT+\".csv\"\n",
    "\n",
    "resp = req.get(URL)\n",
    "content = resp.text\n",
    "#clean the data\n",
    "content = content.splitlines()\n",
    "for Lines in content:\n",
    "    Lines=Lines.replace(\",,,\",\"null,\")\n",
    "    Lines=Lines.replace(\",,\",\"null,\")\n",
    "    Lines=Lines.replace(\"(\",\"\")\n",
    "    Lines=Lines.replace(\")\",\"\")\n",
    "    Lines=Lines.replace(\"\\\"\",\"\")\n",
    "    Lines= Lines.split(\",\")\n",
    "    DailyReports.append(Lines)"
   ]
  },
  {
   "cell_type": "code",
   "execution_count": null,
   "metadata": {},
   "outputs": [],
   "source": [
    "!pwd"
   ]
  },
  {
   "cell_type": "code",
   "execution_count": null,
   "metadata": {},
   "outputs": [],
   "source": [
    "import os\n",
    "import shutil \n",
    "import os.path\n",
    "NOTEBOOKS = []\n",
    "allbooks =[]\n",
    "PATH=\"/home/jack/Desktop/COVID-19-Jupyter-Notebooks\"\n",
    "for filename in os.listdir(\"/home/jack/Desktop/COVID-19-Jupyter-Notebooks\"):\n",
    "    if filename[-6:] == \".ipynb\":\n",
    "        NOTEBOOKS.append(filename)\n",
    "for file in NOTEBOOKS:\n",
    "    FIND=open(file, \"r\").readlines()\n",
    "    for line in FIND:\n",
    "        enter =line.replace(\"\\n\",\"\")\n",
    "        enter=enter.encode(\"ascii\",\"replace\")\n",
    "        allbooks.append([file,enter])\n",
    "search = input(\"Search all notebooks for the term:\")\n",
    "cnt=0\n",
    "CNT=0\n",
    "for line in allbooks:\n",
    "    cnt=cnt+1\n",
    "    text = str(line[1].decode('ascii'))\n",
    "    text =text.replace(\"\\\\n\",\"\")\n",
    "    text =text.replace(\"\\\\n\",\"\")\n",
    "    if search in text:\n",
    "        CNT=CNT+1\n",
    "        if CNT<50:\n",
    "            if len(text)<200:\n",
    "                print(line[0],text)"
   ]
  },
  {
   "cell_type": "code",
   "execution_count": null,
   "metadata": {},
   "outputs": [],
   "source": [
    "print(len(allbooks))"
   ]
  },
  {
   "cell_type": "code",
   "execution_count": null,
   "metadata": {
    "scrolled": true
   },
   "outputs": [],
   "source": [
    "cnt=0\n",
    "CNT=0\n",
    "search = \"import\"\n",
    "for line in allbooks:\n",
    "    cnt=cnt+1\n",
    "    text = str(line[1].decode('ascii'))\n",
    "    text =text.replace(\"\\\\n\",\"\")\n",
    "    text =text.replace(\"\\\\n\",\"\")\n",
    "    if search in text:\n",
    "        CNT=CNT+1\n",
    "        if CNT<50:\n",
    "            print(line[0],text)\n"
   ]
  },
  {
   "cell_type": "code",
   "execution_count": null,
   "metadata": {},
   "outputs": [],
   "source": [
    "for name in sorted(NOTEBOOKS):\n",
    "    print(name)"
   ]
  },
  {
   "cell_type": "code",
   "execution_count": null,
   "metadata": {},
   "outputs": [],
   "source": [
    "len(DailyReports)"
   ]
  },
  {
   "cell_type": "code",
   "execution_count": null,
   "metadata": {},
   "outputs": [],
   "source": [
    "# https://raw.githubusercontent.com/CSSEGISandData/COVID-19/master/csse_covid_19_data/csse_covid_19_daily_reports/\n",
    "# example:\n",
    "print(DailyReports[3])"
   ]
  },
  {
   "cell_type": "markdown",
   "metadata": {},
   "source": [
    "## The three resources used on this page<br />\n",
    "\n",
    "### https://raw.githubusercontent.com/owid/covid-19-data/master/public/data/owid-covid-data.csv<br />\n",
    "### https://raw.githubusercontent.com/CSSEGISandData/COVID-19/master/csse_covid_19_data/csse_covid_19_time_series/time_series_covid19_deaths_global.csv\"<br />\n",
    "### https://raw.githubusercontent.com/CSSEGISandData/COVID-19/master/csse_covid_19_data/csse_covid_19_daily_reports/05-08-2020.csv\""
   ]
  },
  {
   "cell_type": "markdown",
   "metadata": {},
   "source": [
    "https://github.com/CSSEGISandData/COVID-19/tree/master/csse_covid_19_data/csse_covid_19_time_series<br />\n",
    "&nbsp;&nbsp;&nbsp;&nbsp;&nbsp;Update frequency:<br />\n",
    "&nbsp;&nbsp;&nbsp;&nbsp;&nbsp;Once a day around 23:59 (UTC).<br />\n",
    "https://opendata.ecdc.europa.eu/covid19/casedistribution/csv\n"
   ]
  },
  {
   "cell_type": "markdown",
   "metadata": {},
   "source": [
    "## Other Resources"
   ]
  },
  {
   "cell_type": "markdown",
   "metadata": {},
   "source": [
    "#### https://github.com/owid/covid-19-data/tree/master/public/data"
   ]
  },
  {
   "cell_type": "markdown",
   "metadata": {},
   "source": [
    "#### https://www.cdc.gov/coronavirus/2019-ncov/covid-data/forecasting-us.html"
   ]
  },
  {
   "cell_type": "markdown",
   "metadata": {},
   "source": [
    "#### https://datacatalog.worldbank.org/search/datasets?search_api_views_fulltext_op=AND&f%5B0%5D=field_collection_field%3A2026&f%5B1%5D=type%3Adataset&sort_by=field_wbddh_modified_date"
   ]
  },
  {
   "cell_type": "markdown",
   "metadata": {},
   "source": [
    "#### http://datatopics.worldbank.org/universal-health-coverage/coronavirus/"
   ]
  },
  {
   "cell_type": "markdown",
   "metadata": {},
   "source": [
    "#### https://covidtracking.com/data"
   ]
  },
  {
   "cell_type": "markdown",
   "metadata": {},
   "source": [
    "#### https://www.tableau.com/covid-19-coronavirus-data-resources/data-sources"
   ]
  },
  {
   "cell_type": "markdown",
   "metadata": {},
   "source": [
    "#### https://en.wikipedia.org/wiki/Wikipedia:WikiProject_COVID-19/Sources"
   ]
  },
  {
   "cell_type": "markdown",
   "metadata": {},
   "source": [
    "#### https://data.world/pricing"
   ]
  },
  {
   "cell_type": "markdown",
   "metadata": {},
   "source": [
    "#### https://data.humdata.org/event/covid-19<br />\n",
    "#### https://data.humdata.org/dataset"
   ]
  },
  {
   "cell_type": "markdown",
   "metadata": {},
   "source": [
    "http://www.data4sdgs.org/resources/covid-19-resources"
   ]
  },
  {
   "cell_type": "markdown",
   "metadata": {},
   "source": [
    "https://www.semanticscholar.org/cord19/download"
   ]
  }
 ],
 "metadata": {
  "kernelspec": {
   "display_name": "Python(base)",
   "language": "python",
   "name": "base"
  },
  "language_info": {
   "codemirror_mode": {
    "name": "ipython",
    "version": 3
   },
   "file_extension": ".py",
   "mimetype": "text/x-python",
   "name": "python",
   "nbconvert_exporter": "python",
   "pygments_lexer": "ipython3",
   "version": "3.7.4"
  },
  "toc": {
   "base_numbering": 1,
   "nav_menu": {},
   "number_sections": true,
   "sideBar": true,
   "skip_h1_title": false,
   "title_cell": "Table of Contents",
   "title_sidebar": "Contents",
   "toc_cell": false,
   "toc_position": {},
   "toc_section_display": true,
   "toc_window_display": false
  }
 },
 "nbformat": 4,
 "nbformat_minor": 4
}
