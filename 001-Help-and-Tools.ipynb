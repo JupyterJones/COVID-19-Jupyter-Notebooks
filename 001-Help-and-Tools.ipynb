{
 "cells": [
  {
   "cell_type": "markdown",
   "metadata": {},
   "source": [
    "# Several nice tips:<br />\n",
    "### https://songhuiming.github.io/pages/2017/04/02/jupyter-and-pandas-display/"
   ]
  },
  {
   "cell_type": "markdown",
   "metadata": {},
   "source": [
    "<a id=\"menu\">*</a>\n",
    "# 001-Help-and-Tools.ipynb\n",
    "<a href=\"#modulesource\">To get the directory source of a module</a>\n",
    "\n"
   ]
  },
  {
   "cell_type": "markdown",
   "metadata": {},
   "source": [
    "<a id=\"modulesource\">*</a>\n",
    "## To get the directory source of a module\n"
   ]
  },
  {
   "cell_type": "code",
   "execution_count": null,
   "metadata": {},
   "outputs": [],
   "source": [
    "# To get the directory source of a module\n",
    "import inspect\n",
    "#load the module\n",
    "from PIL import Image\n",
    "#run inspect.getfile on the module\n",
    "print(inspect.getfile(Image))"
   ]
  },
  {
   "cell_type": "code",
   "execution_count": null,
   "metadata": {},
   "outputs": [],
   "source": [
    "# Example without comments\n",
    "import os\n",
    "import inspect\n",
    "from mpl_toolkits.basemap import Basemap\n",
    "print(inspect.getfile(Basemap))"
   ]
  },
  {
   "cell_type": "markdown",
   "metadata": {},
   "source": [
    "## Make hard copy of the module help() response:\n",
    "# note line 25(request help) help()"
   ]
  },
  {
   "cell_type": "code",
   "execution_count": 31,
   "metadata": {},
   "outputs": [
    {
     "name": "stdout",
     "output_type": "stream",
     "text": [
      "Directory  HelpFiles/  already exists\n",
      "HelpFiles/Image.help\n"
     ]
    }
   ],
   "source": [
    "# send python help() output to a file\n",
    "import sys, os\n",
    "import os.path\n",
    "# Create target Directory if don't exist\n",
    "dirName=\"HelpFiles/\"\n",
    "if not os.path.exists(dirName):\n",
    "    os.mkdir(dirName)\n",
    "else:    \n",
    "    print(\"Directory \" , dirName ,  \" already exists\")\n",
    "# import the module if required\n",
    "# request help in line 25\n",
    "from PIL import Image\n",
    "#Create a name for the file (no extension) usually the same as the imported module\n",
    "NAME=\"Image\"\n",
    "filename = dirName+NAME+'.help'\n",
    "if os.path.isfile(filename):\n",
    "    print (\"File exist:\",filename)\n",
    "    \n",
    "else:\n",
    "    with open(filename,\"w\") as helper:\n",
    "        t = sys.stdout\n",
    "        sys.stdout = helper\n",
    "        # line 25 request the help with the Python help command\n",
    "        #\n",
    "        help(Image)\n",
    "        sys.stdout = t\n",
    "print(filename)        "
   ]
  },
  {
   "cell_type": "markdown",
   "metadata": {},
   "source": [
    "# Filesearch Utility"
   ]
  },
  {
   "cell_type": "code",
   "execution_count": 1,
   "metadata": {},
   "outputs": [
    {
     "name": "stdout",
     "output_type": "stream",
     "text": [
      "Overwriting FileSearch.py\n"
     ]
    }
   ],
   "source": [
    "%%writefile FileSearch.py\n",
    "#!/usr/bin/env -m python\n",
    "#Searches a file enter search term and filename\n",
    "#Range is to give context before and after the search term.\n",
    "#It defaults to eight lines before the word and eight lines after.\n",
    "#USAGE:\n",
    "#from FileSearch import filesearch                \n",
    "#search =\"urcrnrlat\"\n",
    "#filename = \"basemap.help\"\n",
    "#filesearch(search,filename,Range=2)\n",
    "def filesearch(search,filename, Range=8):\n",
    "    cnt=0\n",
    "    oldcount = -8\n",
    "    INDEX = []\n",
    "    for view in open(filename, \"r\").readlines():\n",
    "        cnt=cnt+1\n",
    "        view=view.replace(\"\\n\",\"\")\n",
    "        if search in view:\n",
    "            if cnt>oldcount:\n",
    "                INDEX.append([search,cnt-Range,cnt+Range])\n",
    "                oldcount=cnt+(Range*2)\n",
    "    cnt=0\n",
    "    cnt0=0\n",
    "    for view in open(filename, \"r\").readlines():\n",
    "            cnt=cnt+1\n",
    "            line=view.replace(\"\\n\",\"\")\n",
    "            for content in INDEX:\n",
    "                if cnt > int(content[1]) and cnt < int(content[2]):\n",
    "                    if search not in line:print(cnt,line)\n",
    "                    if cnt==int(content[2]-1):print(\"-----------\")  \n",
    "                    if search in line:print(\"\\nSEARCHTERM>> \",cnt,line,\"\\n\") "
   ]
  },
  {
   "cell_type": "markdown",
   "metadata": {},
   "source": [
    "## Get a list of HelpFiles"
   ]
  },
  {
   "cell_type": "code",
   "execution_count": 32,
   "metadata": {},
   "outputs": [],
   "source": [
    "#!rm HelpFiles/*.help"
   ]
  },
  {
   "cell_type": "code",
   "execution_count": 33,
   "metadata": {},
   "outputs": [
    {
     "name": "stdout",
     "output_type": "stream",
     "text": [
      "Image.help\r\n"
     ]
    }
   ],
   "source": [
    "!ls HelpFiles"
   ]
  },
  {
   "cell_type": "code",
   "execution_count": 37,
   "metadata": {},
   "outputs": [
    {
     "name": "stdout",
     "output_type": "stream",
     "text": [
      "726      |      :param source_palette: Bytes or None.\n",
      "727      |      :returns:  An :py:class:`~PIL.Image.Image` object.\n",
      "728      |  \n",
      "\n",
      "SEARCHTERM>>  729      |  resize(self, size, resample=3, box=None, reducing_gap=None) \n",
      "\n",
      "\n",
      "SEARCHTERM>>  730      |      Returns a resized copy of this image. \n",
      "\n",
      "731      |      \n",
      "732      |      :param size: The requested size in pixels, as a 2-tuple:\n",
      "-----------\n",
      "862      |      the given size.  This method calculates an appropriate thumbnail\n",
      "863      |      size to preserve the aspect of the image, calls the\n",
      "864      |      :py:meth:`~PIL.Image.Image.draft` method to configure the file reader\n",
      "\n",
      "SEARCHTERM>>  865      |      (where applicable), and finally resizes the image. \n",
      "\n",
      "866      |      \n",
      "867      |      Note that this function modifies the :py:class:`~PIL.Image.Image`\n",
      "868      |      object in place.  If you need to use the full resolution image as well,\n",
      "-----------\n"
     ]
    }
   ],
   "source": [
    "from FileSearch import filesearch                \n",
    "search =\"resize\"\n",
    "filename = \"HelpFiles/Image.help\"\n",
    "#filesearch(search,filename,Range=2)\n",
    "filesearch(search,filename, Range=4)"
   ]
  },
  {
   "cell_type": "code",
   "execution_count": 60,
   "metadata": {},
   "outputs": [
    {
     "name": "stdout",
     "output_type": "stream",
     "text": [
      "730      |      Returns a resized copy of this image.\n",
      "731      |      \n",
      "732      |      :param size: The requested size in pixels, as a 2-tuple:\n",
      "733      |         (width, height).\n",
      "734      |      :param resample: An optional resampling filter.  This can be\n",
      "735      |         one of :py:attr:`PIL.Image.NEAREST`, :py:attr:`PIL.Image.BOX`,\n",
      "736      |         :py:attr:`PIL.Image.BILINEAR`, :py:attr:`PIL.Image.HAMMING`,\n",
      "737      |         :py:attr:`PIL.Image.BICUBIC` or :py:attr:`PIL.Image.LANCZOS`.\n",
      "738      |         Default filter is :py:attr:`PIL.Image.BICUBIC`.\n",
      "739      |         If the image has mode \"1\" or \"P\", it is\n",
      "740      |         always set to :py:attr:`PIL.Image.NEAREST`.\n",
      "741      |         See: :ref:`concept-filters`.\n",
      "742      |      :param box: An optional 4-tuple of floats providing\n",
      "743      |         the source image region to be scaled.\n",
      "744      |         The values must be within (0, 0, width, height) rectangle.\n",
      "745      |         If omitted or None, the entire source is used.\n",
      "746      |      :param reducing_gap: Apply optimization by resizing the image\n",
      "747      |         in two steps. First, reducing the image by integer times\n",
      "748      |         using :py:meth:`~PIL.Image.Image.reduce`.\n",
      "749      |         Second, resizing using regular resampling. The last step\n",
      "750      |         changes size no less than by ``reducing_gap`` times.\n",
      "751      |         ``reducing_gap`` may be None (no first step is performed)\n",
      "752      |         or should be greater than 1.0. The bigger ``reducing_gap``,\n",
      "753      |         the closer the result to the fair resampling.\n",
      "754      |         The smaller ``reducing_gap``, the faster resizing.\n",
      "755      |         With ``reducing_gap`` greater or equal to 3.0, the result is\n",
      "756      |         indistinguishable from fair resampling in most cases.\n",
      "757      |         The default value is None (no optimization).\n",
      "758      |      :returns: An :py:class:`~PIL.Image.Image` object.\n",
      "759      |  \n"
     ]
    }
   ],
   "source": [
    "\n",
    "def ReadLines(START, STOP=20):\n",
    "    cnt=0\n",
    "    STOP=STOP+START+1\n",
    "    for view in open(\"HelpFiles/Image.help\", \"r\").readlines():\n",
    "        cnt=cnt+1        \n",
    "        line=view.replace(\"\\n\",\"\")\n",
    "        if cnt>START and cnt<STOP:\n",
    "                print(cnt,line)\n",
    "                \n",
    "                \n",
    "ReadLines(729,30)                "
   ]
  }
 ],
 "metadata": {
  "kernelspec": {
   "display_name": "Python(base)",
   "language": "python",
   "name": "base"
  },
  "language_info": {
   "codemirror_mode": {
    "name": "ipython",
    "version": 3
   },
   "file_extension": ".py",
   "mimetype": "text/x-python",
   "name": "python",
   "nbconvert_exporter": "python",
   "pygments_lexer": "ipython3",
   "version": "3.7.4"
  },
  "toc": {
   "base_numbering": 1,
   "nav_menu": {},
   "number_sections": true,
   "sideBar": true,
   "skip_h1_title": false,
   "title_cell": "Table of Contents",
   "title_sidebar": "Contents",
   "toc_cell": false,
   "toc_position": {},
   "toc_section_display": true,
   "toc_window_display": false
  }
 },
 "nbformat": 4,
 "nbformat_minor": 4
}
