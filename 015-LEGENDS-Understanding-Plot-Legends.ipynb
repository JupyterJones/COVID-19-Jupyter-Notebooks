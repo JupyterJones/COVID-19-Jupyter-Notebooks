{
 "cells": [
  {
   "cell_type": "code",
   "execution_count": null,
   "metadata": {},
   "outputs": [],
   "source": [
    "https://jakevdp.github.io/PythonDataScienceHandbook/04.06-customizing-legends.html"
   ]
  },
  {
   "cell_type": "code",
   "execution_count": 6,
   "metadata": {},
   "outputs": [
    {
     "name": "stdout",
     "output_type": "stream",
     "text": [
      "0 0 0 0 0 0 0 0 0 0 0 0 0 0 0 0 0 0 0 0 0 0 0 0 0 0 0 0 0 0 0 0 0 0 0 0 0 0 0 0 0 0 0 0 0 0 0 0 0 1 1 3 6 10 11 25 27 50 46 52 96 105 140 225 252 327 352 399 461 526 639 645 678 727 792 810 731 724 697 680 717 726 643 527 523 452 465 444 434 360 335 294 32 936 154 235 167 394 -7 330 92 434 132 10 107 452 -65 257 -29 267 181 79 "
     ]
    },
    {
     "data": {
      "image/png": "[encoded data removed]",
      "text/plain": [
       "<Figure size 432x288 with 1 Axes>"
      ]
     },
     "metadata": {
      "needs_background": "light"
     },
     "output_type": "display_data"
    }
   ],
   "source": [
    "import matplotlib.pyplot as plt\n",
    "%matplotlib inline\n",
    "import numpy as np\n",
    "\n",
    "data = DataAsInteger\n",
    "variation=[]\n",
    "previous=0\n",
    "for i in range(1,len(data)):\n",
    "    print(data[i]-data[i-1], end = \" \")\n",
    "    variation.append(data[i]-data[i-1])\n",
    "X=np.asarray(variation)\n",
    "#Y=np.asarray(range(0,len(variation)))\n",
    "Y = np.linspace(0, 1000, len(X))\n",
    "fig, ax = plt.subplots()\n",
    "ax.plot(Y,X, '-b', label='Day by Day Variation in Deaths')\n",
    "#ax.plot(X, np.cos(X), '--r', label='Cosine')\n",
    "ax.axis('equal')\n",
    "leg = ax.legend();\n"
   ]
  },
  {
   "cell_type": "code",
   "execution_count": 1,
   "metadata": {},
   "outputs": [
    {
     "data": {
      "image/png": "[encoded data removed]",
      "text/plain": [
       "<Figure size 432x288 with 1 Axes>"
      ]
     },
     "metadata": {
      "needs_background": "light"
     },
     "output_type": "display_data"
    }
   ],
   "source": [
    "import matplotlib.pyplot as plt\n",
    "%matplotlib inline\n",
    "import numpy as np\n",
    "\n",
    "x = np.linspace(0, 10, 1000)\n",
    "fig, ax = plt.subplots()\n",
    "plt.plot(x, np.sin(x), '-b', label='Sine')\n",
    "plt.plot(x, np.cos(x), '--r', label='Cosine')\n",
    "plt.axis('equal')\n",
    "leg = plt.legend();\n"
   ]
  },
  {
   "cell_type": "code",
   "execution_count": 2,
   "metadata": {},
   "outputs": [
    {
     "name": "stdout",
     "output_type": "stream",
     "text": [
      "3262\n",
      "i=210 1660 Los Angeles California -118.2282411 34.30828379 [39, 46, 44] 129\n",
      "i=314 1068 Fairfield Connecticut -73.3881171 41.26809896 [10, 12, 22] 44\n",
      "i=315 963 Hartford Connecticut -72.73103891 41.80283011 [12, 10, 32] 54\n",
      "i=318 745 New Haven Connecticut -72.93620426 41.4080325 [15, 7, 22] 44\n",
      "i=616 2589 Cook Illinois -87.81658794 41.84144849 [44, 88, 140] 272\n",
      "i=751 440 Marion Indiana -86.13826325 39.78163624 [7, 6, 11] 24\n",
      "i=1213 422 Montgomery Maryland -77.20358245 39.13676329 [6, 19, 15] 40\n",
      "i=1214 389 Prince George's Maryland -76.8496441 38.83070039 [6, 14, 16] 36\n",
      "i=1227 704 Essex Massachusetts -70.94687179 42.6687626 [25, 9, 26] 60\n",
      "i=1229 475 Hampden Massachusetts -72.63235561 42.13440424 [9, 6, 11] 26\n",
      "i=1231 1282 Middlesex Massachusetts -71.39049229 42.48607732 [28, 9, 38] 75\n",
      "i=1318 2156 Wayne Michigan -83.281255 42.28098405 [8, 35, 16] 59\n",
      "i=1346 426 Hennepin Minnesota -93.47694895 45.00761521 [9, 14, 14] 37\n",
      "i=1786 1482 Essex New Jersey -74.24657979 40.78681335 [8, 17, 34] 59\n",
      "i=1790 360 Mercer New Jersey -74.70479631 40.28047017 [6, 9, 11] 26\n",
      "i=1794 571 Ocean New Jersey -74.28089251 39.8895449 [7, 15, 9] 31\n",
      "i=1799 908 Union New Jersey -74.30680092 40.65835409 [8, 24, 9] 41\n",
      "i=1863 2004 Nassau New York -73.58941873 40.74066522 [10, 18, 13] 41\n",
      "i=1864 20316 New York New York -73.97152637 40.7672726 [267, 181, 79] 527\n",
      "i=1885 1680 Suffolk New York -72.8012172 40.88320119 [22, 15, 26] 63\n",
      "i=1893 1245 Westchester New York -73.75741653 41.16278376 [9, 11, 7] 27\n",
      "i=2258 373 Bucks Pennsylvania -75.10836643 40.33682119 [8, 15, 9] 32\n",
      "i=3241 462 Unassigned Rhode Island 0 0 [8, 14, 18] 40\n"
     ]
    }
   ],
   "source": [
    "import requests as req\n",
    "# Create an empty list\n",
    "ALLdata=[]\n",
    "\n",
    "URL =\"https://raw.githubusercontent.com/CSSEGISandData/COVID-19/master/csse_covid_19_data/csse_covid_19_time_series/time_series_covid19_deaths_US.csv\"\n",
    "\n",
    "resp = req.get(URL)\n",
    "content = resp.text\n",
    "\n",
    "#clean the content, then break the content into lines \n",
    "content=content.replace(\",,\",\",Ex,\")\n",
    "content=content.replace(\"(\",\"\")\n",
    "content=content.replace(\")\",\"\")\n",
    "content=content.replace(\"\\\"\",\"\")\n",
    "lines= content.splitlines()\n",
    "print (len(lines))\n",
    "# loop the lines one line at a time\n",
    "# split each line at the delimiter ` , ` \n",
    "# then append the empty list 'ALLdata' with the line (which is now a list):  [line]  \n",
    "for line in lines:\n",
    "    #convert the splitlines to strings\n",
    "    line= str(line).split(\",\")\n",
    "    ALLdata.append(line)\n",
    "    \n",
    "\"\"\"\n",
    "Finding counties with a \"threshhold\" increase in deaths for the last three consecutive days.\n",
    "How to inspect last four entries of data to see if the number of deaths has increased:\n",
    "To make it easy to understand lets use the following three dates instead of data.\n",
    "May10 May11 May12 May13\n",
    "Subract May10 from May11 check if the result is above the 'Threshhold'\n",
    "Subract May11 from May12 check if the result is above the 'Threshhold'\n",
    "Subract May12 from May13 check if the result is above the 'Threshhold'\n",
    "If all three conditions are met, print the location and information.\n",
    "\"\"\"    \n",
    "    \n",
    "Threshhold = 5\n",
    "count = 0\n",
    "STATE =[]\n",
    "COUNTY =[]\n",
    "Points =[]\n",
    "HISTORY=[]\n",
    "SUM =[]\n",
    "SORTED =[]\n",
    "lat=[]\n",
    "long=[]\n",
    "# Check each line of data, county by county.\n",
    "for i in range(1,len(ALLdata)):\n",
    "    # Increase a counter for every line -  this will allow further investigation into the data\n",
    "    # as demonstarted in the next four cells.\n",
    "    count=count+1\n",
    "    # subtract the last four days of data to see if it has increased by the minimum of the Threshhold each day\n",
    "    if int(ALLdata[i][-3])-int(ALLdata[i][-4]) >Threshhold and int(ALLdata[i][-2])-int(ALLdata[i][-3]) >Threshhold and int(ALLdata[i][-1])-int(ALLdata[i][-2]) >Threshhold:\n",
    "        # if they do increase as specified, define the line as a variable called history\n",
    "        history=[int(ALLdata[i][-3])-int(ALLdata[i][-4]),int(ALLdata[i][-2])-int(ALLdata[i][-3]),int(ALLdata[i][-1])-int(ALLdata[i][-2])]\n",
    "        HISTORY.append(history)\n",
    "        Sum=(int(ALLdata[i][-3])-int(ALLdata[i][-4]))+(int(ALLdata[i][-2])-int(ALLdata[i][-3]))+(int(ALLdata[i][-1])-int(ALLdata[i][-2]))\n",
    "        SUM.append(Sum)\n",
    "        # The total amount of deaths in the specific county\n",
    "        deaths = int(ALLdata[i][-1])\n",
    "        # The county's name\n",
    "        county = ALLdata[i][5]\n",
    "        # The State the county is located in\n",
    "        state = ALLdata[i][6]\n",
    "        STATE.append(state)\n",
    "        COUNTY.append(county)\n",
    "        # The longitude and latitude of the county\n",
    "        longitude = ALLdata[i][9]\n",
    "        latitude = ALLdata[i][8]\n",
    "        long.append(float(longitude))\n",
    "        lat.append(float(latitude))\n",
    "        Points.append([float(longitude),float(latitude)])\n",
    "        #print the data line by line\n",
    "        print (\"i=\"+str(count),deaths,county,state,longitude,latitude,history,Sum)\n",
    "        SORTED.append([Sum,\"i=\"+str(count),deaths,county,state,longitude,latitude,history])"
   ]
  },
  {
   "cell_type": "code",
   "execution_count": 3,
   "metadata": {
    "scrolled": true
   },
   "outputs": [
    {
     "name": "stdout",
     "output_type": "stream",
     "text": [
      "['0', '0', '0', '0', '0', '0', '0', '0', '0', '0', '0', '0', '0', '0', '0', '0', '0', '0', '0', '0', '0', '0', '0', '0', '0', '0', '0', '0', '0', '0', '0', '0', '0', '0', '0', '0', '0', '0', '0', '0', '0', '0', '0', '0', '0', '0', '0', '0', '0', '0', '1', '2', '5', '11', '21', '32', '57', '84', '134', '180', '232', '328', '433', '573', '798', '1050', '1377', '1729', '2128', '2589', '3115', '3754', '4399', '5077', '5804', '6596', '7406', '8137', '8861', '9558', '10238', '10955', '11681', '12324', '12851', '13374', '13826', '14291', '14735', '15169', '15529', '15864', '16158', '16190', '17126', '17280', '17515', '17682', '18076', '18069', '18399', '18491', '18925', '19057', '19067', '19174', '19626', '19561', '19818', '19789', '20056', '20237', '20316']\n",
      ". . . .\n",
      "[0, 0, 0, 0, 0, 0, 0, 0, 0, 0, 0, 0, 0, 0, 0, 0, 0, 0, 0, 0, 0, 0, 0, 0, 0, 0, 0, 0, 0, 0, 0, 0, 0, 0, 0, 0, 0, 0, 0, 0, 0, 0, 0, 0, 0, 0, 0, 0, 0, 0, 1, 2, 5, 11, 21, 32, 57, 84, 134, 180, 232, 328, 433, 573, 798, 1050, 1377, 1729, 2128, 2589, 3115, 3754, 4399, 5077, 5804, 6596, 7406, 8137, 8861, 9558, 10238, 10955, 11681, 12324, 12851, 13374, 13826, 14291, 14735, 15169, 15529, 15864, 16158, 16190, 17126, 17280, 17515, 17682, 18076, 18069, 18399, 18491, 18925, 19057, 19067, 19174, 19626, 19561, 19818, 19789, 20056, 20237, 20316]\n"
     ]
    }
   ],
   "source": [
    "DataAsString = ALLdata[1864][14:]\n",
    "print (DataAsString)\n",
    "DataAsInteger = list(map(int, DataAsString))\n",
    "print(\". . . .\")\n",
    "print(DataAsInteger)"
   ]
  },
  {
   "cell_type": "code",
   "execution_count": 4,
   "metadata": {},
   "outputs": [
    {
     "name": "stdout",
     "output_type": "stream",
     "text": [
      "0 0 0 0 0 0 0 0 0 0 0 0 0 0 0 0 0 0 0 0 0 0 0 0 0 0 0 0 0 0 0 0 0 0 0 0 0 0 0 0 0 0 0 0 0 0 0 0 0 1 1 3 6 10 11 25 27 50 46 52 96 105 140 225 252 327 352 399 461 526 639 645 678 727 792 810 731 724 697 680 717 726 643 527 523 452 465 444 434 360 335 294 32 936 154 235 167 394 -7 330 92 434 132 10 107 452 -65 257 -29 267 181 79 "
     ]
    },
    {
     "data": {
      "image/png": "[encoded data removed]",
      "text/plain": [
       "<Figure size 432x288 with 1 Axes>"
      ]
     },
     "metadata": {
      "needs_background": "light"
     },
     "output_type": "display_data"
    }
   ],
   "source": [
    "import matplotlib.pyplot as plt\n",
    "%matplotlib inline\n",
    "import numpy as np\n",
    "\n",
    "data = DataAsInteger\n",
    "variation=[]\n",
    "previous=0\n",
    "for i in range(1,len(data)):\n",
    "    print(data[i]-data[i-1], end = \" \")\n",
    "    variation.append(data[i]-data[i-1])\n",
    "X=np.asarray(variation)\n",
    "#Y=np.asarray(range(0,len(variation)))\n",
    "Y = np.linspace(0, 1000, len(X))\n",
    "fig, ax = plt.subplots()\n",
    "ax.plot(Y,X, '-b', label='Day by Day Variation in Deaths')\n",
    "#ax.plot(X, np.cos(X), '--r', label='Cosine')\n",
    "ax.axis('equal')\n",
    "leg = ax.legend();\n"
   ]
  },
  {
   "cell_type": "code",
   "execution_count": 5,
   "metadata": {},
   "outputs": [
    {
     "name": "stdout",
     "output_type": "stream",
     "text": [
      "SumLastThreeDays, ItemLine, TotalDeaths, Country, State, Long, Lat, IncreasePerDay(LastThreeDays)\n",
      "\n",
      "[527, 'i=1864', 20316, 'New York', 'New York', '-73.97152637', '40.7672726', [267, 181, 79]]\n",
      "[272, 'i=616', 2589, 'Cook', 'Illinois', '-87.81658794', '41.84144849', [44, 88, 140]]\n",
      "[129, 'i=210', 1660, 'Los Angeles', 'California', '-118.2282411', '34.30828379', [39, 46, 44]]\n",
      "[75, 'i=1231', 1282, 'Middlesex', 'Massachusetts', '-71.39049229', '42.48607732', [28, 9, 38]]\n",
      "[63, 'i=1885', 1680, 'Suffolk', 'New York', '-72.8012172', '40.88320119', [22, 15, 26]]\n",
      "[60, 'i=1227', 704, 'Essex', 'Massachusetts', '-70.94687179', '42.6687626', [25, 9, 26]]\n",
      "[59, 'i=1786', 1482, 'Essex', 'New Jersey', '-74.24657979', '40.78681335', [8, 17, 34]]\n",
      "[59, 'i=1318', 2156, 'Wayne', 'Michigan', '-83.281255', '42.28098405', [8, 35, 16]]\n",
      "[54, 'i=315', 963, 'Hartford', 'Connecticut', '-72.73103891', '41.80283011', [12, 10, 32]]\n",
      "[44, 'i=318', 745, 'New Haven', 'Connecticut', '-72.93620426', '41.4080325', [15, 7, 22]]\n",
      "[44, 'i=314', 1068, 'Fairfield', 'Connecticut', '-73.3881171', '41.26809896', [10, 12, 22]]\n",
      "[41, 'i=1863', 2004, 'Nassau', 'New York', '-73.58941873', '40.74066522', [10, 18, 13]]\n",
      "[41, 'i=1799', 908, 'Union', 'New Jersey', '-74.30680092', '40.65835409', [8, 24, 9]]\n",
      "[40, 'i=3241', 462, 'Unassigned', 'Rhode Island', '0', '0', [8, 14, 18]]\n",
      "[40, 'i=1213', 422, 'Montgomery', 'Maryland', '-77.20358245', '39.13676329', [6, 19, 15]]\n",
      "[37, 'i=1346', 426, 'Hennepin', 'Minnesota', '-93.47694895', '45.00761521', [9, 14, 14]]\n",
      "[36, 'i=1214', 389, \"Prince George's\", 'Maryland', '-76.8496441', '38.83070039', [6, 14, 16]]\n",
      "[32, 'i=2258', 373, 'Bucks', 'Pennsylvania', '-75.10836643', '40.33682119', [8, 15, 9]]\n",
      "[31, 'i=1794', 571, 'Ocean', 'New Jersey', '-74.28089251', '39.8895449', [7, 15, 9]]\n",
      "[27, 'i=1893', 1245, 'Westchester', 'New York', '-73.75741653', '41.16278376', [9, 11, 7]]\n",
      "[26, 'i=1790', 360, 'Mercer', 'New Jersey', '-74.70479631', '40.28047017', [6, 9, 11]]\n",
      "[26, 'i=1229', 475, 'Hampden', 'Massachusetts', '-72.63235561', '42.13440424', [9, 6, 11]]\n",
      "[24, 'i=751', 440, 'Marion', 'Indiana', '-86.13826325', '39.78163624', [7, 6, 11]]\n"
     ]
    }
   ],
   "source": [
    "print(\"SumLastThreeDays, ItemLine, TotalDeaths, Country, State, Long, Lat, IncreasePerDay(LastThreeDays)\\n\")\n",
    "for line in sorted(SORTED, reverse=True):\n",
    "    print (line)"
   ]
  },
  {
   "cell_type": "code",
   "execution_count": null,
   "metadata": {},
   "outputs": [],
   "source": [
    "# To view the header use ALLdata[0] that is the first line:\n",
    "print (\"This is the first line or `The header`.\\n\",ALLdata[0])"
   ]
  },
  {
   "cell_type": "code",
   "execution_count": null,
   "metadata": {},
   "outputs": [],
   "source": [
    "# Use the `i` value ( i=616 ) to view the entire line of data.\n",
    "# Example:  To see i=616 enter:  616\n",
    "i =input(\"Enter a value for `i`: \")\n",
    "i = int(i)\n",
    "print (\"\\nThe data at position ALLdata[\"+str(i)+\"]\\n----------\\n\",ALLdata[i])"
   ]
  },
  {
   "cell_type": "code",
   "execution_count": null,
   "metadata": {},
   "outputs": [],
   "source": []
  },
  {
   "cell_type": "code",
   "execution_count": null,
   "metadata": {},
   "outputs": [],
   "source": [
    "for i in range(0,len(COUNTY)):\n",
    "    #print(COUNTY[i],STATE[i])\n",
    "    print('{:<12} {:>12}'.format(COUNTY[i],STATE[i]))\n",
    "    \n",
    "#Los Angeles  California        "
   ]
  },
  {
   "cell_type": "code",
   "execution_count": null,
   "metadata": {},
   "outputs": [],
   "source": [
    "data = DataAsInteger\n",
    "variation=[]\n",
    "previous=0\n",
    "for i in range(1,len(data)):\n",
    "    print(data[i]-data[i-1], end = \" \")\n",
    "    variation.append(data[i]-data[i-1])\n"
   ]
  },
  {
   "cell_type": "code",
   "execution_count": null,
   "metadata": {},
   "outputs": [],
   "source": []
  },
  {
   "cell_type": "code",
   "execution_count": null,
   "metadata": {
    "scrolled": false
   },
   "outputs": [],
   "source": [
    "import matplotlib.pyplot as plt\n",
    "from matplotlib.legend_handler import HandlerLine2D, HandlerTuple\n",
    "import numpy as np\n",
    "inc= len(Y)\n",
    "colorZ = ['yellowgreen','red','gold','lightskyblue','white','lightcoral','blue','pink', 'darkgreen','yellow','grey','violet','magenta','cyan','yellowgreen','red','gold','lightskyblue','white','lightcoral','blue','pink', 'darkgreen','yellow','grey','violet','magenta','cyan','navy']\n",
    "colors = colorZ[-inc:]\n",
    "\n",
    "y=np.asarray(long)\n",
    "x=np.asarray(lat)\n",
    "\n",
    "\n",
    "#plt.scatter(y,x, s=40, color=colors)\n",
    "\n",
    "for i in range(0,len(lat)-1):\n",
    "    #p1, = plt.plot(float(long[i]),float(lat[i]), color=colors[i])\n",
    "    plt.scatter(float(long[i]),float(lat[i]), color=colors[i])\n",
    "    #p3, = plt.text(float(long[i]),float(lat[i]), COUNTY[i])\n",
    "    #p3, = plt.scatter(float(long[i]),float(lat[i]), color=colors[i])\n",
    "    print(long[i],lat[i])\n",
    "    '''\n",
    "    l = plt.legend([(p2)], ['Two keys'], numpoints=1,\n",
    "               handler_map={tuple: HandlerTuple(ndivide=None)})\n",
    "    '''"
   ]
  },
  {
   "cell_type": "code",
   "execution_count": null,
   "metadata": {},
   "outputs": [],
   "source": [
    "print(y[1])"
   ]
  },
  {
   "cell_type": "code",
   "execution_count": null,
   "metadata": {},
   "outputs": [],
   "source": [
    "colorZ = ['yellowgreen','red','gold','lightskyblue','white','lightcoral','blue','pink', 'darkgreen','yellow','grey','violet','magenta','cyan','yellowgreen','red','gold','lightskyblue','white','lightcoral','blue','pink', 'darkgreen','yellow','grey','violet','magenta','cyan','navy']\n",
    "\n",
    "inc= len(y)\n",
    "\n",
    "colors = colorZ[-inc:]\n",
    "colorS = colorZ[0:inc]\n",
    "print(colors)\n",
    "print(len(colors))\n",
    "print(colorS)\n",
    "print(len(colorS))\n",
    "\n",
    "print(len(y))"
   ]
  },
  {
   "cell_type": "code",
   "execution_count": null,
   "metadata": {},
   "outputs": [],
   "source": [
    "negative=plt.scatter(x,y,s=12, color=colors, label='negative')\n",
    "positive= plt.scatter(y,x,s=6, color=colors,label = 'positive')\n",
    "plt.legend(handles=[negative,positive])"
   ]
  },
  {
   "cell_type": "code",
   "execution_count": null,
   "metadata": {},
   "outputs": [],
   "source": [
    "negative=plt.plot(x,y,linestyle ='dashed', label='negative')\n",
    "positive= plt.plot(y,x,label = 'positive')\n",
    "plt.legend(handles=[negative[0],positive[0],])"
   ]
  },
  {
   "cell_type": "code",
   "execution_count": null,
   "metadata": {},
   "outputs": [],
   "source": [
    "negative=plt.plot(x,lat,linestyle ='dashed', label='negative')\n",
    "positive= plt.plot(x,long,label = 'positive')\n",
    "plt.legend(handles=[negative[0],positive[0]])"
   ]
  },
  {
   "cell_type": "code",
   "execution_count": null,
   "metadata": {},
   "outputs": [],
   "source": [
    "import matplotlib.pyplot as plt\n",
    "import numpy as np\n",
    "\n",
    "c = np.char.array(COUNTY)\n",
    "S = np.char.array(STATE)\n",
    "y = np.array(long)\n",
    "x =np.array(lat)\n",
    "\n",
    "inc= len(COUNTY)\n",
    "colorZ = ['yellowgreen','red','gold','lightskyblue','white','lightcoral','blue','pink', 'darkgreen','yellow','grey','violet','magenta','cyan','yellowgreen','red','gold','lightskyblue','white','lightcoral','blue','pink', 'darkgreen','yellow','grey','violet','magenta','cyan','navy']\n",
    "colors = colorZ[-inc:]\n",
    "\n",
    "\n",
    "plt.scatter(x,y, s=40, color=colors)\n",
    "\n",
    "labels = ['{0}, {1}'.format(i,j) for i,j in zip(c, S)]\n",
    "\n",
    "\n",
    "\n",
    "sortlegend0 = [colors[0], labels[0],]\n",
    "sortlegend1 = [colors[1], labels[1],]\n",
    "print (sortlegend0,sortlegend1)\n",
    "#plt.legend([(sortlegend0,sortlegend1)], loc='left center', bbox_to_anchor=(-0.1, 1.),\n",
    "#           fontsize=8)\n",
    "\n",
    "\n",
    "#l = plt.legend([(sortlegend0,sortlegend1)], ['Two keys'], numpoints=1,\n",
    "#               handler_map={tuple: HandlerTuple(ndivide=None)})\n",
    "\n",
    "\n",
    "\n",
    "\"\"\"\n",
    "plt.legend(handles=sortlegend, loc='left center', bbox_to_anchor=(-0.1, 1.),\n",
    "           fontsize=8)\n",
    "\"\"\"\n",
    "plt.savefig('piechart.png', bbox_inches='tight')\n",
    "\n",
    "\n",
    "#plt.legend(handles=[line_up, line_down])"
   ]
  },
  {
   "cell_type": "code",
   "execution_count": null,
   "metadata": {},
   "outputs": [],
   "source": [
    "inc= len(Points)\n",
    "colorZ = ['yellowgreen','red','gold','lightskyblue','white','lightcoral','blue','pink', 'darkgreen','yellow','grey','violet','magenta','cyan','yellowgreen','red','gold','lightskyblue','white','lightcoral','blue','pink', 'darkgreen','yellow','grey','violet','magenta','cyan','navy']\n",
    "colors = colorZ[-inc:]\n",
    "\n",
    "\n",
    "text0 = COUNTY\n",
    "text = STATE\n",
    "for i in range(len(Points)):\n",
    "    x = Points[i][0]\n",
    "    y = Points[i][1]\n",
    "    tx = text0[i]+\", \"+text[i]\n",
    "    #xx, yy = m(x,y)\n",
    "    #print(xx, yy)\n",
    "    print(x, y)\n",
    "    print(colors[i])\n",
    "    c=colors[i]\n",
    "    #plt.plot(xx, yy, 'bo')\n",
    "    #plt.scatter(xx, yy, s=20, color=c, zorder=5, alpha=0.6)\n",
    "    #t = plt.text(xx, yy, tx, fontsize=16, color=c)\n",
    "    plt.scatter(x, y, s=20, color=c, zorder=5, alpha=0.6)\n",
    "    t = plt.text(x, y, tx, fontsize=16, color=c)"
   ]
  },
  {
   "cell_type": "code",
   "execution_count": null,
   "metadata": {},
   "outputs": [],
   "source": [
    "import warnings\n",
    "warnings.filterwarnings(\"ignore\")\n",
    "import matplotlib.pyplot as plt\n",
    "from matplotlib.collections import PatchCollection\n",
    "from matplotlib.patches import Polygon\n",
    "import numpy as np\n",
    "from PIL import Image,ImageFont,ImageDraw,ImageFilter,ImageChops\n",
    "from random import randint\n",
    "from mpl_toolkits.basemap import Basemap\n",
    "import requests as req\n",
    "import time\n",
    "DATE = time.strftime(\"%m-%d-%H_\")\n",
    "\n",
    "# Create an empty list\n",
    "ALLdata=[]\n",
    "\n",
    "URL =\"https://raw.githubusercontent.com/CSSEGISandData/COVID-19/master/csse_covid_19_data/csse_covid_19_time_series/time_series_covid19_deaths_US.csv\"\n",
    "\n",
    "resp = req.get(URL)\n",
    "content = resp.text\n",
    "\n",
    "#clean the content, then break the content into lines \n",
    "content=content.replace(\",,\",\",Ex,\")\n",
    "content=content.replace(\"(\",\"\")\n",
    "content=content.replace(\")\",\"\")\n",
    "content=content.replace(\"\\\"\",\"\")\n",
    "lines= content.splitlines()\n",
    "print (len(lines))\n",
    "# loop the lines one line at a time\n",
    "# split each line at the delimiter ` , ` \n",
    "# then append the empty list 'ALLdata' with the line (which is now a list):  [line]  \n",
    "for line in lines:\n",
    "    #convert the splitlines to strings\n",
    "    line= str(line).split(\",\")\n",
    "    ALLdata.append(line)\n",
    "    \n",
    "\"\"\"\n",
    "Finding counties with a \"threshhold\" increase in deaths\n",
    "Take the last four entries of data to see if the number of deaths has increased for the last three days:\n",
    "To make it easy to understand lets use dates instead of data.\n",
    "May10 May11 May12 May13\n",
    "subract May10 from May11 check if the result is above the 'Threshhold'\n",
    "subract May11 from May12 check if the result is above the 'Threshhold'\n",
    "subract May12 from May13 check if the result is above the 'Threshhold'\n",
    "if all three conditions are met, print the location and information.\n",
    "\"\"\"    \n",
    "    \n",
    "Threshhold = 10\n",
    "count = 0\n",
    "STATE =[]\n",
    "COUNTY =[]\n",
    "Points =[]\n",
    "lat=[]\n",
    "long=[]\n",
    "# Check each line of data, county by county.\n",
    "for i in range(1,len(ALLdata)):\n",
    "    # Increase a counter for every line -  this will allow further investigation into the data\n",
    "    # as demonstarted in the next four cells.\n",
    "    count=count+1\n",
    "    # subtract the last four days of data to see if it has increased by the minimum of the Threshhold each day\n",
    "    if int(ALLdata[i][-3])-int(ALLdata[i][-4]) >Threshhold and int(ALLdata[i][-2])-int(ALLdata[i][-3]) >Threshhold and int(ALLdata[i][-1])-int(ALLdata[i][-2]) >Threshhold:\n",
    "        # if they do increase as specified, define the line as a variable called history\n",
    "        history=[int(ALLdata[i][-3])-int(ALLdata[i][-4]),int(ALLdata[i][-2])-int(ALLdata[i][-3]),int(ALLdata[i][-1])-int(ALLdata[i][-2])]\n",
    "        # The total amount of deaths in the specific county\n",
    "        deaths = int(ALLdata[i][-1])\n",
    "        # The county's name\n",
    "        county = ALLdata[i][5]\n",
    "        # The State the county is located in\n",
    "        state = ALLdata[i][6]\n",
    "        STATE.append(state)\n",
    "        COUNTY.append(county)\n",
    "        # The longitude and latitude of the county\n",
    "        longitude = ALLdata[i][9]\n",
    "        latitude = ALLdata[i][8]\n",
    "        long.append(float(longitude))\n",
    "        lat.append(float(latitude))\n",
    "        Points.append([float(longitude),float(latitude)])\n",
    "        #print the data line by line\n",
    "        print (\"i=\"+str(count),deaths,county,state,longitude,latitude,history)\n",
    "\"\"\"\n",
    "Plot the data on a basemape with annotations of the County namea\n",
    "\"\"\" \n",
    "\n",
    "fig = plt.figure(num=None, figsize=(12, 8), dpi=120 ) \n",
    "m = Basemap(width=6000000,height=4500000,resolution='h',projection='aea',lat_1=35.,lat_2=45,lon_0=-100,lat_0=40)\n",
    "m.drawcoastlines(linewidth=0.5)\n",
    "m.fillcontinents(color='tan',lake_color='lightblue')\n",
    "# draw parallels and meridians.\n",
    "m.drawparallels(np.arange(-90.,91.,10.),labels=[True,True,False,False],dashes=[2,2])\n",
    "m.drawmeridians(np.arange(-180.,181.,10.),labels=[False,False,False,True],dashes=[2,2])\n",
    "m.drawmapboundary(fill_color='lightblue')\n",
    "m.drawcountries(linewidth=2, linestyle='solid', color='k' ) \n",
    "m.drawstates(linewidth=0.5, linestyle='solid', color='k')\n",
    "m.drawrivers(linewidth=0.5, linestyle='solid', color='blue')\n",
    "\n",
    "#-- Place the text in the upper left hand corner of the axes\n",
    "# The basemap instance doesn't have an annotate method, so we'll use the pyplot\n",
    "# interface instead.  (This is one of the many reasons to use cartopy instead.)\n",
    "#plt.annotate('Jul-24-2012', xy=(0, 1), xycoords='axes fraction')\n",
    "text0 = COUNTY\n",
    "text = STATE\n",
    "for i in range(len(Points)):\n",
    "    x = Points[i][0]\n",
    "    y = Points[i][1]\n",
    "    tx = str(text0[i])+\", \"+str(text[i])\n",
    "    xx, yy = m(x,y)\n",
    "    print(xx, yy)\n",
    "    #plt.plot(xx, yy, 'bo')\n",
    "    plt.scatter(xx, yy, s=20, color='red', zorder=5, alpha=0.6)\n",
    "    plt.text(xx, yy, tx, fontsize=10, color=\"white\")\n",
    "\n",
    "filename = \"BaseMap/Hotspots__.png\"\n",
    "plt.savefig(filename, dpi=120, facecolor='salmon', edgecolor='b',\n",
    "        orientation='portrait', papertype=None, format=None,\n",
    "        transparent=False, bbox_inches=\"tight\", pad_inches=0.2,\n",
    "        frameon=None, metadata=None)\n",
    "    \n",
    "plt.show()"
   ]
  },
  {
   "cell_type": "code",
   "execution_count": null,
   "metadata": {},
   "outputs": [],
   "source": []
  }
 ],
 "metadata": {
  "kernelspec": {
   "display_name": "Python(base)",
   "language": "python",
   "name": "base"
  },
  "language_info": {
   "codemirror_mode": {
    "name": "ipython",
    "version": 3
   },
   "file_extension": ".py",
   "mimetype": "text/x-python",
   "name": "python",
   "nbconvert_exporter": "python",
   "pygments_lexer": "ipython3",
   "version": "3.7.4"
  },
  "toc": {
   "base_numbering": 1,
   "nav_menu": {},
   "number_sections": true,
   "sideBar": true,
   "skip_h1_title": false,
   "title_cell": "Table of Contents",
   "title_sidebar": "Contents",
   "toc_cell": false,
   "toc_position": {},
   "toc_section_display": true,
   "toc_window_display": false
  }
 },
 "nbformat": 4,
 "nbformat_minor": 4
}
