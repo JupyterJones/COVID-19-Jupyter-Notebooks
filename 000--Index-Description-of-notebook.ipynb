{
 "cells": [
  {
   "cell_type": "markdown",
   "metadata": {},
   "source": [
    "<a href=\"000-Data-Resources-Getting-the-Data.ipynb\">000-Data-Resources-Getting-the-Data.ipynb</a><br />\n",
    "<a href=\"000--Index-Description-of-notebook.ipynb\">000--Index-Description-of-notebook.ipynb</a><br />\n",
    "<a href=\"001-Help-and-Tools.ipynb\">001-Help-and-Tools.ipynb</a><br />\n",
    "<a href=\"002-Animation-MP4-Experimental.ipynb\">002-Animation-MP4-Experimental.ipynb</a><br />\n",
    "<a href=\"003-Available-Matplotlib-Colors.ipynb\">003-Available-Matplotlib-Colors.ipynb</a><br />\n",
    "<a href=\"004-Plotly-Country-Cases-and-Deaths-Increase-Decrease.ipynb\">004-Plotly-Country-Cases-and-Deaths-Increase-Decrease.ipynb</a><br />\n",
    "<a href=\"005-Basemap-Using-arcGIS-server.ipynb\">005-Basemap-Using-arcGIS-server.ipynb</a><br />\n",
    "<a href=\"006-Using_COVID-19-Github-for-Data-Jupyter-Notebooks.ipynb\">006-Using_COVID-19-Github-for-Data-Jupyter-Notebooks.ipynb</a><br />\n",
    "<a href=\"007-Drawing-Maps-with-Shapefiles-and-US_State_Bounding_Boxes.ipynb\">007-Drawing-Maps-with-Shapefiles-and-US_State_Bounding_Boxes.ipynb</a><br />\n",
    "<a href=\"008-Plotting-on-Basemaps.ipynb\">008-Plotting-on-Basemaps.ipynb</a><br />\n",
    "<a href=\"009-USA-Global-Map-Hot-Spots.ipynb\">009-USA-Global-Map-Hot-Spots.ipynb</a><br />\n",
    "<a href=\"010-EXPERIMENTS-save-clicks.ipynb\">010-EXPERIMENTS-save-clicks.ipynb</a><br />\n",
    "<a href=\"011-Basemap-Using-arcGIS-server.ipynb\">011-Basemap-Using-arcGIS-server.ipynb</a><br />\n",
    "<a href=\"012-Get-the-Latitude-and-Longitude-From-a-Plot.ipynb\">012-Get-the-Latitude-and-Longitude-From-a-Plot.ipynb</a><br />\n",
    "<a href=\"013-USA-COUNTIES-Finding-Hot-Spots.ipynb\">013-USA-COUNTIES-Finding-Hot-Spots.ipynb</a><br />\n",
    "<a href=\"014-geopy_geocoders-geopandas-pyproj.ipynb\">014-geopy_geocoders-geopandas-pyproj.ipynb</a><br />\n",
    "<a href=\"015-LEGENDS-Understanding-Plot-Legends.ipynb\">015-LEGENDS-Understanding-Plot-Legends.ipynb</a><br />\n",
    "<a href=\"016-Plots-with-Legends.ipynb\">016-Plots-with-Legends.ipynb</a><br />\n",
    "<a href=\"017-MODULE-python-us-py.ipynb\">017-MODULE-python-us-py.ipynb</a><br />\n",
    "<a href=\"018-CSV-pandas-csv-modules.ipynb\">018-CSV-pandas-csv-modules.ipynb</a><br />\n",
    "<a href=\"020-Animation-MP4-Experimental.ipynb\">020-Animation-MP4-Experimental.ipynb</a><br />\n",
    "<a href=\"040-Practice-Stuff.ipynb\">040-Practice-Stuff.ipynb</a><br />\n",
    "<a href=\"0100-Misc-Bonus-Clickdraw-AutoDate.ipynb\">0100-Misc-Bonus-Clickdraw-AutoDate.ipynb</a>"
   ]
  },
  {
   "cell_type": "code",
   "execution_count": null,
   "metadata": {},
   "outputs": [],
   "source": []
  }
 ],
 "metadata": {
  "kernelspec": {
   "display_name": "Python(base)",
   "language": "python",
   "name": "base"
  },
  "language_info": {
   "codemirror_mode": {
    "name": "ipython",
    "version": 3
   },
   "file_extension": ".py",
   "mimetype": "text/x-python",
   "name": "python",
   "nbconvert_exporter": "python",
   "pygments_lexer": "ipython3",
   "version": "3.7.4"
  },
  "toc": {
   "base_numbering": 1,
   "nav_menu": {},
   "number_sections": true,
   "sideBar": true,
   "skip_h1_title": false,
   "title_cell": "Table of Contents",
   "title_sidebar": "Contents",
   "toc_cell": false,
   "toc_position": {},
   "toc_section_display": true,
   "toc_window_display": false
  }
 },
 "nbformat": 4,
 "nbformat_minor": 4
}
