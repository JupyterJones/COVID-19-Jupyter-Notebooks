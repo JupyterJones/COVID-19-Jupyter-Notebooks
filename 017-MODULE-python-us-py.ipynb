{
 "cells": [
  {
   "cell_type": "markdown",
   "metadata": {},
   "source": [
    "# nation-u-s-current-county-and-equivalent-national-shapefile\n",
    "## us.py"
   ]
  },
  {
   "cell_type": "code",
   "execution_count": null,
   "metadata": {},
   "outputs": [],
   "source": [
    "https://catalog.data.gov/dataset/tiger-line-shapefile-2017-nation-u-s-current-county-and-equivalent-national-shapefile"
   ]
  },
  {
   "cell_type": "code",
   "execution_count": null,
   "metadata": {},
   "outputs": [],
   "source": [
    "https://github.com/unitedstates/python-us"
   ]
  },
  {
   "cell_type": "code",
   "execution_count": 1,
   "metadata": {},
   "outputs": [],
   "source": [
    "import us"
   ]
  },
  {
   "cell_type": "code",
   "execution_count": 2,
   "metadata": {},
   "outputs": [
    {
     "name": "stdout",
     "output_type": "stream",
     "text": [
      "Help on package us:\n",
      "\n",
      "NAME\n",
      "    us\n",
      "\n",
      "PACKAGE CONTENTS\n",
      "    cli (package)\n",
      "    states\n",
      "    unitedstatesofamerica\n",
      "\n",
      "DATA\n",
      "    OBSOLETE = [<State:Dakota>, <State:Orleans>, <State:Philippine Islands...\n",
      "    STATES = [<State:Alabama>, <State:Alaska>, <State:Arizona>, <State:Ark...\n",
      "    STATES_AND_TERRITORIES = [<State:Alabama>, <State:Alaska>, <State:Amer...\n",
      "    STATES_CONTIGUOUS = [<State:Alabama>, <State:Arizona>, <State:Arkansas...\n",
      "    STATES_CONTINENTAL = [<State:Alabama>, <State:Alaska>, <State:Arizona>...\n",
      "    TERRITORIES = [<State:American Samoa>, <State:Guam>, <State:Northern M...\n",
      "    __appname__ = 'us'\n",
      "    abbr = 'US'\n",
      "    name = 'United States of America'\n",
      "\n",
      "VERSION\n",
      "    1.0.0\n",
      "\n",
      "FILE\n",
      "    /home/jack/miniconda3/lib/python3.7/site-packages/us/__init__.py\n",
      "\n",
      "\n"
     ]
    }
   ],
   "source": [
    "help(us)"
   ]
  },
  {
   "cell_type": "code",
   "execution_count": 3,
   "metadata": {},
   "outputs": [
    {
     "name": "stdout",
     "output_type": "stream",
     "text": [
      "Help on module us.states in us:\n",
      "\n",
      "NAME\n",
      "    us.states\n",
      "\n",
      "CLASSES\n",
      "    builtins.object\n",
      "        State\n",
      "    \n",
      "    class State(builtins.object)\n",
      "     |  State(**kwargs)\n",
      "     |  \n",
      "     |  Methods defined here:\n",
      "     |  \n",
      "     |  __init__(self, **kwargs)\n",
      "     |      Initialize self.  See help(type(self)) for accurate signature.\n",
      "     |  \n",
      "     |  __repr__(self)\n",
      "     |      Return repr(self).\n",
      "     |  \n",
      "     |  __str__(self)\n",
      "     |      Return str(self).\n",
      "     |  \n",
      "     |  shapefile_urls(self, region=None)\n",
      "     |  \n",
      "     |  ----------------------------------------------------------------------\n",
      "     |  Data descriptors defined here:\n",
      "     |  \n",
      "     |  __dict__\n",
      "     |      dictionary for instance variables (if defined)\n",
      "     |  \n",
      "     |  __weakref__\n",
      "     |      list of weak references to the object (if defined)\n",
      "\n",
      "FUNCTIONS\n",
      "    load_states()\n",
      "        Load state data from pickle file distributed with this package.\n",
      "        \n",
      "        Creates lists of states, territories, and combined states and\n",
      "        territories. Also adds state abbreviation attribute access\n",
      "        to the package: us.states.MD\n",
      "    \n",
      "    lookup(val, field=None, use_cache=True)\n",
      "        Semi-fuzzy state lookup. This method will make a best effort\n",
      "        attempt at finding the state based on the lookup value provided.\n",
      "        \n",
      "          * two digits will search for FIPS code\n",
      "          * two letters will search for state abbreviation\n",
      "          * anything else will try to match the metaphone of state names\n",
      "        \n",
      "        Metaphone is used to allow for incorrect, but phonetically accurate,\n",
      "        spelling of state names.\n",
      "        \n",
      "        Exact matches can be done on any attribute on State objects by passing\n",
      "        the `field` argument. This skips the fuzzy-ish matching and does an\n",
      "        exact, case-sensitive comparison against the specified field.\n",
      "        \n",
      "        This method caches non-None results, but can the cache can be bypassed\n",
      "        with the `use_cache=False` argument.\n",
      "    \n",
      "    mapping(from_field, to_field, states=None)\n",
      "\n",
      "DATA\n",
      "    ABBR_RE = re.compile('^[a-zA-Z]{2}$')\n",
      "    AK = <State:Alaska>\n",
      "    AL = <State:Alabama>\n",
      "    AR = <State:Arkansas>\n",
      "    AS = <State:American Samoa>\n",
      "    AZ = <State:Arizona>\n",
      "    CA = <State:California>\n",
      "    CO = <State:Colorado>\n",
      "    CT = <State:Connecticut>\n",
      "    DC = <State:District of Columbia>\n",
      "    DE = <State:Delaware>\n",
      "    DK = <State:Dakota>\n",
      "    FIPS_RE = re.compile('^\\\\d{2}$')\n",
      "    FL = <State:Florida>\n",
      "    GA = <State:Georgia>\n",
      "    GU = <State:Guam>\n",
      "    HI = <State:Hawaii>\n",
      "    IA = <State:Iowa>\n",
      "    ID = <State:Idaho>\n",
      "    IL = <State:Illinois>\n",
      "    IN = <State:Indiana>\n",
      "    KS = <State:Kansas>\n",
      "    KY = <State:Kentucky>\n",
      "    LA = <State:Louisiana>\n",
      "    MA = <State:Massachusetts>\n",
      "    MD = <State:Maryland>\n",
      "    ME = <State:Maine>\n",
      "    MI = <State:Michigan>\n",
      "    MN = <State:Minnesota>\n",
      "    MO = <State:Missouri>\n",
      "    MP = <State:Northern Mariana Islands>\n",
      "    MS = <State:Mississippi>\n",
      "    MT = <State:Montana>\n",
      "    NC = <State:North Carolina>\n",
      "    ND = <State:North Dakota>\n",
      "    NE = <State:Nebraska>\n",
      "    NH = <State:New Hampshire>\n",
      "    NJ = <State:New Jersey>\n",
      "    NM = <State:New Mexico>\n",
      "    NV = <State:Nevada>\n",
      "    NY = <State:New York>\n",
      "    OBSOLETE = [<State:Dakota>, <State:Orleans>, <State:Philippine Islands...\n",
      "    OH = <State:Ohio>\n",
      "    OK = <State:Oklahoma>\n",
      "    OL = <State:Orleans>\n",
      "    OR = <State:Oregon>\n",
      "    PA = <State:Pennsylvania>\n",
      "    PI = <State:Philippine Islands>\n",
      "    PR = <State:Puerto Rico>\n",
      "    RI = <State:Rhode Island>\n",
      "    SC = <State:South Carolina>\n",
      "    SD = <State:South Dakota>\n",
      "    STATES = [<State:Alabama>, <State:Alaska>, <State:Arizona>, <State:Ark...\n",
      "    STATES_AND_TERRITORIES = [<State:Alabama>, <State:Alaska>, <State:Amer...\n",
      "    STATES_CONTIGUOUS = [<State:Alabama>, <State:Arizona>, <State:Arkansas...\n",
      "    STATES_CONTINENTAL = [<State:Alabama>, <State:Alaska>, <State:Arizona>...\n",
      "    TERRITORIES = [<State:American Samoa>, <State:Guam>, <State:Northern M...\n",
      "    TN = <State:Tennessee>\n",
      "    TX = <State:Texas>\n",
      "    UT = <State:Utah>\n",
      "    VA = <State:Virginia>\n",
      "    VI = <State:Virgin Islands>\n",
      "    VT = <State:Vermont>\n",
      "    WA = <State:Washington>\n",
      "    WI = <State:Wisconsin>\n",
      "    WV = <State:West Virginia>\n",
      "    WY = <State:Wyoming>\n",
      "    unicode_literals = _Feature((2, 6, 0, 'alpha', 2), (3, 0, 0, 'alpha', ...\n",
      "\n",
      "FILE\n",
      "    /home/jack/miniconda3/lib/python3.7/site-packages/us/states.py\n",
      "\n",
      "\n"
     ]
    }
   ],
   "source": [
    "help(us.states)"
   ]
  },
  {
   "cell_type": "code",
   "execution_count": 4,
   "metadata": {},
   "outputs": [
    {
     "name": "stdout",
     "output_type": "stream",
     "text": [
      "Help on module us.unitedstatesofamerica in us:\n",
      "\n",
      "NAME\n",
      "    us.unitedstatesofamerica\n",
      "\n",
      "DATA\n",
      "    __all__ = ['name', 'abbr']\n",
      "    abbr = 'US'\n",
      "    name = 'United States of America'\n",
      "\n",
      "FILE\n",
      "    /home/jack/miniconda3/lib/python3.7/site-packages/us/unitedstatesofamerica.py\n",
      "\n",
      "\n"
     ]
    }
   ],
   "source": [
    "help(us.unitedstatesofamerica)"
   ]
  },
  {
   "cell_type": "code",
   "execution_count": 2,
   "metadata": {},
   "outputs": [
    {
     "name": "stdout",
     "output_type": "stream",
     "text": [
      "Help on package us:\n",
      "\n",
      "NAME\n",
      "    us\n",
      "\n",
      "PACKAGE CONTENTS\n",
      "    cli (package)\n",
      "    states\n",
      "    unitedstatesofamerica\n",
      "\n",
      "DATA\n",
      "    OBSOLETE = [<State:Dakota>, <State:Orleans>, <State:Philippine Islands...\n",
      "    STATES = [<State:Alabama>, <State:Alaska>, <State:Arizona>, <State:Ark...\n",
      "    STATES_AND_TERRITORIES = [<State:Alabama>, <State:Alaska>, <State:Amer...\n",
      "    STATES_CONTIGUOUS = [<State:Alabama>, <State:Arizona>, <State:Arkansas...\n",
      "    STATES_CONTINENTAL = [<State:Alabama>, <State:Alaska>, <State:Arizona>...\n",
      "    TERRITORIES = [<State:American Samoa>, <State:Guam>, <State:Northern M...\n",
      "    __appname__ = 'us'\n",
      "    abbr = 'US'\n",
      "    name = 'United States of America'\n",
      "\n",
      "VERSION\n",
      "    1.0.0\n",
      "\n",
      "FILE\n",
      "    /home/jack/miniconda3/lib/python3.7/site-packages/us/__init__.py\n",
      "\n",
      "\n"
     ]
    }
   ],
   "source": [
    "help(us)"
   ]
  }
 ],
 "metadata": {
  "kernelspec": {
   "display_name": "Python(base)",
   "language": "python",
   "name": "base"
  },
  "language_info": {
   "codemirror_mode": {
    "name": "ipython",
    "version": 3
   },
   "file_extension": ".py",
   "mimetype": "text/x-python",
   "name": "python",
   "nbconvert_exporter": "python",
   "pygments_lexer": "ipython3",
   "version": "3.7.4"
  },
  "toc": {
   "base_numbering": 1,
   "nav_menu": {},
   "number_sections": true,
   "sideBar": true,
   "skip_h1_title": false,
   "title_cell": "Table of Contents",
   "title_sidebar": "Contents",
   "toc_cell": false,
   "toc_position": {},
   "toc_section_display": true,
   "toc_window_display": false
  }
 },
 "nbformat": 4,
 "nbformat_minor": 4
}
