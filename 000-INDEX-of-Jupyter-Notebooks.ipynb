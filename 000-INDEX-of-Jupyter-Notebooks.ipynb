{
 "cells": [
  {
   "cell_type": "markdown",
   "metadata": {},
   "source": [
    "https://github.com/CSSEGISandData/COVID-19/tree/master/csse_covid_19_data/csse_covid_19_time_series<br />\n",
    "&nbsp;&nbsp;&nbsp;&nbsp;&nbsp;Update frequency:<br />\n",
    "&nbsp;&nbsp;&nbsp;&nbsp;&nbsp;Once a day around 23:59 (UTC).<br />\n"
   ]
  },
  {
   "cell_type": "code",
   "execution_count": null,
   "metadata": {},
   "outputs": [],
   "source": [
    "https://opendata.ecdc.europa.eu/covid19/casedistribution/csv"
   ]
  },
  {
   "cell_type": "markdown",
   "metadata": {},
   "source": [
    "<a href=\"001-Help-and-Tools.ipynb\">001-Help-and-Tools.ipynb</a>\n",
    "<a href=\"002-Animation-MP4-Experimental.ipynb\">002-Animation-MP4-Experimental.ipynb</a>\n",
    "<a href=\"003-Available-Matplotlib-Colors.ipynb\">003-Available-Matplotlib-Colors.ipynb</a>"
   ]
  },
  {
   "cell_type": "code",
   "execution_count": 6,
   "metadata": {},
   "outputs": [
    {
     "name": "stdout",
     "output_type": "stream",
     "text": [
      "000-INDEX-of-Jupyter-Notebooks.ipynb\r\n",
      "001-Help-and-Tools.ipynb\r\n",
      "Animation-MP4.ipynb\r\n",
      "Available-Matplotlib-Colors.ipynb\r\n",
      "Basemap-Using-arcGIS-server.ipynb\r\n",
      "By-Country-Deaths-Increase-Decrease.ipynb\r\n",
      "CSSEGISandData-COVID-19_Creating-Plots-Copy1.ipynb\r\n",
      "CSSEGISandData-COVID-19-GitHub-markers-Copy1.ipynb\r\n",
      "CSSEGISandData-COVID-19-GitHub-markers.ipynb\r\n",
      "Drawing-Maps.ipynb\r\n",
      "Finding-Hot-Spots.ipynb\r\n",
      "geopy_geocoders-geopandas-pyproj.ipynb\r\n",
      "Get-Distance-from-Latitude-and-Longitude-in-a-Plot.ipynb\r\n",
      "Get-the-Latitude-and-Longitude-From-a-Plot.ipynb\r\n",
      "GitHub-Video.ipynb\r\n",
      "Good-Using-Data-From-MyLinuxToyBox.ipynb\r\n",
      "HOT_spots_CASES.ipynb\r\n",
      "HOT_spots_world-deaths.ipynb\r\n",
      "JupyterJones_COVID-19-Jupyter-Notebooks.ipynb\r\n",
      "mouse-sizing-n-cropping-checkpoint-checkpoint.ipynb\r\n",
      "plotly.graph-Deaths-by-Country.ipynb\r\n",
      "Post-Plots-to-lbry.tv.ipynb\r\n",
      "Post-Plots-to-Twitter.ipynb\r\n",
      "Untitled.ipynb\r\n",
      "USA-Global-Map.ipynb\r\n",
      "US-DATA-CSSEGISandData-COVID-19_Creating-Plots.ipynb\r\n",
      "Using-MyLinuxToyBox---data.csv.ipynb\r\n",
      "Using-MyLinuxToyBox-Data.ipynb\r\n",
      "Using-US_State_Bounding_Boxes-py.ipynb\r\n",
      "US-States_HOT_spots_DEATHS.ipynb\r\n",
      "Working-With-Dates-and-TimeStamps.ipynb\r\n"
     ]
    }
   ],
   "source": [
    "!ls *.ipynb"
   ]
  },
  {
   "cell_type": "code",
   "execution_count": null,
   "metadata": {},
   "outputs": [],
   "source": []
  }
 ],
 "metadata": {
  "kernelspec": {
   "display_name": "Python(base)",
   "language": "python",
   "name": "base"
  },
  "language_info": {
   "codemirror_mode": {
    "name": "ipython",
    "version": 3
   },
   "file_extension": ".py",
   "mimetype": "text/x-python",
   "name": "python",
   "nbconvert_exporter": "python",
   "pygments_lexer": "ipython3",
   "version": "3.7.4"
  },
  "toc": {
   "base_numbering": 1,
   "nav_menu": {},
   "number_sections": true,
   "sideBar": true,
   "skip_h1_title": false,
   "title_cell": "Table of Contents",
   "title_sidebar": "Contents",
   "toc_cell": false,
   "toc_position": {},
   "toc_section_display": true,
   "toc_window_display": false
  }
 },
 "nbformat": 4,
 "nbformat_minor": 4
}
